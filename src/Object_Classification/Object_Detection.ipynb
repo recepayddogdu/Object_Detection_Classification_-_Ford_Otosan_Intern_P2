{
  "nbformat": 4,
  "nbformat_minor": 0,
  "metadata": {
    "colab": {
      "name": "Object_Detection.ipynb",
      "provenance": [],
      "collapsed_sections": [
        "uqbEp31ViBMY",
        "s_1meAhSyd2d",
        "RUaR8buSONmA"
      ]
    },
    "kernelspec": {
      "name": "python3",
      "display_name": "Python 3"
    },
    "language_info": {
      "name": "python"
    },
    "accelerator": "GPU",
    "widgets": {
      "application/vnd.jupyter.widget-state+json": {
        "7525fe972a604c8ebd13154d5e15621b": {
          "model_module": "@jupyter-widgets/controls",
          "model_name": "HBoxModel",
          "model_module_version": "1.5.0",
          "state": {
            "_view_name": "HBoxView",
            "_dom_classes": [],
            "_model_name": "HBoxModel",
            "_view_module": "@jupyter-widgets/controls",
            "_model_module_version": "1.5.0",
            "_view_count": null,
            "_view_module_version": "1.5.0",
            "box_style": "",
            "layout": "IPY_MODEL_7a63a29b438a4309867767080fb7f7a5",
            "_model_module": "@jupyter-widgets/controls",
            "children": [
              "IPY_MODEL_2d68b091f83844178af4671ed87342cb",
              "IPY_MODEL_7e85191e54c840598bf46c54f75d055a",
              "IPY_MODEL_32311678ad004a8f87e6da4896307228"
            ]
          }
        },
        "7a63a29b438a4309867767080fb7f7a5": {
          "model_module": "@jupyter-widgets/base",
          "model_name": "LayoutModel",
          "model_module_version": "1.2.0",
          "state": {
            "_view_name": "LayoutView",
            "grid_template_rows": null,
            "right": null,
            "justify_content": null,
            "_view_module": "@jupyter-widgets/base",
            "overflow": null,
            "_model_module_version": "1.2.0",
            "_view_count": null,
            "flex_flow": null,
            "width": null,
            "min_width": null,
            "border": null,
            "align_items": null,
            "bottom": null,
            "_model_module": "@jupyter-widgets/base",
            "top": null,
            "grid_column": null,
            "overflow_y": null,
            "overflow_x": null,
            "grid_auto_flow": null,
            "grid_area": null,
            "grid_template_columns": null,
            "flex": null,
            "_model_name": "LayoutModel",
            "justify_items": null,
            "grid_row": null,
            "max_height": null,
            "align_content": null,
            "visibility": null,
            "align_self": null,
            "height": null,
            "min_height": null,
            "padding": null,
            "grid_auto_rows": null,
            "grid_gap": null,
            "max_width": null,
            "order": null,
            "_view_module_version": "1.2.0",
            "grid_template_areas": null,
            "object_position": null,
            "object_fit": null,
            "grid_auto_columns": null,
            "margin": null,
            "display": null,
            "left": null
          }
        },
        "2d68b091f83844178af4671ed87342cb": {
          "model_module": "@jupyter-widgets/controls",
          "model_name": "HTMLModel",
          "model_module_version": "1.5.0",
          "state": {
            "_view_name": "HTMLView",
            "style": "IPY_MODEL_4cbba178aeb24509815ff57d6daf1ea7",
            "_dom_classes": [],
            "description": "",
            "_model_name": "HTMLModel",
            "placeholder": "​",
            "_view_module": "@jupyter-widgets/controls",
            "_model_module_version": "1.5.0",
            "value": "100%",
            "_view_count": null,
            "_view_module_version": "1.5.0",
            "description_tooltip": null,
            "_model_module": "@jupyter-widgets/controls",
            "layout": "IPY_MODEL_aa1e6005b1b64bee841d23bbdcbb1a4a"
          }
        },
        "7e85191e54c840598bf46c54f75d055a": {
          "model_module": "@jupyter-widgets/controls",
          "model_name": "FloatProgressModel",
          "model_module_version": "1.5.0",
          "state": {
            "_view_name": "ProgressView",
            "style": "IPY_MODEL_0bdd7ac521e74593b2037ffdd2c9203f",
            "_dom_classes": [],
            "description": "",
            "_model_name": "FloatProgressModel",
            "bar_style": "success",
            "max": 1936,
            "_view_module": "@jupyter-widgets/controls",
            "_model_module_version": "1.5.0",
            "value": 1936,
            "_view_count": null,
            "_view_module_version": "1.5.0",
            "orientation": "horizontal",
            "min": 0,
            "description_tooltip": null,
            "_model_module": "@jupyter-widgets/controls",
            "layout": "IPY_MODEL_fb957626034e4c148c885b351feceba3"
          }
        },
        "32311678ad004a8f87e6da4896307228": {
          "model_module": "@jupyter-widgets/controls",
          "model_name": "HTMLModel",
          "model_module_version": "1.5.0",
          "state": {
            "_view_name": "HTMLView",
            "style": "IPY_MODEL_bf11c6b7e6034754bbbf15d6a4d0e61e",
            "_dom_classes": [],
            "description": "",
            "_model_name": "HTMLModel",
            "placeholder": "​",
            "_view_module": "@jupyter-widgets/controls",
            "_model_module_version": "1.5.0",
            "value": " 1936/1936 [06:10&lt;00:00,  5.21it/s]",
            "_view_count": null,
            "_view_module_version": "1.5.0",
            "description_tooltip": null,
            "_model_module": "@jupyter-widgets/controls",
            "layout": "IPY_MODEL_1495615916144ae5b31270e2a0ae3dbd"
          }
        },
        "4cbba178aeb24509815ff57d6daf1ea7": {
          "model_module": "@jupyter-widgets/controls",
          "model_name": "DescriptionStyleModel",
          "model_module_version": "1.5.0",
          "state": {
            "_view_name": "StyleView",
            "_model_name": "DescriptionStyleModel",
            "description_width": "",
            "_view_module": "@jupyter-widgets/base",
            "_model_module_version": "1.5.0",
            "_view_count": null,
            "_view_module_version": "1.2.0",
            "_model_module": "@jupyter-widgets/controls"
          }
        },
        "aa1e6005b1b64bee841d23bbdcbb1a4a": {
          "model_module": "@jupyter-widgets/base",
          "model_name": "LayoutModel",
          "model_module_version": "1.2.0",
          "state": {
            "_view_name": "LayoutView",
            "grid_template_rows": null,
            "right": null,
            "justify_content": null,
            "_view_module": "@jupyter-widgets/base",
            "overflow": null,
            "_model_module_version": "1.2.0",
            "_view_count": null,
            "flex_flow": null,
            "width": null,
            "min_width": null,
            "border": null,
            "align_items": null,
            "bottom": null,
            "_model_module": "@jupyter-widgets/base",
            "top": null,
            "grid_column": null,
            "overflow_y": null,
            "overflow_x": null,
            "grid_auto_flow": null,
            "grid_area": null,
            "grid_template_columns": null,
            "flex": null,
            "_model_name": "LayoutModel",
            "justify_items": null,
            "grid_row": null,
            "max_height": null,
            "align_content": null,
            "visibility": null,
            "align_self": null,
            "height": null,
            "min_height": null,
            "padding": null,
            "grid_auto_rows": null,
            "grid_gap": null,
            "max_width": null,
            "order": null,
            "_view_module_version": "1.2.0",
            "grid_template_areas": null,
            "object_position": null,
            "object_fit": null,
            "grid_auto_columns": null,
            "margin": null,
            "display": null,
            "left": null
          }
        },
        "0bdd7ac521e74593b2037ffdd2c9203f": {
          "model_module": "@jupyter-widgets/controls",
          "model_name": "ProgressStyleModel",
          "model_module_version": "1.5.0",
          "state": {
            "_view_name": "StyleView",
            "_model_name": "ProgressStyleModel",
            "description_width": "",
            "_view_module": "@jupyter-widgets/base",
            "_model_module_version": "1.5.0",
            "_view_count": null,
            "_view_module_version": "1.2.0",
            "bar_color": null,
            "_model_module": "@jupyter-widgets/controls"
          }
        },
        "fb957626034e4c148c885b351feceba3": {
          "model_module": "@jupyter-widgets/base",
          "model_name": "LayoutModel",
          "model_module_version": "1.2.0",
          "state": {
            "_view_name": "LayoutView",
            "grid_template_rows": null,
            "right": null,
            "justify_content": null,
            "_view_module": "@jupyter-widgets/base",
            "overflow": null,
            "_model_module_version": "1.2.0",
            "_view_count": null,
            "flex_flow": null,
            "width": null,
            "min_width": null,
            "border": null,
            "align_items": null,
            "bottom": null,
            "_model_module": "@jupyter-widgets/base",
            "top": null,
            "grid_column": null,
            "overflow_y": null,
            "overflow_x": null,
            "grid_auto_flow": null,
            "grid_area": null,
            "grid_template_columns": null,
            "flex": null,
            "_model_name": "LayoutModel",
            "justify_items": null,
            "grid_row": null,
            "max_height": null,
            "align_content": null,
            "visibility": null,
            "align_self": null,
            "height": null,
            "min_height": null,
            "padding": null,
            "grid_auto_rows": null,
            "grid_gap": null,
            "max_width": null,
            "order": null,
            "_view_module_version": "1.2.0",
            "grid_template_areas": null,
            "object_position": null,
            "object_fit": null,
            "grid_auto_columns": null,
            "margin": null,
            "display": null,
            "left": null
          }
        },
        "bf11c6b7e6034754bbbf15d6a4d0e61e": {
          "model_module": "@jupyter-widgets/controls",
          "model_name": "DescriptionStyleModel",
          "model_module_version": "1.5.0",
          "state": {
            "_view_name": "StyleView",
            "_model_name": "DescriptionStyleModel",
            "description_width": "",
            "_view_module": "@jupyter-widgets/base",
            "_model_module_version": "1.5.0",
            "_view_count": null,
            "_view_module_version": "1.2.0",
            "_model_module": "@jupyter-widgets/controls"
          }
        },
        "1495615916144ae5b31270e2a0ae3dbd": {
          "model_module": "@jupyter-widgets/base",
          "model_name": "LayoutModel",
          "model_module_version": "1.2.0",
          "state": {
            "_view_name": "LayoutView",
            "grid_template_rows": null,
            "right": null,
            "justify_content": null,
            "_view_module": "@jupyter-widgets/base",
            "overflow": null,
            "_model_module_version": "1.2.0",
            "_view_count": null,
            "flex_flow": null,
            "width": null,
            "min_width": null,
            "border": null,
            "align_items": null,
            "bottom": null,
            "_model_module": "@jupyter-widgets/base",
            "top": null,
            "grid_column": null,
            "overflow_y": null,
            "overflow_x": null,
            "grid_auto_flow": null,
            "grid_area": null,
            "grid_template_columns": null,
            "flex": null,
            "_model_name": "LayoutModel",
            "justify_items": null,
            "grid_row": null,
            "max_height": null,
            "align_content": null,
            "visibility": null,
            "align_self": null,
            "height": null,
            "min_height": null,
            "padding": null,
            "grid_auto_rows": null,
            "grid_gap": null,
            "max_width": null,
            "order": null,
            "_view_module_version": "1.2.0",
            "grid_template_areas": null,
            "object_position": null,
            "object_fit": null,
            "grid_auto_columns": null,
            "margin": null,
            "display": null,
            "left": null
          }
        },
        "95d01231e12f4c84be4f0c3543080a8e": {
          "model_module": "@jupyter-widgets/controls",
          "model_name": "HBoxModel",
          "model_module_version": "1.5.0",
          "state": {
            "_view_name": "HBoxView",
            "_dom_classes": [],
            "_model_name": "HBoxModel",
            "_view_module": "@jupyter-widgets/controls",
            "_model_module_version": "1.5.0",
            "_view_count": null,
            "_view_module_version": "1.5.0",
            "box_style": "",
            "layout": "IPY_MODEL_6f098a73f04f461db52f72e5def92264",
            "_model_module": "@jupyter-widgets/controls",
            "children": [
              "IPY_MODEL_b9deb5e178c744ffaa6af2e10e79c390",
              "IPY_MODEL_d1c43efb5abd48158cdd9739a61a9418",
              "IPY_MODEL_809c9ed7612446b298d8aedad7bb5e66"
            ]
          }
        },
        "6f098a73f04f461db52f72e5def92264": {
          "model_module": "@jupyter-widgets/base",
          "model_name": "LayoutModel",
          "model_module_version": "1.2.0",
          "state": {
            "_view_name": "LayoutView",
            "grid_template_rows": null,
            "right": null,
            "justify_content": null,
            "_view_module": "@jupyter-widgets/base",
            "overflow": null,
            "_model_module_version": "1.2.0",
            "_view_count": null,
            "flex_flow": null,
            "width": null,
            "min_width": null,
            "border": null,
            "align_items": null,
            "bottom": null,
            "_model_module": "@jupyter-widgets/base",
            "top": null,
            "grid_column": null,
            "overflow_y": null,
            "overflow_x": null,
            "grid_auto_flow": null,
            "grid_area": null,
            "grid_template_columns": null,
            "flex": null,
            "_model_name": "LayoutModel",
            "justify_items": null,
            "grid_row": null,
            "max_height": null,
            "align_content": null,
            "visibility": null,
            "align_self": null,
            "height": null,
            "min_height": null,
            "padding": null,
            "grid_auto_rows": null,
            "grid_gap": null,
            "max_width": null,
            "order": null,
            "_view_module_version": "1.2.0",
            "grid_template_areas": null,
            "object_position": null,
            "object_fit": null,
            "grid_auto_columns": null,
            "margin": null,
            "display": null,
            "left": null
          }
        },
        "b9deb5e178c744ffaa6af2e10e79c390": {
          "model_module": "@jupyter-widgets/controls",
          "model_name": "HTMLModel",
          "model_module_version": "1.5.0",
          "state": {
            "_view_name": "HTMLView",
            "style": "IPY_MODEL_ffcc54a4974e458faa4e7e4bcc581e61",
            "_dom_classes": [],
            "description": "",
            "_model_name": "HTMLModel",
            "placeholder": "​",
            "_view_module": "@jupyter-widgets/controls",
            "_model_module_version": "1.5.0",
            "value": "100%",
            "_view_count": null,
            "_view_module_version": "1.5.0",
            "description_tooltip": null,
            "_model_module": "@jupyter-widgets/controls",
            "layout": "IPY_MODEL_7f418383366b4d3db5f04b62d7353add"
          }
        },
        "d1c43efb5abd48158cdd9739a61a9418": {
          "model_module": "@jupyter-widgets/controls",
          "model_name": "FloatProgressModel",
          "model_module_version": "1.5.0",
          "state": {
            "_view_name": "ProgressView",
            "style": "IPY_MODEL_6ec54213372949d786b9bdb1f4e1e73a",
            "_dom_classes": [],
            "description": "",
            "_model_name": "FloatProgressModel",
            "bar_style": "success",
            "max": 519,
            "_view_module": "@jupyter-widgets/controls",
            "_model_module_version": "1.5.0",
            "value": 519,
            "_view_count": null,
            "_view_module_version": "1.5.0",
            "orientation": "horizontal",
            "min": 0,
            "description_tooltip": null,
            "_model_module": "@jupyter-widgets/controls",
            "layout": "IPY_MODEL_8be58601b6594ae5b12a77e8a61f1c47"
          }
        },
        "809c9ed7612446b298d8aedad7bb5e66": {
          "model_module": "@jupyter-widgets/controls",
          "model_name": "HTMLModel",
          "model_module_version": "1.5.0",
          "state": {
            "_view_name": "HTMLView",
            "style": "IPY_MODEL_e58c342e8d7a408ea6a89d6dea60f4a3",
            "_dom_classes": [],
            "description": "",
            "_model_name": "HTMLModel",
            "placeholder": "​",
            "_view_module": "@jupyter-widgets/controls",
            "_model_module_version": "1.5.0",
            "value": " 519/519 [00:06&lt;00:00, 85.46it/s]",
            "_view_count": null,
            "_view_module_version": "1.5.0",
            "description_tooltip": null,
            "_model_module": "@jupyter-widgets/controls",
            "layout": "IPY_MODEL_cc2db6f2674344ae86cb587ee3083e62"
          }
        },
        "ffcc54a4974e458faa4e7e4bcc581e61": {
          "model_module": "@jupyter-widgets/controls",
          "model_name": "DescriptionStyleModel",
          "model_module_version": "1.5.0",
          "state": {
            "_view_name": "StyleView",
            "_model_name": "DescriptionStyleModel",
            "description_width": "",
            "_view_module": "@jupyter-widgets/base",
            "_model_module_version": "1.5.0",
            "_view_count": null,
            "_view_module_version": "1.2.0",
            "_model_module": "@jupyter-widgets/controls"
          }
        },
        "7f418383366b4d3db5f04b62d7353add": {
          "model_module": "@jupyter-widgets/base",
          "model_name": "LayoutModel",
          "model_module_version": "1.2.0",
          "state": {
            "_view_name": "LayoutView",
            "grid_template_rows": null,
            "right": null,
            "justify_content": null,
            "_view_module": "@jupyter-widgets/base",
            "overflow": null,
            "_model_module_version": "1.2.0",
            "_view_count": null,
            "flex_flow": null,
            "width": null,
            "min_width": null,
            "border": null,
            "align_items": null,
            "bottom": null,
            "_model_module": "@jupyter-widgets/base",
            "top": null,
            "grid_column": null,
            "overflow_y": null,
            "overflow_x": null,
            "grid_auto_flow": null,
            "grid_area": null,
            "grid_template_columns": null,
            "flex": null,
            "_model_name": "LayoutModel",
            "justify_items": null,
            "grid_row": null,
            "max_height": null,
            "align_content": null,
            "visibility": null,
            "align_self": null,
            "height": null,
            "min_height": null,
            "padding": null,
            "grid_auto_rows": null,
            "grid_gap": null,
            "max_width": null,
            "order": null,
            "_view_module_version": "1.2.0",
            "grid_template_areas": null,
            "object_position": null,
            "object_fit": null,
            "grid_auto_columns": null,
            "margin": null,
            "display": null,
            "left": null
          }
        },
        "6ec54213372949d786b9bdb1f4e1e73a": {
          "model_module": "@jupyter-widgets/controls",
          "model_name": "ProgressStyleModel",
          "model_module_version": "1.5.0",
          "state": {
            "_view_name": "StyleView",
            "_model_name": "ProgressStyleModel",
            "description_width": "",
            "_view_module": "@jupyter-widgets/base",
            "_model_module_version": "1.5.0",
            "_view_count": null,
            "_view_module_version": "1.2.0",
            "bar_color": null,
            "_model_module": "@jupyter-widgets/controls"
          }
        },
        "8be58601b6594ae5b12a77e8a61f1c47": {
          "model_module": "@jupyter-widgets/base",
          "model_name": "LayoutModel",
          "model_module_version": "1.2.0",
          "state": {
            "_view_name": "LayoutView",
            "grid_template_rows": null,
            "right": null,
            "justify_content": null,
            "_view_module": "@jupyter-widgets/base",
            "overflow": null,
            "_model_module_version": "1.2.0",
            "_view_count": null,
            "flex_flow": null,
            "width": null,
            "min_width": null,
            "border": null,
            "align_items": null,
            "bottom": null,
            "_model_module": "@jupyter-widgets/base",
            "top": null,
            "grid_column": null,
            "overflow_y": null,
            "overflow_x": null,
            "grid_auto_flow": null,
            "grid_area": null,
            "grid_template_columns": null,
            "flex": null,
            "_model_name": "LayoutModel",
            "justify_items": null,
            "grid_row": null,
            "max_height": null,
            "align_content": null,
            "visibility": null,
            "align_self": null,
            "height": null,
            "min_height": null,
            "padding": null,
            "grid_auto_rows": null,
            "grid_gap": null,
            "max_width": null,
            "order": null,
            "_view_module_version": "1.2.0",
            "grid_template_areas": null,
            "object_position": null,
            "object_fit": null,
            "grid_auto_columns": null,
            "margin": null,
            "display": null,
            "left": null
          }
        },
        "e58c342e8d7a408ea6a89d6dea60f4a3": {
          "model_module": "@jupyter-widgets/controls",
          "model_name": "DescriptionStyleModel",
          "model_module_version": "1.5.0",
          "state": {
            "_view_name": "StyleView",
            "_model_name": "DescriptionStyleModel",
            "description_width": "",
            "_view_module": "@jupyter-widgets/base",
            "_model_module_version": "1.5.0",
            "_view_count": null,
            "_view_module_version": "1.2.0",
            "_model_module": "@jupyter-widgets/controls"
          }
        },
        "cc2db6f2674344ae86cb587ee3083e62": {
          "model_module": "@jupyter-widgets/base",
          "model_name": "LayoutModel",
          "model_module_version": "1.2.0",
          "state": {
            "_view_name": "LayoutView",
            "grid_template_rows": null,
            "right": null,
            "justify_content": null,
            "_view_module": "@jupyter-widgets/base",
            "overflow": null,
            "_model_module_version": "1.2.0",
            "_view_count": null,
            "flex_flow": null,
            "width": null,
            "min_width": null,
            "border": null,
            "align_items": null,
            "bottom": null,
            "_model_module": "@jupyter-widgets/base",
            "top": null,
            "grid_column": null,
            "overflow_y": null,
            "overflow_x": null,
            "grid_auto_flow": null,
            "grid_area": null,
            "grid_template_columns": null,
            "flex": null,
            "_model_name": "LayoutModel",
            "justify_items": null,
            "grid_row": null,
            "max_height": null,
            "align_content": null,
            "visibility": null,
            "align_self": null,
            "height": null,
            "min_height": null,
            "padding": null,
            "grid_auto_rows": null,
            "grid_gap": null,
            "max_width": null,
            "order": null,
            "_view_module_version": "1.2.0",
            "grid_template_areas": null,
            "object_position": null,
            "object_fit": null,
            "grid_auto_columns": null,
            "margin": null,
            "display": null,
            "left": null
          }
        },
        "367e8e3186f044b2a6062a980ccf4001": {
          "model_module": "@jupyter-widgets/controls",
          "model_name": "HBoxModel",
          "model_module_version": "1.5.0",
          "state": {
            "_view_name": "HBoxView",
            "_dom_classes": [],
            "_model_name": "HBoxModel",
            "_view_module": "@jupyter-widgets/controls",
            "_model_module_version": "1.5.0",
            "_view_count": null,
            "_view_module_version": "1.5.0",
            "box_style": "",
            "layout": "IPY_MODEL_0ca38c2126e3409d855117c2a9612072",
            "_model_module": "@jupyter-widgets/controls",
            "children": [
              "IPY_MODEL_46b12b24e3b248bc8ffbdb427e1034cc",
              "IPY_MODEL_11046eb8acc84e9c8fa7cf4a65556a95",
              "IPY_MODEL_0dc1de87d0144fabaf89b2438f240b3d"
            ]
          }
        },
        "0ca38c2126e3409d855117c2a9612072": {
          "model_module": "@jupyter-widgets/base",
          "model_name": "LayoutModel",
          "model_module_version": "1.2.0",
          "state": {
            "_view_name": "LayoutView",
            "grid_template_rows": null,
            "right": null,
            "justify_content": null,
            "_view_module": "@jupyter-widgets/base",
            "overflow": null,
            "_model_module_version": "1.2.0",
            "_view_count": null,
            "flex_flow": null,
            "width": null,
            "min_width": null,
            "border": null,
            "align_items": null,
            "bottom": null,
            "_model_module": "@jupyter-widgets/base",
            "top": null,
            "grid_column": null,
            "overflow_y": null,
            "overflow_x": null,
            "grid_auto_flow": null,
            "grid_area": null,
            "grid_template_columns": null,
            "flex": null,
            "_model_name": "LayoutModel",
            "justify_items": null,
            "grid_row": null,
            "max_height": null,
            "align_content": null,
            "visibility": null,
            "align_self": null,
            "height": null,
            "min_height": null,
            "padding": null,
            "grid_auto_rows": null,
            "grid_gap": null,
            "max_width": null,
            "order": null,
            "_view_module_version": "1.2.0",
            "grid_template_areas": null,
            "object_position": null,
            "object_fit": null,
            "grid_auto_columns": null,
            "margin": null,
            "display": null,
            "left": null
          }
        },
        "46b12b24e3b248bc8ffbdb427e1034cc": {
          "model_module": "@jupyter-widgets/controls",
          "model_name": "HTMLModel",
          "model_module_version": "1.5.0",
          "state": {
            "_view_name": "HTMLView",
            "style": "IPY_MODEL_ccd1fb361a874c1d906ed8dbd5ce1f03",
            "_dom_classes": [],
            "description": "",
            "_model_name": "HTMLModel",
            "placeholder": "​",
            "_view_module": "@jupyter-widgets/controls",
            "_model_module_version": "1.5.0",
            "value": "100%",
            "_view_count": null,
            "_view_module_version": "1.5.0",
            "description_tooltip": null,
            "_model_module": "@jupyter-widgets/controls",
            "layout": "IPY_MODEL_0232ad05e7fa43f5af5e4372202432e0"
          }
        },
        "11046eb8acc84e9c8fa7cf4a65556a95": {
          "model_module": "@jupyter-widgets/controls",
          "model_name": "FloatProgressModel",
          "model_module_version": "1.5.0",
          "state": {
            "_view_name": "ProgressView",
            "style": "IPY_MODEL_ba9d2ed703b549c7982a1c5bedf3d03a",
            "_dom_classes": [],
            "description": "",
            "_model_name": "FloatProgressModel",
            "bar_style": "success",
            "max": 519,
            "_view_module": "@jupyter-widgets/controls",
            "_model_module_version": "1.5.0",
            "value": 519,
            "_view_count": null,
            "_view_module_version": "1.5.0",
            "orientation": "horizontal",
            "min": 0,
            "description_tooltip": null,
            "_model_module": "@jupyter-widgets/controls",
            "layout": "IPY_MODEL_c20fc9165fab484ea263120afc3634ba"
          }
        },
        "0dc1de87d0144fabaf89b2438f240b3d": {
          "model_module": "@jupyter-widgets/controls",
          "model_name": "HTMLModel",
          "model_module_version": "1.5.0",
          "state": {
            "_view_name": "HTMLView",
            "style": "IPY_MODEL_4b8b64cc937e4f56a5dca1f03d9f49f1",
            "_dom_classes": [],
            "description": "",
            "_model_name": "HTMLModel",
            "placeholder": "​",
            "_view_module": "@jupyter-widgets/controls",
            "_model_module_version": "1.5.0",
            "value": " 519/519 [00:03&lt;00:00, 123.29it/s]",
            "_view_count": null,
            "_view_module_version": "1.5.0",
            "description_tooltip": null,
            "_model_module": "@jupyter-widgets/controls",
            "layout": "IPY_MODEL_de4413398d854105bb4c119a968660f1"
          }
        },
        "ccd1fb361a874c1d906ed8dbd5ce1f03": {
          "model_module": "@jupyter-widgets/controls",
          "model_name": "DescriptionStyleModel",
          "model_module_version": "1.5.0",
          "state": {
            "_view_name": "StyleView",
            "_model_name": "DescriptionStyleModel",
            "description_width": "",
            "_view_module": "@jupyter-widgets/base",
            "_model_module_version": "1.5.0",
            "_view_count": null,
            "_view_module_version": "1.2.0",
            "_model_module": "@jupyter-widgets/controls"
          }
        },
        "0232ad05e7fa43f5af5e4372202432e0": {
          "model_module": "@jupyter-widgets/base",
          "model_name": "LayoutModel",
          "model_module_version": "1.2.0",
          "state": {
            "_view_name": "LayoutView",
            "grid_template_rows": null,
            "right": null,
            "justify_content": null,
            "_view_module": "@jupyter-widgets/base",
            "overflow": null,
            "_model_module_version": "1.2.0",
            "_view_count": null,
            "flex_flow": null,
            "width": null,
            "min_width": null,
            "border": null,
            "align_items": null,
            "bottom": null,
            "_model_module": "@jupyter-widgets/base",
            "top": null,
            "grid_column": null,
            "overflow_y": null,
            "overflow_x": null,
            "grid_auto_flow": null,
            "grid_area": null,
            "grid_template_columns": null,
            "flex": null,
            "_model_name": "LayoutModel",
            "justify_items": null,
            "grid_row": null,
            "max_height": null,
            "align_content": null,
            "visibility": null,
            "align_self": null,
            "height": null,
            "min_height": null,
            "padding": null,
            "grid_auto_rows": null,
            "grid_gap": null,
            "max_width": null,
            "order": null,
            "_view_module_version": "1.2.0",
            "grid_template_areas": null,
            "object_position": null,
            "object_fit": null,
            "grid_auto_columns": null,
            "margin": null,
            "display": null,
            "left": null
          }
        },
        "ba9d2ed703b549c7982a1c5bedf3d03a": {
          "model_module": "@jupyter-widgets/controls",
          "model_name": "ProgressStyleModel",
          "model_module_version": "1.5.0",
          "state": {
            "_view_name": "StyleView",
            "_model_name": "ProgressStyleModel",
            "description_width": "",
            "_view_module": "@jupyter-widgets/base",
            "_model_module_version": "1.5.0",
            "_view_count": null,
            "_view_module_version": "1.2.0",
            "bar_color": null,
            "_model_module": "@jupyter-widgets/controls"
          }
        },
        "c20fc9165fab484ea263120afc3634ba": {
          "model_module": "@jupyter-widgets/base",
          "model_name": "LayoutModel",
          "model_module_version": "1.2.0",
          "state": {
            "_view_name": "LayoutView",
            "grid_template_rows": null,
            "right": null,
            "justify_content": null,
            "_view_module": "@jupyter-widgets/base",
            "overflow": null,
            "_model_module_version": "1.2.0",
            "_view_count": null,
            "flex_flow": null,
            "width": null,
            "min_width": null,
            "border": null,
            "align_items": null,
            "bottom": null,
            "_model_module": "@jupyter-widgets/base",
            "top": null,
            "grid_column": null,
            "overflow_y": null,
            "overflow_x": null,
            "grid_auto_flow": null,
            "grid_area": null,
            "grid_template_columns": null,
            "flex": null,
            "_model_name": "LayoutModel",
            "justify_items": null,
            "grid_row": null,
            "max_height": null,
            "align_content": null,
            "visibility": null,
            "align_self": null,
            "height": null,
            "min_height": null,
            "padding": null,
            "grid_auto_rows": null,
            "grid_gap": null,
            "max_width": null,
            "order": null,
            "_view_module_version": "1.2.0",
            "grid_template_areas": null,
            "object_position": null,
            "object_fit": null,
            "grid_auto_columns": null,
            "margin": null,
            "display": null,
            "left": null
          }
        },
        "4b8b64cc937e4f56a5dca1f03d9f49f1": {
          "model_module": "@jupyter-widgets/controls",
          "model_name": "DescriptionStyleModel",
          "model_module_version": "1.5.0",
          "state": {
            "_view_name": "StyleView",
            "_model_name": "DescriptionStyleModel",
            "description_width": "",
            "_view_module": "@jupyter-widgets/base",
            "_model_module_version": "1.5.0",
            "_view_count": null,
            "_view_module_version": "1.2.0",
            "_model_module": "@jupyter-widgets/controls"
          }
        },
        "de4413398d854105bb4c119a968660f1": {
          "model_module": "@jupyter-widgets/base",
          "model_name": "LayoutModel",
          "model_module_version": "1.2.0",
          "state": {
            "_view_name": "LayoutView",
            "grid_template_rows": null,
            "right": null,
            "justify_content": null,
            "_view_module": "@jupyter-widgets/base",
            "overflow": null,
            "_model_module_version": "1.2.0",
            "_view_count": null,
            "flex_flow": null,
            "width": null,
            "min_width": null,
            "border": null,
            "align_items": null,
            "bottom": null,
            "_model_module": "@jupyter-widgets/base",
            "top": null,
            "grid_column": null,
            "overflow_y": null,
            "overflow_x": null,
            "grid_auto_flow": null,
            "grid_area": null,
            "grid_template_columns": null,
            "flex": null,
            "_model_name": "LayoutModel",
            "justify_items": null,
            "grid_row": null,
            "max_height": null,
            "align_content": null,
            "visibility": null,
            "align_self": null,
            "height": null,
            "min_height": null,
            "padding": null,
            "grid_auto_rows": null,
            "grid_gap": null,
            "max_width": null,
            "order": null,
            "_view_module_version": "1.2.0",
            "grid_template_areas": null,
            "object_position": null,
            "object_fit": null,
            "grid_auto_columns": null,
            "margin": null,
            "display": null,
            "left": null
          }
        },
        "1665ed9afaf449798541edcdcbfa33af": {
          "model_module": "@jupyter-widgets/controls",
          "model_name": "HBoxModel",
          "model_module_version": "1.5.0",
          "state": {
            "_view_name": "HBoxView",
            "_dom_classes": [],
            "_model_name": "HBoxModel",
            "_view_module": "@jupyter-widgets/controls",
            "_model_module_version": "1.5.0",
            "_view_count": null,
            "_view_module_version": "1.5.0",
            "box_style": "",
            "layout": "IPY_MODEL_d2535b32c5f947ec9eac398f951cf760",
            "_model_module": "@jupyter-widgets/controls",
            "children": [
              "IPY_MODEL_4869cc9ce5414b4889a6775677f27168",
              "IPY_MODEL_c0b98e30af9045ada772c0f91b983184",
              "IPY_MODEL_af76407160f84237bfaa8891a836e13d"
            ]
          }
        },
        "d2535b32c5f947ec9eac398f951cf760": {
          "model_module": "@jupyter-widgets/base",
          "model_name": "LayoutModel",
          "model_module_version": "1.2.0",
          "state": {
            "_view_name": "LayoutView",
            "grid_template_rows": null,
            "right": null,
            "justify_content": null,
            "_view_module": "@jupyter-widgets/base",
            "overflow": null,
            "_model_module_version": "1.2.0",
            "_view_count": null,
            "flex_flow": null,
            "width": null,
            "min_width": null,
            "border": null,
            "align_items": null,
            "bottom": null,
            "_model_module": "@jupyter-widgets/base",
            "top": null,
            "grid_column": null,
            "overflow_y": null,
            "overflow_x": null,
            "grid_auto_flow": null,
            "grid_area": null,
            "grid_template_columns": null,
            "flex": null,
            "_model_name": "LayoutModel",
            "justify_items": null,
            "grid_row": null,
            "max_height": null,
            "align_content": null,
            "visibility": null,
            "align_self": null,
            "height": null,
            "min_height": null,
            "padding": null,
            "grid_auto_rows": null,
            "grid_gap": null,
            "max_width": null,
            "order": null,
            "_view_module_version": "1.2.0",
            "grid_template_areas": null,
            "object_position": null,
            "object_fit": null,
            "grid_auto_columns": null,
            "margin": null,
            "display": null,
            "left": null
          }
        },
        "4869cc9ce5414b4889a6775677f27168": {
          "model_module": "@jupyter-widgets/controls",
          "model_name": "HTMLModel",
          "model_module_version": "1.5.0",
          "state": {
            "_view_name": "HTMLView",
            "style": "IPY_MODEL_58aedf1b588843ecb10d85417e75ae37",
            "_dom_classes": [],
            "description": "",
            "_model_name": "HTMLModel",
            "placeholder": "​",
            "_view_module": "@jupyter-widgets/controls",
            "_model_module_version": "1.5.0",
            "value": "100%",
            "_view_count": null,
            "_view_module_version": "1.5.0",
            "description_tooltip": null,
            "_model_module": "@jupyter-widgets/controls",
            "layout": "IPY_MODEL_d59884093b0848ef8dfb05114a6ca9be"
          }
        },
        "c0b98e30af9045ada772c0f91b983184": {
          "model_module": "@jupyter-widgets/controls",
          "model_name": "FloatProgressModel",
          "model_module_version": "1.5.0",
          "state": {
            "_view_name": "ProgressView",
            "style": "IPY_MODEL_492c6d3740824d19988f2597bc0cb230",
            "_dom_classes": [],
            "description": "",
            "_model_name": "FloatProgressModel",
            "bar_style": "success",
            "max": 519,
            "_view_module": "@jupyter-widgets/controls",
            "_model_module_version": "1.5.0",
            "value": 519,
            "_view_count": null,
            "_view_module_version": "1.5.0",
            "orientation": "horizontal",
            "min": 0,
            "description_tooltip": null,
            "_model_module": "@jupyter-widgets/controls",
            "layout": "IPY_MODEL_ec3e7d96b8494a2f9a3d25ffb75a32fd"
          }
        },
        "af76407160f84237bfaa8891a836e13d": {
          "model_module": "@jupyter-widgets/controls",
          "model_name": "HTMLModel",
          "model_module_version": "1.5.0",
          "state": {
            "_view_name": "HTMLView",
            "style": "IPY_MODEL_74c8b8ea81c14f60853d10875a861775",
            "_dom_classes": [],
            "description": "",
            "_model_name": "HTMLModel",
            "placeholder": "​",
            "_view_module": "@jupyter-widgets/controls",
            "_model_module_version": "1.5.0",
            "value": " 519/519 [32:06&lt;00:00,  3.41s/it]",
            "_view_count": null,
            "_view_module_version": "1.5.0",
            "description_tooltip": null,
            "_model_module": "@jupyter-widgets/controls",
            "layout": "IPY_MODEL_bbfc907e9a8c41bebfbe6ae1dc774ab1"
          }
        },
        "58aedf1b588843ecb10d85417e75ae37": {
          "model_module": "@jupyter-widgets/controls",
          "model_name": "DescriptionStyleModel",
          "model_module_version": "1.5.0",
          "state": {
            "_view_name": "StyleView",
            "_model_name": "DescriptionStyleModel",
            "description_width": "",
            "_view_module": "@jupyter-widgets/base",
            "_model_module_version": "1.5.0",
            "_view_count": null,
            "_view_module_version": "1.2.0",
            "_model_module": "@jupyter-widgets/controls"
          }
        },
        "d59884093b0848ef8dfb05114a6ca9be": {
          "model_module": "@jupyter-widgets/base",
          "model_name": "LayoutModel",
          "model_module_version": "1.2.0",
          "state": {
            "_view_name": "LayoutView",
            "grid_template_rows": null,
            "right": null,
            "justify_content": null,
            "_view_module": "@jupyter-widgets/base",
            "overflow": null,
            "_model_module_version": "1.2.0",
            "_view_count": null,
            "flex_flow": null,
            "width": null,
            "min_width": null,
            "border": null,
            "align_items": null,
            "bottom": null,
            "_model_module": "@jupyter-widgets/base",
            "top": null,
            "grid_column": null,
            "overflow_y": null,
            "overflow_x": null,
            "grid_auto_flow": null,
            "grid_area": null,
            "grid_template_columns": null,
            "flex": null,
            "_model_name": "LayoutModel",
            "justify_items": null,
            "grid_row": null,
            "max_height": null,
            "align_content": null,
            "visibility": null,
            "align_self": null,
            "height": null,
            "min_height": null,
            "padding": null,
            "grid_auto_rows": null,
            "grid_gap": null,
            "max_width": null,
            "order": null,
            "_view_module_version": "1.2.0",
            "grid_template_areas": null,
            "object_position": null,
            "object_fit": null,
            "grid_auto_columns": null,
            "margin": null,
            "display": null,
            "left": null
          }
        },
        "492c6d3740824d19988f2597bc0cb230": {
          "model_module": "@jupyter-widgets/controls",
          "model_name": "ProgressStyleModel",
          "model_module_version": "1.5.0",
          "state": {
            "_view_name": "StyleView",
            "_model_name": "ProgressStyleModel",
            "description_width": "",
            "_view_module": "@jupyter-widgets/base",
            "_model_module_version": "1.5.0",
            "_view_count": null,
            "_view_module_version": "1.2.0",
            "bar_color": null,
            "_model_module": "@jupyter-widgets/controls"
          }
        },
        "ec3e7d96b8494a2f9a3d25ffb75a32fd": {
          "model_module": "@jupyter-widgets/base",
          "model_name": "LayoutModel",
          "model_module_version": "1.2.0",
          "state": {
            "_view_name": "LayoutView",
            "grid_template_rows": null,
            "right": null,
            "justify_content": null,
            "_view_module": "@jupyter-widgets/base",
            "overflow": null,
            "_model_module_version": "1.2.0",
            "_view_count": null,
            "flex_flow": null,
            "width": null,
            "min_width": null,
            "border": null,
            "align_items": null,
            "bottom": null,
            "_model_module": "@jupyter-widgets/base",
            "top": null,
            "grid_column": null,
            "overflow_y": null,
            "overflow_x": null,
            "grid_auto_flow": null,
            "grid_area": null,
            "grid_template_columns": null,
            "flex": null,
            "_model_name": "LayoutModel",
            "justify_items": null,
            "grid_row": null,
            "max_height": null,
            "align_content": null,
            "visibility": null,
            "align_self": null,
            "height": null,
            "min_height": null,
            "padding": null,
            "grid_auto_rows": null,
            "grid_gap": null,
            "max_width": null,
            "order": null,
            "_view_module_version": "1.2.0",
            "grid_template_areas": null,
            "object_position": null,
            "object_fit": null,
            "grid_auto_columns": null,
            "margin": null,
            "display": null,
            "left": null
          }
        },
        "74c8b8ea81c14f60853d10875a861775": {
          "model_module": "@jupyter-widgets/controls",
          "model_name": "DescriptionStyleModel",
          "model_module_version": "1.5.0",
          "state": {
            "_view_name": "StyleView",
            "_model_name": "DescriptionStyleModel",
            "description_width": "",
            "_view_module": "@jupyter-widgets/base",
            "_model_module_version": "1.5.0",
            "_view_count": null,
            "_view_module_version": "1.2.0",
            "_model_module": "@jupyter-widgets/controls"
          }
        },
        "bbfc907e9a8c41bebfbe6ae1dc774ab1": {
          "model_module": "@jupyter-widgets/base",
          "model_name": "LayoutModel",
          "model_module_version": "1.2.0",
          "state": {
            "_view_name": "LayoutView",
            "grid_template_rows": null,
            "right": null,
            "justify_content": null,
            "_view_module": "@jupyter-widgets/base",
            "overflow": null,
            "_model_module_version": "1.2.0",
            "_view_count": null,
            "flex_flow": null,
            "width": null,
            "min_width": null,
            "border": null,
            "align_items": null,
            "bottom": null,
            "_model_module": "@jupyter-widgets/base",
            "top": null,
            "grid_column": null,
            "overflow_y": null,
            "overflow_x": null,
            "grid_auto_flow": null,
            "grid_area": null,
            "grid_template_columns": null,
            "flex": null,
            "_model_name": "LayoutModel",
            "justify_items": null,
            "grid_row": null,
            "max_height": null,
            "align_content": null,
            "visibility": null,
            "align_self": null,
            "height": null,
            "min_height": null,
            "padding": null,
            "grid_auto_rows": null,
            "grid_gap": null,
            "max_width": null,
            "order": null,
            "_view_module_version": "1.2.0",
            "grid_template_areas": null,
            "object_position": null,
            "object_fit": null,
            "grid_auto_columns": null,
            "margin": null,
            "display": null,
            "left": null
          }
        }
      }
    }
  },
  "cells": [
    {
      "cell_type": "markdown",
      "metadata": {
        "id": "ecW467fbNc4N"
      },
      "source": [
        "# YOLOV4 OBJECT DETECTION"
      ]
    },
    {
      "cell_type": "markdown",
      "metadata": {
        "id": "_TEYbG1yNTFd"
      },
      "source": [
        "### STEP 1: DARKNET CLONE AND INSTALLATION"
      ]
    },
    {
      "cell_type": "code",
      "metadata": {
        "id": "ny1G-RZtG4Na"
      },
      "source": [
        "#!unzip -d /content/drive/MyDrive /content/drive/MyDrive/yolov4.zip"
      ],
      "execution_count": null,
      "outputs": []
    },
    {
      "cell_type": "code",
      "metadata": {
        "id": "kHYXSr5cDHDD"
      },
      "source": [
        "#!zip -r /content/gdrive/MyDrive/yolov4.zip /content/gdrive/MyDrive/yolov4"
      ],
      "execution_count": null,
      "outputs": []
    },
    {
      "cell_type": "code",
      "metadata": {
        "id": "mDaCPqPPMtI5",
        "colab": {
          "base_uri": "https://localhost:8080/"
        },
        "outputId": "cbc729ee-c78b-4790-d5a3-070be9d1d7e6"
      },
      "source": [
        "# clone darknet repo\n",
        "!git clone https://github.com/AlexeyAB/darknet"
      ],
      "execution_count": 1,
      "outputs": [
        {
          "output_type": "stream",
          "name": "stdout",
          "text": [
            "Cloning into 'darknet'...\n",
            "remote: Enumerating objects: 15308, done.\u001b[K\n",
            "remote: Total 15308 (delta 0), reused 0 (delta 0), pack-reused 15308\u001b[K\n",
            "Receiving objects: 100% (15308/15308), 13.69 MiB | 16.85 MiB/s, done.\n",
            "Resolving deltas: 100% (10404/10404), done.\n"
          ]
        }
      ]
    },
    {
      "cell_type": "code",
      "metadata": {
        "id": "FxkteNoim6IE"
      },
      "source": [
        "!cp /content/drive/MyDrive/Studies/Intern/yolov4/image.c /content/darknet/src"
      ],
      "execution_count": 2,
      "outputs": []
    },
    {
      "cell_type": "code",
      "metadata": {
        "id": "HZjRJqIjzupb",
        "colab": {
          "base_uri": "https://localhost:8080/"
        },
        "outputId": "563cfed2-b7a0-46cc-f556-b7195b171016"
      },
      "source": [
        "from google.colab import drive\n",
        "drive.mount('/content/drive')"
      ],
      "execution_count": null,
      "outputs": [
        {
          "output_type": "stream",
          "name": "stdout",
          "text": [
            "Drive already mounted at /content/drive; to attempt to forcibly remount, call drive.mount(\"/content/drive\", force_remount=True).\n"
          ]
        }
      ]
    },
    {
      "cell_type": "code",
      "metadata": {
        "id": "sn6ant8qNlYA",
        "colab": {
          "base_uri": "https://localhost:8080/"
        },
        "outputId": "c19ffc76-c75f-4bdc-9b55-3723843f83dd"
      },
      "source": [
        "# change makefile to have GPU and OPENCV enabled\n",
        "%cd darknet\n",
        "!sed -i 's/OPENCV=0/OPENCV=1/' Makefile  #I will use opencv library in darknet\n",
        "!sed -i 's/GPU=0/GPU=1/' Makefile #I will use cpu library in darknet\n",
        "!sed -i 's/CUDNN=0/CUDNN=1/' Makefile #cudnn a necessary tool for cpu\n",
        "!sed -i 's/CUDNN_HALF=0/CUDNN_HALF=1/' Makefile"
      ],
      "execution_count": 3,
      "outputs": [
        {
          "output_type": "stream",
          "name": "stdout",
          "text": [
            "/content/darknet\n"
          ]
        }
      ]
    },
    {
      "cell_type": "code",
      "metadata": {
        "id": "zHsCoQi7OX13",
        "colab": {
          "base_uri": "https://localhost:8080/"
        },
        "outputId": "07ac318e-d612-4654-9b06-8b2fdc77e230"
      },
      "source": [
        "# verify CUDA\n",
        "!/usr/local/cuda/bin/nvcc --version"
      ],
      "execution_count": null,
      "outputs": [
        {
          "output_type": "stream",
          "name": "stdout",
          "text": [
            "nvcc: NVIDIA (R) Cuda compiler driver\n",
            "Copyright (c) 2005-2020 NVIDIA Corporation\n",
            "Built on Wed_Jul_22_19:09:09_PDT_2020\n",
            "Cuda compilation tools, release 11.0, V11.0.221\n",
            "Build cuda_11.0_bu.TC445_37.28845127_0\n"
          ]
        }
      ]
    },
    {
      "cell_type": "code",
      "metadata": {
        "id": "UALaKDuxOhGW",
        "colab": {
          "base_uri": "https://localhost:8080/"
        },
        "outputId": "8f63c260-d0db-4d6d-bf43-e07e71f62cb7"
      },
      "source": [
        "# make darknet (builds darknet so that you can then use the darknet executable file to run or train object detectors)\n",
        "!make"
      ],
      "execution_count": 4,
      "outputs": [
        {
          "output_type": "stream",
          "name": "stdout",
          "text": [
            "mkdir -p ./obj/\n",
            "mkdir -p backup\n",
            "chmod +x *.sh\n",
            "g++ -std=c++11 -std=c++11 -Iinclude/ -I3rdparty/stb/include -DOPENCV `pkg-config --cflags opencv4 2> /dev/null || pkg-config --cflags opencv` -DGPU -I/usr/local/cuda/include/ -DCUDNN -DCUDNN_HALF -Wall -Wfatal-errors -Wno-unused-result -Wno-unknown-pragmas -fPIC -Ofast -DOPENCV -DGPU -DCUDNN -I/usr/local/cudnn/include -DCUDNN_HALF -c ./src/image_opencv.cpp -o obj/image_opencv.o\n",
            "\u001b[01m\u001b[K./src/image_opencv.cpp:\u001b[m\u001b[K In function ‘\u001b[01m\u001b[Kvoid draw_detections_cv_v3(void**, detection*, int, float, char**, image**, int, int)\u001b[m\u001b[K’:\n",
            "\u001b[01m\u001b[K./src/image_opencv.cpp:946:23:\u001b[m\u001b[K \u001b[01;35m\u001b[Kwarning: \u001b[m\u001b[Kvariable ‘\u001b[01m\u001b[Krgb\u001b[m\u001b[K’ set but not used [\u001b[01;35m\u001b[K-Wunused-but-set-variable\u001b[m\u001b[K]\n",
            "                 float \u001b[01;35m\u001b[Krgb\u001b[m\u001b[K[3];\n",
            "                       \u001b[01;35m\u001b[K^~~\u001b[m\u001b[K\n",
            "\u001b[01m\u001b[K./src/image_opencv.cpp:\u001b[m\u001b[K In function ‘\u001b[01m\u001b[Kvoid draw_train_loss(char*, void**, int, float, float, int, int, float, int, char*, float, int, int, double)\u001b[m\u001b[K’:\n",
            "\u001b[01m\u001b[K./src/image_opencv.cpp:1147:13:\u001b[m\u001b[K \u001b[01;35m\u001b[Kwarning: \u001b[m\u001b[Kthis ‘\u001b[01m\u001b[Kif\u001b[m\u001b[K’ clause does not guard... [\u001b[01;35m\u001b[K-Wmisleading-indentation\u001b[m\u001b[K]\n",
            "             \u001b[01;35m\u001b[Kif\u001b[m\u001b[K (iteration_old == 0)\n",
            "             \u001b[01;35m\u001b[K^~\u001b[m\u001b[K\n",
            "\u001b[01m\u001b[K./src/image_opencv.cpp:1150:10:\u001b[m\u001b[K \u001b[01;36m\u001b[Knote: \u001b[m\u001b[K...this statement, but the latter is misleadingly indented as if it were guarded by the ‘\u001b[01m\u001b[Kif\u001b[m\u001b[K’\n",
            "          \u001b[01;36m\u001b[Kif\u001b[m\u001b[K (iteration_old != 0){\n",
            "          \u001b[01;36m\u001b[K^~\u001b[m\u001b[K\n",
            "\u001b[01m\u001b[K./src/image_opencv.cpp:\u001b[m\u001b[K In function ‘\u001b[01m\u001b[Kvoid cv_draw_object(image, float*, int, int, int*, float*, int*, int, char**)\u001b[m\u001b[K’:\n",
            "\u001b[01m\u001b[K./src/image_opencv.cpp:1444:14:\u001b[m\u001b[K \u001b[01;35m\u001b[Kwarning: \u001b[m\u001b[Kunused variable ‘\u001b[01m\u001b[Kbuff\u001b[m\u001b[K’ [\u001b[01;35m\u001b[K-Wunused-variable\u001b[m\u001b[K]\n",
            "         char \u001b[01;35m\u001b[Kbuff\u001b[m\u001b[K[100];\n",
            "              \u001b[01;35m\u001b[K^~~~\u001b[m\u001b[K\n",
            "\u001b[01m\u001b[K./src/image_opencv.cpp:1420:9:\u001b[m\u001b[K \u001b[01;35m\u001b[Kwarning: \u001b[m\u001b[Kunused variable ‘\u001b[01m\u001b[Kit_tb_res\u001b[m\u001b[K’ [\u001b[01;35m\u001b[K-Wunused-variable\u001b[m\u001b[K]\n",
            "     int \u001b[01;35m\u001b[Kit_tb_res\u001b[m\u001b[K = cv::createTrackbar(it_trackbar_name, window_name, &it_trackbar_value, 1000);\n",
            "         \u001b[01;35m\u001b[K^~~~~~~~~\u001b[m\u001b[K\n",
            "\u001b[01m\u001b[K./src/image_opencv.cpp:1424:9:\u001b[m\u001b[K \u001b[01;35m\u001b[Kwarning: \u001b[m\u001b[Kunused variable ‘\u001b[01m\u001b[Klr_tb_res\u001b[m\u001b[K’ [\u001b[01;35m\u001b[K-Wunused-variable\u001b[m\u001b[K]\n",
            "     int \u001b[01;35m\u001b[Klr_tb_res\u001b[m\u001b[K = cv::createTrackbar(lr_trackbar_name, window_name, &lr_trackbar_value, 20);\n",
            "         \u001b[01;35m\u001b[K^~~~~~~~~\u001b[m\u001b[K\n",
            "\u001b[01m\u001b[K./src/image_opencv.cpp:1428:9:\u001b[m\u001b[K \u001b[01;35m\u001b[Kwarning: \u001b[m\u001b[Kunused variable ‘\u001b[01m\u001b[Kcl_tb_res\u001b[m\u001b[K’ [\u001b[01;35m\u001b[K-Wunused-variable\u001b[m\u001b[K]\n",
            "     int \u001b[01;35m\u001b[Kcl_tb_res\u001b[m\u001b[K = cv::createTrackbar(cl_trackbar_name, window_name, &cl_trackbar_value, classes-1);\n",
            "         \u001b[01;35m\u001b[K^~~~~~~~~\u001b[m\u001b[K\n",
            "\u001b[01m\u001b[K./src/image_opencv.cpp:1431:9:\u001b[m\u001b[K \u001b[01;35m\u001b[Kwarning: \u001b[m\u001b[Kunused variable ‘\u001b[01m\u001b[Kbo_tb_res\u001b[m\u001b[K’ [\u001b[01;35m\u001b[K-Wunused-variable\u001b[m\u001b[K]\n",
            "     int \u001b[01;35m\u001b[Kbo_tb_res\u001b[m\u001b[K = cv::createTrackbar(bo_trackbar_name, window_name, boxonly, 1);\n",
            "         \u001b[01;35m\u001b[K^~~~~~~~~\u001b[m\u001b[K\n",
            "g++ -std=c++11 -std=c++11 -Iinclude/ -I3rdparty/stb/include -DOPENCV `pkg-config --cflags opencv4 2> /dev/null || pkg-config --cflags opencv` -DGPU -I/usr/local/cuda/include/ -DCUDNN -DCUDNN_HALF -Wall -Wfatal-errors -Wno-unused-result -Wno-unknown-pragmas -fPIC -Ofast -DOPENCV -DGPU -DCUDNN -I/usr/local/cudnn/include -DCUDNN_HALF -c ./src/http_stream.cpp -o obj/http_stream.o\n",
            "\u001b[01m\u001b[K./src/http_stream.cpp:\u001b[m\u001b[K In member function ‘\u001b[01m\u001b[Kbool JSON_sender::write(const char*)\u001b[m\u001b[K’:\n",
            "\u001b[01m\u001b[K./src/http_stream.cpp:253:21:\u001b[m\u001b[K \u001b[01;35m\u001b[Kwarning: \u001b[m\u001b[Kunused variable ‘\u001b[01m\u001b[Kn\u001b[m\u001b[K’ [\u001b[01;35m\u001b[K-Wunused-variable\u001b[m\u001b[K]\n",
            "                 int \u001b[01;35m\u001b[Kn\u001b[m\u001b[K = _write(client, outputbuf, outlen);\n",
            "                     \u001b[01;35m\u001b[K^\u001b[m\u001b[K\n",
            "\u001b[01m\u001b[K./src/http_stream.cpp:\u001b[m\u001b[K In member function ‘\u001b[01m\u001b[Kbool MJPG_sender::write(const cv::Mat&)\u001b[m\u001b[K’:\n",
            "\u001b[01m\u001b[K./src/http_stream.cpp:511:113:\u001b[m\u001b[K \u001b[01;35m\u001b[Kwarning: \u001b[m\u001b[Kformat ‘\u001b[01m\u001b[K%zu\u001b[m\u001b[K’ expects argument of type ‘\u001b[01m\u001b[Ksize_t\u001b[m\u001b[K’, but argument 3 has type ‘\u001b[01m\u001b[Kint\u001b[m\u001b[K’ [\u001b[01;35m\u001b[K-Wformat=\u001b[m\u001b[K]\n",
            "                 sprintf(head, \"--mjpegstream\\r\\nContent-Type: image/jpeg\\r\\nContent-Length: %zu\\r\\n\\r\\n\", outlen\u001b[01;35m\u001b[K)\u001b[m\u001b[K;\n",
            "                                                                                                                 \u001b[01;35m\u001b[K^\u001b[m\u001b[K\n",
            "\u001b[01m\u001b[K./src/http_stream.cpp:\u001b[m\u001b[K In function ‘\u001b[01m\u001b[Kvoid set_track_id(detection*, int, float, float, float, int, int, int)\u001b[m\u001b[K’:\n",
            "\u001b[01m\u001b[K./src/http_stream.cpp:867:27:\u001b[m\u001b[K \u001b[01;35m\u001b[Kwarning: \u001b[m\u001b[Kcomparison between signed and unsigned integer expressions [\u001b[01;35m\u001b[K-Wsign-compare\u001b[m\u001b[K]\n",
            "         for (int i = 0; \u001b[01;35m\u001b[Ki < v.size()\u001b[m\u001b[K; ++i) {\n",
            "                         \u001b[01;35m\u001b[K~~^~~~~~~~~~\u001b[m\u001b[K\n",
            "\u001b[01m\u001b[K./src/http_stream.cpp:875:33:\u001b[m\u001b[K \u001b[01;35m\u001b[Kwarning: \u001b[m\u001b[Kcomparison between signed and unsigned integer expressions [\u001b[01;35m\u001b[K-Wsign-compare\u001b[m\u001b[K]\n",
            "     for (int old_id = 0; \u001b[01;35m\u001b[Kold_id < old_dets.size()\u001b[m\u001b[K; ++old_id) {\n",
            "                          \u001b[01;35m\u001b[K~~~~~~~^~~~~~~~~~~~~~~~~\u001b[m\u001b[K\n",
            "\u001b[01m\u001b[K./src/http_stream.cpp:894:31:\u001b[m\u001b[K \u001b[01;35m\u001b[Kwarning: \u001b[m\u001b[Kcomparison between signed and unsigned integer expressions [\u001b[01;35m\u001b[K-Wsign-compare\u001b[m\u001b[K]\n",
            "     for (int index = 0; \u001b[01;35m\u001b[Kindex < new_dets_num*old_dets.size()\u001b[m\u001b[K; ++index) {\n",
            "                         \u001b[01;35m\u001b[K~~~~~~^~~~~~~~~~~~~~~~~~~~~~~~~~~~~~\u001b[m\u001b[K\n",
            "\u001b[01m\u001b[K./src/http_stream.cpp:930:28:\u001b[m\u001b[K \u001b[01;35m\u001b[Kwarning: \u001b[m\u001b[Kcomparison between signed and unsigned integer expressions [\u001b[01;35m\u001b[K-Wsign-compare\u001b[m\u001b[K]\n",
            "     if (\u001b[01;35m\u001b[Kold_dets_dq.size() > deque_size\u001b[m\u001b[K) old_dets_dq.pop_front();\n",
            "         \u001b[01;35m\u001b[K~~~~~~~~~~~~~~~~~~~^~~~~~~~~~~~\u001b[m\u001b[K\n",
            "gcc -Iinclude/ -I3rdparty/stb/include -DOPENCV `pkg-config --cflags opencv4 2> /dev/null || pkg-config --cflags opencv` -DGPU -I/usr/local/cuda/include/ -DCUDNN -DCUDNN_HALF -Wall -Wfatal-errors -Wno-unused-result -Wno-unknown-pragmas -fPIC -Ofast -DOPENCV -DGPU -DCUDNN -I/usr/local/cudnn/include -DCUDNN_HALF -c ./src/gemm.c -o obj/gemm.o\n",
            "\u001b[01m\u001b[K./src/gemm.c:\u001b[m\u001b[K In function ‘\u001b[01m\u001b[Kconvolution_2d\u001b[m\u001b[K’:\n",
            "\u001b[01m\u001b[K./src/gemm.c:2044:15:\u001b[m\u001b[K \u001b[01;35m\u001b[Kwarning: \u001b[m\u001b[Kunused variable ‘\u001b[01m\u001b[Kout_w\u001b[m\u001b[K’ [\u001b[01;35m\u001b[K-Wunused-variable\u001b[m\u001b[K]\n",
            "     const int \u001b[01;35m\u001b[Kout_w\u001b[m\u001b[K = (w + 2 * pad - ksize) / stride + 1;    // output_width=input_width for stride=1 and pad=1\n",
            "               \u001b[01;35m\u001b[K^~~~~\u001b[m\u001b[K\n",
            "\u001b[01m\u001b[K./src/gemm.c:2043:15:\u001b[m\u001b[K \u001b[01;35m\u001b[Kwarning: \u001b[m\u001b[Kunused variable ‘\u001b[01m\u001b[Kout_h\u001b[m\u001b[K’ [\u001b[01;35m\u001b[K-Wunused-variable\u001b[m\u001b[K]\n",
            "     const int \u001b[01;35m\u001b[Kout_h\u001b[m\u001b[K = (h + 2 * pad - ksize) / stride + 1;    // output_height=input_height for stride=1 and pad=1\n",
            "               \u001b[01;35m\u001b[K^~~~~\u001b[m\u001b[K\n",
            "gcc -Iinclude/ -I3rdparty/stb/include -DOPENCV `pkg-config --cflags opencv4 2> /dev/null || pkg-config --cflags opencv` -DGPU -I/usr/local/cuda/include/ -DCUDNN -DCUDNN_HALF -Wall -Wfatal-errors -Wno-unused-result -Wno-unknown-pragmas -fPIC -Ofast -DOPENCV -DGPU -DCUDNN -I/usr/local/cudnn/include -DCUDNN_HALF -c ./src/utils.c -o obj/utils.o\n",
            "\u001b[01m\u001b[K./src/utils.c:\u001b[m\u001b[K In function ‘\u001b[01m\u001b[Kcustom_hash\u001b[m\u001b[K’:\n",
            "\u001b[01m\u001b[K./src/utils.c:1061:12:\u001b[m\u001b[K \u001b[01;35m\u001b[Kwarning: \u001b[m\u001b[Ksuggest parentheses around assignment used as truth value [\u001b[01;35m\u001b[K-Wparentheses\u001b[m\u001b[K]\n",
            "     while (\u001b[01;35m\u001b[Kc\u001b[m\u001b[K = *str++)\n",
            "            \u001b[01;35m\u001b[K^\u001b[m\u001b[K\n",
            "gcc -Iinclude/ -I3rdparty/stb/include -DOPENCV `pkg-config --cflags opencv4 2> /dev/null || pkg-config --cflags opencv` -DGPU -I/usr/local/cuda/include/ -DCUDNN -DCUDNN_HALF -Wall -Wfatal-errors -Wno-unused-result -Wno-unknown-pragmas -fPIC -Ofast -DOPENCV -DGPU -DCUDNN -I/usr/local/cudnn/include -DCUDNN_HALF -c ./src/dark_cuda.c -o obj/dark_cuda.o\n",
            "\u001b[01m\u001b[K./src/dark_cuda.c:\u001b[m\u001b[K In function ‘\u001b[01m\u001b[Kcudnn_check_error_extended\u001b[m\u001b[K’:\n",
            "\u001b[01m\u001b[K./src/dark_cuda.c:231:20:\u001b[m\u001b[K \u001b[01;35m\u001b[Kwarning: \u001b[m\u001b[Kcomparison between ‘\u001b[01m\u001b[KcudaError_t {aka enum cudaError}\u001b[m\u001b[K’ and ‘\u001b[01m\u001b[Kenum <anonymous>\u001b[m\u001b[K’ [\u001b[01;35m\u001b[K-Wenum-compare\u001b[m\u001b[K]\n",
            "         if (status \u001b[01;35m\u001b[K!=\u001b[m\u001b[K CUDNN_STATUS_SUCCESS)\n",
            "                    \u001b[01;35m\u001b[K^~\u001b[m\u001b[K\n",
            "\u001b[01m\u001b[K./src/dark_cuda.c:\u001b[m\u001b[K In function ‘\u001b[01m\u001b[Kcublas_check_error_extended\u001b[m\u001b[K’:\n",
            "\u001b[01m\u001b[K./src/dark_cuda.c:265:18:\u001b[m\u001b[K \u001b[01;35m\u001b[Kwarning: \u001b[m\u001b[Kcomparison between ‘\u001b[01m\u001b[KcudaError_t {aka enum cudaError}\u001b[m\u001b[K’ and ‘\u001b[01m\u001b[Kenum cudaError_enum\u001b[m\u001b[K’ [\u001b[01;35m\u001b[K-Wenum-compare\u001b[m\u001b[K]\n",
            "       if (status \u001b[01;35m\u001b[K!=\u001b[m\u001b[K CUDA_SUCCESS)\n",
            "                  \u001b[01;35m\u001b[K^~\u001b[m\u001b[K\n",
            "\u001b[01m\u001b[K./src/dark_cuda.c:\u001b[m\u001b[K In function ‘\u001b[01m\u001b[Kpre_allocate_pinned_memory\u001b[m\u001b[K’:\n",
            "\u001b[01m\u001b[K./src/dark_cuda.c:396:40:\u001b[m\u001b[K \u001b[01;35m\u001b[Kwarning: \u001b[m\u001b[Kformat ‘\u001b[01m\u001b[K%u\u001b[m\u001b[K’ expects argument of type ‘\u001b[01m\u001b[Kunsigned int\u001b[m\u001b[K’, but argument 2 has type ‘\u001b[01m\u001b[Klong unsigned int\u001b[m\u001b[K’ [\u001b[01;35m\u001b[K-Wformat=\u001b[m\u001b[K]\n",
            "         printf(\"pre_allocate: size = \u001b[01;35m\u001b[K%Iu\u001b[m\u001b[K MB, num_of_blocks = %Iu, block_size = %Iu MB \\n\",\n",
            "                                      \u001b[01;35m\u001b[K~~^\u001b[m\u001b[K\n",
            "                                      \u001b[32m\u001b[K%Ilu\u001b[m\u001b[K\n",
            "             \u001b[32m\u001b[Ksize / (1024*1024)\u001b[m\u001b[K, num_of_blocks, pinned_block_size / (1024 * 1024));\n",
            "             \u001b[32m\u001b[K~~~~~~~~~~~~~~~~~~\u001b[m\u001b[K          \n",
            "\u001b[01m\u001b[K./src/dark_cuda.c:396:64:\u001b[m\u001b[K \u001b[01;35m\u001b[Kwarning: \u001b[m\u001b[Kformat ‘\u001b[01m\u001b[K%u\u001b[m\u001b[K’ expects argument of type ‘\u001b[01m\u001b[Kunsigned int\u001b[m\u001b[K’, but argument 3 has type ‘\u001b[01m\u001b[Ksize_t {aka const long unsigned int}\u001b[m\u001b[K’ [\u001b[01;35m\u001b[K-Wformat=\u001b[m\u001b[K]\n",
            "         printf(\"pre_allocate: size = %Iu MB, num_of_blocks = \u001b[01;35m\u001b[K%Iu\u001b[m\u001b[K, block_size = %Iu MB \\n\",\n",
            "                                                              \u001b[01;35m\u001b[K~~^\u001b[m\u001b[K\n",
            "                                                              \u001b[32m\u001b[K%Ilu\u001b[m\u001b[K\n",
            "\u001b[01m\u001b[K./src/dark_cuda.c:396:82:\u001b[m\u001b[K \u001b[01;35m\u001b[Kwarning: \u001b[m\u001b[Kformat ‘\u001b[01m\u001b[K%u\u001b[m\u001b[K’ expects argument of type ‘\u001b[01m\u001b[Kunsigned int\u001b[m\u001b[K’, but argument 4 has type ‘\u001b[01m\u001b[Klong unsigned int\u001b[m\u001b[K’ [\u001b[01;35m\u001b[K-Wformat=\u001b[m\u001b[K]\n",
            "         printf(\"pre_allocate: size = %Iu MB, num_of_blocks = %Iu, block_size = \u001b[01;35m\u001b[K%Iu\u001b[m\u001b[K MB \\n\",\n",
            "                                                                                \u001b[01;35m\u001b[K~~^\u001b[m\u001b[K\n",
            "                                                                                \u001b[32m\u001b[K%Ilu\u001b[m\u001b[K\n",
            "\u001b[01m\u001b[K./src/dark_cuda.c:406:37:\u001b[m\u001b[K \u001b[01;35m\u001b[Kwarning: \u001b[m\u001b[Kformat ‘\u001b[01m\u001b[K%d\u001b[m\u001b[K’ expects argument of type ‘\u001b[01m\u001b[Kint\u001b[m\u001b[K’, but argument 2 has type ‘\u001b[01m\u001b[Ksize_t {aka const long unsigned int}\u001b[m\u001b[K’ [\u001b[01;35m\u001b[K-Wformat=\u001b[m\u001b[K]\n",
            "                 printf(\" Allocated \u001b[01;35m\u001b[K%d\u001b[m\u001b[K pinned block \\n\", pinned_block_size);\n",
            "                                    \u001b[01;35m\u001b[K~^\u001b[m\u001b[K\n",
            "                                    \u001b[32m\u001b[K%ld\u001b[m\u001b[K\n",
            "\u001b[01m\u001b[K./src/dark_cuda.c:\u001b[m\u001b[K In function ‘\u001b[01m\u001b[Kcuda_make_array_pinned_preallocated\u001b[m\u001b[K’:\n",
            "\u001b[01m\u001b[K./src/dark_cuda.c:427:43:\u001b[m\u001b[K \u001b[01;35m\u001b[Kwarning: \u001b[m\u001b[Kformat ‘\u001b[01m\u001b[K%d\u001b[m\u001b[K’ expects argument of type ‘\u001b[01m\u001b[Kint\u001b[m\u001b[K’, but argument 2 has type ‘\u001b[01m\u001b[Ksize_t {aka long unsigned int}\u001b[m\u001b[K’ [\u001b[01;35m\u001b[K-Wformat=\u001b[m\u001b[K]\n",
            "             printf(\"\\n Pinned block_id = \u001b[01;35m\u001b[K%d\u001b[m\u001b[K, filled = %f %% \\n\", pinned_block_id, filled);\n",
            "                                          \u001b[01;35m\u001b[K~^\u001b[m\u001b[K\n",
            "                                          \u001b[32m\u001b[K%ld\u001b[m\u001b[K\n",
            "\u001b[01m\u001b[K./src/dark_cuda.c:442:64:\u001b[m\u001b[K \u001b[01;35m\u001b[Kwarning: \u001b[m\u001b[Kformat ‘\u001b[01m\u001b[K%d\u001b[m\u001b[K’ expects argument of type ‘\u001b[01m\u001b[Kint\u001b[m\u001b[K’, but argument 2 has type ‘\u001b[01m\u001b[Klong unsigned int\u001b[m\u001b[K’ [\u001b[01;35m\u001b[K-Wformat=\u001b[m\u001b[K]\n",
            "             printf(\"Try to allocate new pinned memory, size = \u001b[01;35m\u001b[K%d\u001b[m\u001b[K MB \\n\", \u001b[32m\u001b[Ksize / (1024 * 1024)\u001b[m\u001b[K);\n",
            "                                                               \u001b[01;35m\u001b[K~^\u001b[m\u001b[K         \u001b[32m\u001b[K~~~~~~~~~~~~~~~~~~~~\u001b[m\u001b[K\n",
            "                                                               \u001b[32m\u001b[K%ld\u001b[m\u001b[K\n",
            "\u001b[01m\u001b[K./src/dark_cuda.c:448:63:\u001b[m\u001b[K \u001b[01;35m\u001b[Kwarning: \u001b[m\u001b[Kformat ‘\u001b[01m\u001b[K%d\u001b[m\u001b[K’ expects argument of type ‘\u001b[01m\u001b[Kint\u001b[m\u001b[K’, but argument 2 has type ‘\u001b[01m\u001b[Klong unsigned int\u001b[m\u001b[K’ [\u001b[01;35m\u001b[K-Wformat=\u001b[m\u001b[K]\n",
            "             printf(\"Try to allocate new pinned BLOCK, size = \u001b[01;35m\u001b[K%d\u001b[m\u001b[K MB \\n\", \u001b[32m\u001b[Ksize / (1024 * 1024)\u001b[m\u001b[K);\n",
            "                                                              \u001b[01;35m\u001b[K~^\u001b[m\u001b[K         \u001b[32m\u001b[K~~~~~~~~~~~~~~~~~~~~\u001b[m\u001b[K\n",
            "                                                              \u001b[32m\u001b[K%ld\u001b[m\u001b[K\n",
            "At top level:\n",
            "\u001b[01m\u001b[K./src/dark_cuda.c:288:23:\u001b[m\u001b[K \u001b[01;35m\u001b[Kwarning: \u001b[m\u001b[K‘\u001b[01m\u001b[KswitchBlasHandle\u001b[m\u001b[K’ defined but not used [\u001b[01;35m\u001b[K-Wunused-variable\u001b[m\u001b[K]\n",
            " static cublasHandle_t \u001b[01;35m\u001b[KswitchBlasHandle\u001b[m\u001b[K[16];\n",
            "                       \u001b[01;35m\u001b[K^~~~~~~~~~~~~~~~\u001b[m\u001b[K\n",
            "\u001b[01m\u001b[K./src/dark_cuda.c:287:12:\u001b[m\u001b[K \u001b[01;35m\u001b[Kwarning: \u001b[m\u001b[K‘\u001b[01m\u001b[KswitchBlasInit\u001b[m\u001b[K’ defined but not used [\u001b[01;35m\u001b[K-Wunused-variable\u001b[m\u001b[K]\n",
            " static int \u001b[01;35m\u001b[KswitchBlasInit\u001b[m\u001b[K[16] = { 0 };\n",
            "            \u001b[01;35m\u001b[K^~~~~~~~~~~~~~\u001b[m\u001b[K\n",
            "gcc -Iinclude/ -I3rdparty/stb/include -DOPENCV `pkg-config --cflags opencv4 2> /dev/null || pkg-config --cflags opencv` -DGPU -I/usr/local/cuda/include/ -DCUDNN -DCUDNN_HALF -Wall -Wfatal-errors -Wno-unused-result -Wno-unknown-pragmas -fPIC -Ofast -DOPENCV -DGPU -DCUDNN -I/usr/local/cudnn/include -DCUDNN_HALF -c ./src/convolutional_layer.c -o obj/convolutional_layer.o\n",
            "\u001b[01m\u001b[K./src/convolutional_layer.c:\u001b[m\u001b[K In function ‘\u001b[01m\u001b[Kforward_convolutional_layer\u001b[m\u001b[K’:\n",
            "\u001b[01m\u001b[K./src/convolutional_layer.c:1341:32:\u001b[m\u001b[K \u001b[01;35m\u001b[Kwarning: \u001b[m\u001b[Kunused variable ‘\u001b[01m\u001b[Kt_intput_size\u001b[m\u001b[K’ [\u001b[01;35m\u001b[K-Wunused-variable\u001b[m\u001b[K]\n",
            "                         size_t \u001b[01;35m\u001b[Kt_intput_size\u001b[m\u001b[K = binary_transpose_align_input(k, n, state.workspace, &l.t_bit_input, ldb_align, l.bit_align);\n",
            "                                \u001b[01;35m\u001b[K^~~~~~~~~~~~~\u001b[m\u001b[K\n",
            "gcc -Iinclude/ -I3rdparty/stb/include -DOPENCV `pkg-config --cflags opencv4 2> /dev/null || pkg-config --cflags opencv` -DGPU -I/usr/local/cuda/include/ -DCUDNN -DCUDNN_HALF -Wall -Wfatal-errors -Wno-unused-result -Wno-unknown-pragmas -fPIC -Ofast -DOPENCV -DGPU -DCUDNN -I/usr/local/cudnn/include -DCUDNN_HALF -c ./src/list.c -o obj/list.o\n",
            "gcc -Iinclude/ -I3rdparty/stb/include -DOPENCV `pkg-config --cflags opencv4 2> /dev/null || pkg-config --cflags opencv` -DGPU -I/usr/local/cuda/include/ -DCUDNN -DCUDNN_HALF -Wall -Wfatal-errors -Wno-unused-result -Wno-unknown-pragmas -fPIC -Ofast -DOPENCV -DGPU -DCUDNN -I/usr/local/cudnn/include -DCUDNN_HALF -c ./src/image.c -o obj/image.o\n",
            "\u001b[01m\u001b[K./src/image.c:\u001b[m\u001b[K In function ‘\u001b[01m\u001b[Kdraw_detections_v3\u001b[m\u001b[K’:\n",
            "\u001b[01m\u001b[K./src/image.c:440:21:\u001b[m\u001b[K \u001b[01;35m\u001b[Kwarning: \u001b[m\u001b[Kunused variable ‘\u001b[01m\u001b[Kj\u001b[m\u001b[K’ [\u001b[01;35m\u001b[K-Wunused-variable\u001b[m\u001b[K]\n",
            "                 int \u001b[01;35m\u001b[Kj\u001b[m\u001b[K;\n",
            "                     \u001b[01;35m\u001b[K^\u001b[m\u001b[K\n",
            "\u001b[01m\u001b[K./src/image.c:437:22:\u001b[m\u001b[K \u001b[01;35m\u001b[Kwarning: \u001b[m\u001b[Kunused variable ‘\u001b[01m\u001b[Kprob_str\u001b[m\u001b[K’ [\u001b[01;35m\u001b[K-Wunused-variable\u001b[m\u001b[K]\n",
            "                 char \u001b[01;35m\u001b[Kprob_str\u001b[m\u001b[K[10];\n",
            "                      \u001b[01;35m\u001b[K^~~~~~~~\u001b[m\u001b[K\n",
            "gcc -Iinclude/ -I3rdparty/stb/include -DOPENCV `pkg-config --cflags opencv4 2> /dev/null || pkg-config --cflags opencv` -DGPU -I/usr/local/cuda/include/ -DCUDNN -DCUDNN_HALF -Wall -Wfatal-errors -Wno-unused-result -Wno-unknown-pragmas -fPIC -Ofast -DOPENCV -DGPU -DCUDNN -I/usr/local/cudnn/include -DCUDNN_HALF -c ./src/activations.c -o obj/activations.o\n",
            "\u001b[01m\u001b[K./src/activations.c:\u001b[m\u001b[K In function ‘\u001b[01m\u001b[Kactivate\u001b[m\u001b[K’:\n",
            "\u001b[01m\u001b[K./src/activations.c:79:5:\u001b[m\u001b[K \u001b[01;35m\u001b[Kwarning: \u001b[m\u001b[Kenumeration value ‘\u001b[01m\u001b[KRELU6\u001b[m\u001b[K’ not handled in switch [\u001b[01;35m\u001b[K-Wswitch\u001b[m\u001b[K]\n",
            "     \u001b[01;35m\u001b[Kswitch\u001b[m\u001b[K(a){\n",
            "     \u001b[01;35m\u001b[K^~~~~~\u001b[m\u001b[K\n",
            "\u001b[01m\u001b[K./src/activations.c:79:5:\u001b[m\u001b[K \u001b[01;35m\u001b[Kwarning: \u001b[m\u001b[Kenumeration value ‘\u001b[01m\u001b[KSWISH\u001b[m\u001b[K’ not handled in switch [\u001b[01;35m\u001b[K-Wswitch\u001b[m\u001b[K]\n",
            "\u001b[01m\u001b[K./src/activations.c:79:5:\u001b[m\u001b[K \u001b[01;35m\u001b[Kwarning: \u001b[m\u001b[Kenumeration value ‘\u001b[01m\u001b[KMISH\u001b[m\u001b[K’ not handled in switch [\u001b[01;35m\u001b[K-Wswitch\u001b[m\u001b[K]\n",
            "\u001b[01m\u001b[K./src/activations.c:79:5:\u001b[m\u001b[K \u001b[01;35m\u001b[Kwarning: \u001b[m\u001b[Kenumeration value ‘\u001b[01m\u001b[KHARD_MISH\u001b[m\u001b[K’ not handled in switch [\u001b[01;35m\u001b[K-Wswitch\u001b[m\u001b[K]\n",
            "\u001b[01m\u001b[K./src/activations.c:79:5:\u001b[m\u001b[K \u001b[01;35m\u001b[Kwarning: \u001b[m\u001b[Kenumeration value ‘\u001b[01m\u001b[KNORM_CHAN\u001b[m\u001b[K’ not handled in switch [\u001b[01;35m\u001b[K-Wswitch\u001b[m\u001b[K]\n",
            "\u001b[01m\u001b[K./src/activations.c:79:5:\u001b[m\u001b[K \u001b[01;35m\u001b[Kwarning: \u001b[m\u001b[Kenumeration value ‘\u001b[01m\u001b[KNORM_CHAN_SOFTMAX\u001b[m\u001b[K’ not handled in switch [\u001b[01;35m\u001b[K-Wswitch\u001b[m\u001b[K]\n",
            "\u001b[01m\u001b[K./src/activations.c:79:5:\u001b[m\u001b[K \u001b[01;35m\u001b[Kwarning: \u001b[m\u001b[Kenumeration value ‘\u001b[01m\u001b[KNORM_CHAN_SOFTMAX_MAXVAL\u001b[m\u001b[K’ not handled in switch [\u001b[01;35m\u001b[K-Wswitch\u001b[m\u001b[K]\n",
            "\u001b[01m\u001b[K./src/activations.c:\u001b[m\u001b[K In function ‘\u001b[01m\u001b[Kgradient\u001b[m\u001b[K’:\n",
            "\u001b[01m\u001b[K./src/activations.c:310:5:\u001b[m\u001b[K \u001b[01;35m\u001b[Kwarning: \u001b[m\u001b[Kenumeration value ‘\u001b[01m\u001b[KSWISH\u001b[m\u001b[K’ not handled in switch [\u001b[01;35m\u001b[K-Wswitch\u001b[m\u001b[K]\n",
            "     \u001b[01;35m\u001b[Kswitch\u001b[m\u001b[K(a){\n",
            "     \u001b[01;35m\u001b[K^~~~~~\u001b[m\u001b[K\n",
            "\u001b[01m\u001b[K./src/activations.c:310:5:\u001b[m\u001b[K \u001b[01;35m\u001b[Kwarning: \u001b[m\u001b[Kenumeration value ‘\u001b[01m\u001b[KMISH\u001b[m\u001b[K’ not handled in switch [\u001b[01;35m\u001b[K-Wswitch\u001b[m\u001b[K]\n",
            "\u001b[01m\u001b[K./src/activations.c:310:5:\u001b[m\u001b[K \u001b[01;35m\u001b[Kwarning: \u001b[m\u001b[Kenumeration value ‘\u001b[01m\u001b[KHARD_MISH\u001b[m\u001b[K’ not handled in switch [\u001b[01;35m\u001b[K-Wswitch\u001b[m\u001b[K]\n",
            "gcc -Iinclude/ -I3rdparty/stb/include -DOPENCV `pkg-config --cflags opencv4 2> /dev/null || pkg-config --cflags opencv` -DGPU -I/usr/local/cuda/include/ -DCUDNN -DCUDNN_HALF -Wall -Wfatal-errors -Wno-unused-result -Wno-unknown-pragmas -fPIC -Ofast -DOPENCV -DGPU -DCUDNN -I/usr/local/cudnn/include -DCUDNN_HALF -c ./src/im2col.c -o obj/im2col.o\n",
            "gcc -Iinclude/ -I3rdparty/stb/include -DOPENCV `pkg-config --cflags opencv4 2> /dev/null || pkg-config --cflags opencv` -DGPU -I/usr/local/cuda/include/ -DCUDNN -DCUDNN_HALF -Wall -Wfatal-errors -Wno-unused-result -Wno-unknown-pragmas -fPIC -Ofast -DOPENCV -DGPU -DCUDNN -I/usr/local/cudnn/include -DCUDNN_HALF -c ./src/col2im.c -o obj/col2im.o\n",
            "gcc -Iinclude/ -I3rdparty/stb/include -DOPENCV `pkg-config --cflags opencv4 2> /dev/null || pkg-config --cflags opencv` -DGPU -I/usr/local/cuda/include/ -DCUDNN -DCUDNN_HALF -Wall -Wfatal-errors -Wno-unused-result -Wno-unknown-pragmas -fPIC -Ofast -DOPENCV -DGPU -DCUDNN -I/usr/local/cudnn/include -DCUDNN_HALF -c ./src/blas.c -o obj/blas.o\n",
            "\u001b[01m\u001b[K./src/blas.c:\u001b[m\u001b[K In function ‘\u001b[01m\u001b[Kbackward_shortcut_multilayer_cpu\u001b[m\u001b[K’:\n",
            "\u001b[01m\u001b[K./src/blas.c:207:21:\u001b[m\u001b[K \u001b[01;35m\u001b[Kwarning: \u001b[m\u001b[Kunused variable ‘\u001b[01m\u001b[Kout_index\u001b[m\u001b[K’ [\u001b[01;35m\u001b[K-Wunused-variable\u001b[m\u001b[K]\n",
            "                 int \u001b[01;35m\u001b[Kout_index\u001b[m\u001b[K = id;\n",
            "                     \u001b[01;35m\u001b[K^~~~~~~~~\u001b[m\u001b[K\n",
            "\u001b[01m\u001b[K./src/blas.c:\u001b[m\u001b[K In function ‘\u001b[01m\u001b[Kfind_sim\u001b[m\u001b[K’:\n",
            "\u001b[01m\u001b[K./src/blas.c:597:59:\u001b[m\u001b[K \u001b[01;35m\u001b[Kwarning: \u001b[m\u001b[Kformat ‘\u001b[01m\u001b[K%d\u001b[m\u001b[K’ expects argument of type ‘\u001b[01m\u001b[Kint\u001b[m\u001b[K’, but argument 2 has type ‘\u001b[01m\u001b[Ksize_t {aka long unsigned int}\u001b[m\u001b[K’ [\u001b[01;35m\u001b[K-Wformat=\u001b[m\u001b[K]\n",
            "         printf(\" Error: find_sim(): sim isn't found: i = \u001b[01;35m\u001b[K%d\u001b[m\u001b[K, j = %d, z = %d \\n\", i, j, z);\n",
            "                                                          \u001b[01;35m\u001b[K~^\u001b[m\u001b[K\n",
            "                                                          \u001b[32m\u001b[K%ld\u001b[m\u001b[K\n",
            "\u001b[01m\u001b[K./src/blas.c:597:67:\u001b[m\u001b[K \u001b[01;35m\u001b[Kwarning: \u001b[m\u001b[Kformat ‘\u001b[01m\u001b[K%d\u001b[m\u001b[K’ expects argument of type ‘\u001b[01m\u001b[Kint\u001b[m\u001b[K’, but argument 3 has type ‘\u001b[01m\u001b[Ksize_t {aka long unsigned int}\u001b[m\u001b[K’ [\u001b[01;35m\u001b[K-Wformat=\u001b[m\u001b[K]\n",
            "         printf(\" Error: find_sim(): sim isn't found: i = %d, j = \u001b[01;35m\u001b[K%d\u001b[m\u001b[K, z = %d \\n\", i, j, z);\n",
            "                                                                  \u001b[01;35m\u001b[K~^\u001b[m\u001b[K\n",
            "                                                                  \u001b[32m\u001b[K%ld\u001b[m\u001b[K\n",
            "\u001b[01m\u001b[K./src/blas.c:597:75:\u001b[m\u001b[K \u001b[01;35m\u001b[Kwarning: \u001b[m\u001b[Kformat ‘\u001b[01m\u001b[K%d\u001b[m\u001b[K’ expects argument of type ‘\u001b[01m\u001b[Kint\u001b[m\u001b[K’, but argument 4 has type ‘\u001b[01m\u001b[Ksize_t {aka long unsigned int}\u001b[m\u001b[K’ [\u001b[01;35m\u001b[K-Wformat=\u001b[m\u001b[K]\n",
            "         printf(\" Error: find_sim(): sim isn't found: i = %d, j = %d, z = \u001b[01;35m\u001b[K%d\u001b[m\u001b[K \\n\", i, j, z);\n",
            "                                                                          \u001b[01;35m\u001b[K~^\u001b[m\u001b[K\n",
            "                                                                          \u001b[32m\u001b[K%ld\u001b[m\u001b[K\n",
            "\u001b[01m\u001b[K./src/blas.c:\u001b[m\u001b[K In function ‘\u001b[01m\u001b[Kfind_P_constrastive\u001b[m\u001b[K’:\n",
            "\u001b[01m\u001b[K./src/blas.c:611:68:\u001b[m\u001b[K \u001b[01;35m\u001b[Kwarning: \u001b[m\u001b[Kformat ‘\u001b[01m\u001b[K%d\u001b[m\u001b[K’ expects argument of type ‘\u001b[01m\u001b[Kint\u001b[m\u001b[K’, but argument 2 has type ‘\u001b[01m\u001b[Ksize_t {aka long unsigned int}\u001b[m\u001b[K’ [\u001b[01;35m\u001b[K-Wformat=\u001b[m\u001b[K]\n",
            "         printf(\" Error: find_P_constrastive(): P isn't found: i = \u001b[01;35m\u001b[K%d\u001b[m\u001b[K, j = %d, z = %d \\n\", i, j, z);\n",
            "                                                                   \u001b[01;35m\u001b[K~^\u001b[m\u001b[K\n",
            "                                                                   \u001b[32m\u001b[K%ld\u001b[m\u001b[K\n",
            "\u001b[01m\u001b[K./src/blas.c:611:76:\u001b[m\u001b[K \u001b[01;35m\u001b[Kwarning: \u001b[m\u001b[Kformat ‘\u001b[01m\u001b[K%d\u001b[m\u001b[K’ expects argument of type ‘\u001b[01m\u001b[Kint\u001b[m\u001b[K’, but argument 3 has type ‘\u001b[01m\u001b[Ksize_t {aka long unsigned int}\u001b[m\u001b[K’ [\u001b[01;35m\u001b[K-Wformat=\u001b[m\u001b[K]\n",
            "         printf(\" Error: find_P_constrastive(): P isn't found: i = %d, j = \u001b[01;35m\u001b[K%d\u001b[m\u001b[K, z = %d \\n\", i, j, z);\n",
            "                                                                           \u001b[01;35m\u001b[K~^\u001b[m\u001b[K\n",
            "                                                                           \u001b[32m\u001b[K%ld\u001b[m\u001b[K\n",
            "\u001b[01m\u001b[K./src/blas.c:611:84:\u001b[m\u001b[K \u001b[01;35m\u001b[Kwarning: \u001b[m\u001b[Kformat ‘\u001b[01m\u001b[K%d\u001b[m\u001b[K’ expects argument of type ‘\u001b[01m\u001b[Kint\u001b[m\u001b[K’, but argument 4 has type ‘\u001b[01m\u001b[Ksize_t {aka long unsigned int}\u001b[m\u001b[K’ [\u001b[01;35m\u001b[K-Wformat=\u001b[m\u001b[K]\n",
            "         printf(\" Error: find_P_constrastive(): P isn't found: i = %d, j = %d, z = \u001b[01;35m\u001b[K%d\u001b[m\u001b[K \\n\", i, j, z);\n",
            "                                                                                   \u001b[01;35m\u001b[K~^\u001b[m\u001b[K\n",
            "                                                                                   \u001b[32m\u001b[K%ld\u001b[m\u001b[K\n",
            "\u001b[01m\u001b[K./src/blas.c:\u001b[m\u001b[K In function ‘\u001b[01m\u001b[KP_constrastive_f\u001b[m\u001b[K’:\n",
            "\u001b[01m\u001b[K./src/blas.c:651:79:\u001b[m\u001b[K \u001b[01;35m\u001b[Kwarning: \u001b[m\u001b[Kformat ‘\u001b[01m\u001b[K%d\u001b[m\u001b[K’ expects argument of type ‘\u001b[01m\u001b[Kint\u001b[m\u001b[K’, but argument 3 has type ‘\u001b[01m\u001b[Ksize_t {aka long unsigned int}\u001b[m\u001b[K’ [\u001b[01;35m\u001b[K-Wformat=\u001b[m\u001b[K]\n",
            "         fprintf(stderr, \" Error: in P_constrastive must be i != l, while i = \u001b[01;35m\u001b[K%d\u001b[m\u001b[K, l = %d \\n\", i, l);\n",
            "                                                                              \u001b[01;35m\u001b[K~^\u001b[m\u001b[K\n",
            "                                                                              \u001b[32m\u001b[K%ld\u001b[m\u001b[K\n",
            "\u001b[01m\u001b[K./src/blas.c:651:87:\u001b[m\u001b[K \u001b[01;35m\u001b[Kwarning: \u001b[m\u001b[Kformat ‘\u001b[01m\u001b[K%d\u001b[m\u001b[K’ expects argument of type ‘\u001b[01m\u001b[Kint\u001b[m\u001b[K’, but argument 4 has type ‘\u001b[01m\u001b[Ksize_t {aka long unsigned int}\u001b[m\u001b[K’ [\u001b[01;35m\u001b[K-Wformat=\u001b[m\u001b[K]\n",
            "         fprintf(stderr, \" Error: in P_constrastive must be i != l, while i = %d, l = \u001b[01;35m\u001b[K%d\u001b[m\u001b[K \\n\", i, l);\n",
            "                                                                                      \u001b[01;35m\u001b[K~^\u001b[m\u001b[K\n",
            "                                                                                      \u001b[32m\u001b[K%ld\u001b[m\u001b[K\n",
            "\u001b[01m\u001b[K./src/blas.c:\u001b[m\u001b[K In function ‘\u001b[01m\u001b[KP_constrastive\u001b[m\u001b[K’:\n",
            "\u001b[01m\u001b[K./src/blas.c:785:79:\u001b[m\u001b[K \u001b[01;35m\u001b[Kwarning: \u001b[m\u001b[Kformat ‘\u001b[01m\u001b[K%d\u001b[m\u001b[K’ expects argument of type ‘\u001b[01m\u001b[Kint\u001b[m\u001b[K’, but argument 3 has type ‘\u001b[01m\u001b[Ksize_t {aka long unsigned int}\u001b[m\u001b[K’ [\u001b[01;35m\u001b[K-Wformat=\u001b[m\u001b[K]\n",
            "         fprintf(stderr, \" Error: in P_constrastive must be i != l, while i = \u001b[01;35m\u001b[K%d\u001b[m\u001b[K, l = %d \\n\", i, l);\n",
            "                                                                              \u001b[01;35m\u001b[K~^\u001b[m\u001b[K\n",
            "                                                                              \u001b[32m\u001b[K%ld\u001b[m\u001b[K\n",
            "\u001b[01m\u001b[K./src/blas.c:785:87:\u001b[m\u001b[K \u001b[01;35m\u001b[Kwarning: \u001b[m\u001b[Kformat ‘\u001b[01m\u001b[K%d\u001b[m\u001b[K’ expects argument of type ‘\u001b[01m\u001b[Kint\u001b[m\u001b[K’, but argument 4 has type ‘\u001b[01m\u001b[Ksize_t {aka long unsigned int}\u001b[m\u001b[K’ [\u001b[01;35m\u001b[K-Wformat=\u001b[m\u001b[K]\n",
            "         fprintf(stderr, \" Error: in P_constrastive must be i != l, while i = %d, l = \u001b[01;35m\u001b[K%d\u001b[m\u001b[K \\n\", i, l);\n",
            "                                                                                      \u001b[01;35m\u001b[K~^\u001b[m\u001b[K\n",
            "                                                                                      \u001b[32m\u001b[K%ld\u001b[m\u001b[K\n",
            "gcc -Iinclude/ -I3rdparty/stb/include -DOPENCV `pkg-config --cflags opencv4 2> /dev/null || pkg-config --cflags opencv` -DGPU -I/usr/local/cuda/include/ -DCUDNN -DCUDNN_HALF -Wall -Wfatal-errors -Wno-unused-result -Wno-unknown-pragmas -fPIC -Ofast -DOPENCV -DGPU -DCUDNN -I/usr/local/cudnn/include -DCUDNN_HALF -c ./src/crop_layer.c -o obj/crop_layer.o\n",
            "gcc -Iinclude/ -I3rdparty/stb/include -DOPENCV `pkg-config --cflags opencv4 2> /dev/null || pkg-config --cflags opencv` -DGPU -I/usr/local/cuda/include/ -DCUDNN -DCUDNN_HALF -Wall -Wfatal-errors -Wno-unused-result -Wno-unknown-pragmas -fPIC -Ofast -DOPENCV -DGPU -DCUDNN -I/usr/local/cudnn/include -DCUDNN_HALF -c ./src/dropout_layer.c -o obj/dropout_layer.o\n",
            "gcc -Iinclude/ -I3rdparty/stb/include -DOPENCV `pkg-config --cflags opencv4 2> /dev/null || pkg-config --cflags opencv` -DGPU -I/usr/local/cuda/include/ -DCUDNN -DCUDNN_HALF -Wall -Wfatal-errors -Wno-unused-result -Wno-unknown-pragmas -fPIC -Ofast -DOPENCV -DGPU -DCUDNN -I/usr/local/cudnn/include -DCUDNN_HALF -c ./src/maxpool_layer.c -o obj/maxpool_layer.o\n",
            "gcc -Iinclude/ -I3rdparty/stb/include -DOPENCV `pkg-config --cflags opencv4 2> /dev/null || pkg-config --cflags opencv` -DGPU -I/usr/local/cuda/include/ -DCUDNN -DCUDNN_HALF -Wall -Wfatal-errors -Wno-unused-result -Wno-unknown-pragmas -fPIC -Ofast -DOPENCV -DGPU -DCUDNN -I/usr/local/cudnn/include -DCUDNN_HALF -c ./src/softmax_layer.c -o obj/softmax_layer.o\n",
            "\u001b[01m\u001b[K./src/softmax_layer.c:\u001b[m\u001b[K In function ‘\u001b[01m\u001b[Kmake_contrastive_layer\u001b[m\u001b[K’:\n",
            "\u001b[01m\u001b[K./src/softmax_layer.c:203:101:\u001b[m\u001b[K \u001b[01;35m\u001b[Kwarning: \u001b[m\u001b[Kformat ‘\u001b[01m\u001b[K%d\u001b[m\u001b[K’ expects argument of type ‘\u001b[01m\u001b[Kint\u001b[m\u001b[K’, but argument 9 has type ‘\u001b[01m\u001b[Ksize_t {aka const long unsigned int}\u001b[m\u001b[K’ [\u001b[01;35m\u001b[K-Wformat=\u001b[m\u001b[K]\n",
            "     fprintf(stderr, \"contrastive %4d x%4d x%4d x emb_size %4d x batch: %4d  classes = %4d, step = \u001b[01;35m\u001b[K%4d\u001b[m\u001b[K \\n\", w, h, l.n, l.embedding_size, batch, l.classes, step);\n",
            "                                                                                                   \u001b[01;35m\u001b[K~~^\u001b[m\u001b[K\n",
            "                                                                                                   \u001b[32m\u001b[K%4ld\u001b[m\u001b[K\n",
            "\u001b[01m\u001b[K./src/softmax_layer.c:\u001b[m\u001b[K In function ‘\u001b[01m\u001b[Kforward_contrastive_layer\u001b[m\u001b[K’:\n",
            "\u001b[01m\u001b[K./src/softmax_layer.c:244:27:\u001b[m\u001b[K \u001b[01;35m\u001b[Kwarning: \u001b[m\u001b[Kvariable ‘\u001b[01m\u001b[Kmax_truth\u001b[m\u001b[K’ set but not used [\u001b[01;35m\u001b[K-Wunused-but-set-variable\u001b[m\u001b[K]\n",
            "                     float \u001b[01;35m\u001b[Kmax_truth\u001b[m\u001b[K = 0;\n",
            "                           \u001b[01;35m\u001b[K^~~~~~~~~\u001b[m\u001b[K\n",
            "\u001b[01m\u001b[K./src/softmax_layer.c:423:71:\u001b[m\u001b[K \u001b[01;35m\u001b[Kwarning: \u001b[m\u001b[Kformat ‘\u001b[01m\u001b[K%d\u001b[m\u001b[K’ expects argument of type ‘\u001b[01m\u001b[Kint\u001b[m\u001b[K’, but argument 2 has type ‘\u001b[01m\u001b[Ksize_t {aka const long unsigned int}\u001b[m\u001b[K’ [\u001b[01;35m\u001b[K-Wformat=\u001b[m\u001b[K]\n",
            "             printf(\" Error: too large number of bboxes: contr_size = \u001b[01;35m\u001b[K%d\u001b[m\u001b[K > max_contr_size  = %d \\n\", contr_size, max_contr_size);\n",
            "                                                                      \u001b[01;35m\u001b[K~^\u001b[m\u001b[K\n",
            "                                                                      \u001b[32m\u001b[K%ld\u001b[m\u001b[K\n",
            "gcc -Iinclude/ -I3rdparty/stb/include -DOPENCV `pkg-config --cflags opencv4 2> /dev/null || pkg-config --cflags opencv` -DGPU -I/usr/local/cuda/include/ -DCUDNN -DCUDNN_HALF -Wall -Wfatal-errors -Wno-unused-result -Wno-unknown-pragmas -fPIC -Ofast -DOPENCV -DGPU -DCUDNN -I/usr/local/cudnn/include -DCUDNN_HALF -c ./src/data.c -o obj/data.o\n",
            "\u001b[01m\u001b[K./src/data.c:\u001b[m\u001b[K In function ‘\u001b[01m\u001b[Kload_data_detection\u001b[m\u001b[K’:\n",
            "\u001b[01m\u001b[K./src/data.c:1297:24:\u001b[m\u001b[K \u001b[01;35m\u001b[Kwarning: \u001b[m\u001b[Kunused variable ‘\u001b[01m\u001b[Kx\u001b[m\u001b[K’ [\u001b[01;35m\u001b[K-Wunused-variable\u001b[m\u001b[K]\n",
            "                 int k, \u001b[01;35m\u001b[Kx\u001b[m\u001b[K, y;\n",
            "                        \u001b[01;35m\u001b[K^\u001b[m\u001b[K\n",
            "\u001b[01m\u001b[K./src/data.c:1090:43:\u001b[m\u001b[K \u001b[01;35m\u001b[Kwarning: \u001b[m\u001b[Kvariable ‘\u001b[01m\u001b[Kr_scale\u001b[m\u001b[K’ set but not used [\u001b[01;35m\u001b[K-Wunused-but-set-variable\u001b[m\u001b[K]\n",
            "     float r1 = 0, r2 = 0, r3 = 0, r4 = 0, \u001b[01;35m\u001b[Kr_scale\u001b[m\u001b[K = 0;\n",
            "                                           \u001b[01;35m\u001b[K^~~~~~~\u001b[m\u001b[K\n",
            "gcc -Iinclude/ -I3rdparty/stb/include -DOPENCV `pkg-config --cflags opencv4 2> /dev/null || pkg-config --cflags opencv` -DGPU -I/usr/local/cuda/include/ -DCUDNN -DCUDNN_HALF -Wall -Wfatal-errors -Wno-unused-result -Wno-unknown-pragmas -fPIC -Ofast -DOPENCV -DGPU -DCUDNN -I/usr/local/cudnn/include -DCUDNN_HALF -c ./src/matrix.c -o obj/matrix.o\n",
            "gcc -Iinclude/ -I3rdparty/stb/include -DOPENCV `pkg-config --cflags opencv4 2> /dev/null || pkg-config --cflags opencv` -DGPU -I/usr/local/cuda/include/ -DCUDNN -DCUDNN_HALF -Wall -Wfatal-errors -Wno-unused-result -Wno-unknown-pragmas -fPIC -Ofast -DOPENCV -DGPU -DCUDNN -I/usr/local/cudnn/include -DCUDNN_HALF -c ./src/network.c -o obj/network.o\n",
            "\u001b[01m\u001b[K./src/network.c:\u001b[m\u001b[K In function ‘\u001b[01m\u001b[Ktrain_network_waitkey\u001b[m\u001b[K’:\n",
            "\u001b[01m\u001b[K./src/network.c:435:13:\u001b[m\u001b[K \u001b[01;35m\u001b[Kwarning: \u001b[m\u001b[Kunused variable ‘\u001b[01m\u001b[Kema_period\u001b[m\u001b[K’ [\u001b[01;35m\u001b[K-Wunused-variable\u001b[m\u001b[K]\n",
            "         int \u001b[01;35m\u001b[Kema_period\u001b[m\u001b[K = (net.max_batches - ema_start_point - 1000) * (1.0 - net.ema_alpha);\n",
            "             \u001b[01;35m\u001b[K^~~~~~~~~~\u001b[m\u001b[K\n",
            "\u001b[01m\u001b[K./src/network.c:\u001b[m\u001b[K In function ‘\u001b[01m\u001b[Kresize_network\u001b[m\u001b[K’:\n",
            "\u001b[01m\u001b[K./src/network.c:660:42:\u001b[m\u001b[K \u001b[01;35m\u001b[Kwarning: \u001b[m\u001b[Kpassing argument 1 of ‘\u001b[01m\u001b[KcudaHostAlloc\u001b[m\u001b[K’ from incompatible pointer type [\u001b[01;35m\u001b[K-Wincompatible-pointer-types\u001b[m\u001b[K]\n",
            "         if (cudaSuccess == cudaHostAlloc(\u001b[01;35m\u001b[K&\u001b[m\u001b[Knet->input_pinned_cpu, size * sizeof(float), cudaHostRegisterMapped))\n",
            "                                          \u001b[01;35m\u001b[K^\u001b[m\u001b[K\n",
            "In file included from \u001b[01m\u001b[K/usr/local/cuda/include/cuda_runtime.h:96:0\u001b[m\u001b[K,\n",
            "                 from \u001b[01m\u001b[Kinclude/darknet.h:41\u001b[m\u001b[K,\n",
            "                 from \u001b[01m\u001b[K./src/network.c:1\u001b[m\u001b[K:\n",
            "\u001b[01m\u001b[K/usr/local/cuda/include/cuda_runtime_api.h:4707:39:\u001b[m\u001b[K \u001b[01;36m\u001b[Knote: \u001b[m\u001b[Kexpected ‘\u001b[01m\u001b[Kvoid **\u001b[m\u001b[K’ but argument is of type ‘\u001b[01m\u001b[Kfloat **\u001b[m\u001b[K’\n",
            " extern __host__ cudaError_t CUDARTAPI \u001b[01;36m\u001b[KcudaHostAlloc\u001b[m\u001b[K(void **pHost, size_t size, unsigned int flags);\n",
            "                                       \u001b[01;36m\u001b[K^~~~~~~~~~~~~\u001b[m\u001b[K\n",
            "gcc -Iinclude/ -I3rdparty/stb/include -DOPENCV `pkg-config --cflags opencv4 2> /dev/null || pkg-config --cflags opencv` -DGPU -I/usr/local/cuda/include/ -DCUDNN -DCUDNN_HALF -Wall -Wfatal-errors -Wno-unused-result -Wno-unknown-pragmas -fPIC -Ofast -DOPENCV -DGPU -DCUDNN -I/usr/local/cudnn/include -DCUDNN_HALF -c ./src/connected_layer.c -o obj/connected_layer.o\n",
            "\u001b[01m\u001b[K./src/connected_layer.c:\u001b[m\u001b[K In function ‘\u001b[01m\u001b[Kforward_connected_layer_gpu\u001b[m\u001b[K’:\n",
            "\u001b[01m\u001b[K./src/connected_layer.c:346:11:\u001b[m\u001b[K \u001b[01;35m\u001b[Kwarning: \u001b[m\u001b[Kunused variable ‘\u001b[01m\u001b[Kone\u001b[m\u001b[K’ [\u001b[01;35m\u001b[K-Wunused-variable\u001b[m\u001b[K]\n",
            "     float \u001b[01;35m\u001b[Kone\u001b[m\u001b[K = 1;    // alpha[0], beta[0]\n",
            "           \u001b[01;35m\u001b[K^~~\u001b[m\u001b[K\n",
            "\u001b[01m\u001b[K./src/connected_layer.c:344:13:\u001b[m\u001b[K \u001b[01;35m\u001b[Kwarning: \u001b[m\u001b[Kunused variable ‘\u001b[01m\u001b[Kc\u001b[m\u001b[K’ [\u001b[01;35m\u001b[K-Wunused-variable\u001b[m\u001b[K]\n",
            "     float * \u001b[01;35m\u001b[Kc\u001b[m\u001b[K = l.output_gpu;\n",
            "             \u001b[01;35m\u001b[K^\u001b[m\u001b[K\n",
            "\u001b[01m\u001b[K./src/connected_layer.c:343:13:\u001b[m\u001b[K \u001b[01;35m\u001b[Kwarning: \u001b[m\u001b[Kunused variable ‘\u001b[01m\u001b[Kb\u001b[m\u001b[K’ [\u001b[01;35m\u001b[K-Wunused-variable\u001b[m\u001b[K]\n",
            "     float * \u001b[01;35m\u001b[Kb\u001b[m\u001b[K = l.weights_gpu;\n",
            "             \u001b[01;35m\u001b[K^\u001b[m\u001b[K\n",
            "\u001b[01m\u001b[K./src/connected_layer.c:342:13:\u001b[m\u001b[K \u001b[01;35m\u001b[Kwarning: \u001b[m\u001b[Kunused variable ‘\u001b[01m\u001b[Ka\u001b[m\u001b[K’ [\u001b[01;35m\u001b[K-Wunused-variable\u001b[m\u001b[K]\n",
            "     float * \u001b[01;35m\u001b[Ka\u001b[m\u001b[K = state.input;\n",
            "             \u001b[01;35m\u001b[K^\u001b[m\u001b[K\n",
            "\u001b[01m\u001b[K./src/connected_layer.c:341:9:\u001b[m\u001b[K \u001b[01;35m\u001b[Kwarning: \u001b[m\u001b[Kunused variable ‘\u001b[01m\u001b[Kn\u001b[m\u001b[K’ [\u001b[01;35m\u001b[K-Wunused-variable\u001b[m\u001b[K]\n",
            "     int \u001b[01;35m\u001b[Kn\u001b[m\u001b[K = l.outputs;\n",
            "         \u001b[01;35m\u001b[K^\u001b[m\u001b[K\n",
            "\u001b[01m\u001b[K./src/connected_layer.c:340:9:\u001b[m\u001b[K \u001b[01;35m\u001b[Kwarning: \u001b[m\u001b[Kunused variable ‘\u001b[01m\u001b[Kk\u001b[m\u001b[K’ [\u001b[01;35m\u001b[K-Wunused-variable\u001b[m\u001b[K]\n",
            "     int \u001b[01;35m\u001b[Kk\u001b[m\u001b[K = l.inputs;\n",
            "         \u001b[01;35m\u001b[K^\u001b[m\u001b[K\n",
            "\u001b[01m\u001b[K./src/connected_layer.c:339:9:\u001b[m\u001b[K \u001b[01;35m\u001b[Kwarning: \u001b[m\u001b[Kunused variable ‘\u001b[01m\u001b[Km\u001b[m\u001b[K’ [\u001b[01;35m\u001b[K-Wunused-variable\u001b[m\u001b[K]\n",
            "     int \u001b[01;35m\u001b[Km\u001b[m\u001b[K = l.batch;\n",
            "         \u001b[01;35m\u001b[K^\u001b[m\u001b[K\n",
            "gcc -Iinclude/ -I3rdparty/stb/include -DOPENCV `pkg-config --cflags opencv4 2> /dev/null || pkg-config --cflags opencv` -DGPU -I/usr/local/cuda/include/ -DCUDNN -DCUDNN_HALF -Wall -Wfatal-errors -Wno-unused-result -Wno-unknown-pragmas -fPIC -Ofast -DOPENCV -DGPU -DCUDNN -I/usr/local/cudnn/include -DCUDNN_HALF -c ./src/cost_layer.c -o obj/cost_layer.o\n",
            "gcc -Iinclude/ -I3rdparty/stb/include -DOPENCV `pkg-config --cflags opencv4 2> /dev/null || pkg-config --cflags opencv` -DGPU -I/usr/local/cuda/include/ -DCUDNN -DCUDNN_HALF -Wall -Wfatal-errors -Wno-unused-result -Wno-unknown-pragmas -fPIC -Ofast -DOPENCV -DGPU -DCUDNN -I/usr/local/cudnn/include -DCUDNN_HALF -c ./src/parser.c -o obj/parser.o\n",
            "\u001b[01m\u001b[K./src/parser.c:\u001b[m\u001b[K In function ‘\u001b[01m\u001b[Kparse_network_cfg_custom\u001b[m\u001b[K’:\n",
            "\u001b[01m\u001b[K./src/parser.c:1777:42:\u001b[m\u001b[K \u001b[01;35m\u001b[Kwarning: \u001b[m\u001b[Kpassing argument 1 of ‘\u001b[01m\u001b[KcudaHostAlloc\u001b[m\u001b[K’ from incompatible pointer type [\u001b[01;35m\u001b[K-Wincompatible-pointer-types\u001b[m\u001b[K]\n",
            "         if (cudaSuccess == cudaHostAlloc(\u001b[01;35m\u001b[K&\u001b[m\u001b[Knet.input_pinned_cpu, size * sizeof(float), cudaHostRegisterMapped)) net.input_pinned_cpu_flag = 1;\n",
            "                                          \u001b[01;35m\u001b[K^\u001b[m\u001b[K\n",
            "In file included from \u001b[01m\u001b[K/usr/local/cuda/include/cuda_runtime.h:96:0\u001b[m\u001b[K,\n",
            "                 from \u001b[01m\u001b[Kinclude/darknet.h:41\u001b[m\u001b[K,\n",
            "                 from \u001b[01m\u001b[K./src/activations.h:3\u001b[m\u001b[K,\n",
            "                 from \u001b[01m\u001b[K./src/activation_layer.h:4\u001b[m\u001b[K,\n",
            "                 from \u001b[01m\u001b[K./src/parser.c:6\u001b[m\u001b[K:\n",
            "\u001b[01m\u001b[K/usr/local/cuda/include/cuda_runtime_api.h:4707:39:\u001b[m\u001b[K \u001b[01;36m\u001b[Knote: \u001b[m\u001b[Kexpected ‘\u001b[01m\u001b[Kvoid **\u001b[m\u001b[K’ but argument is of type ‘\u001b[01m\u001b[Kfloat **\u001b[m\u001b[K’\n",
            " extern __host__ cudaError_t CUDARTAPI \u001b[01;36m\u001b[KcudaHostAlloc\u001b[m\u001b[K(void **pHost, size_t size, unsigned int flags);\n",
            "                                       \u001b[01;36m\u001b[K^~~~~~~~~~~~~\u001b[m\u001b[K\n",
            "\u001b[01m\u001b[K./src/parser.c:\u001b[m\u001b[K In function ‘\u001b[01m\u001b[Ksave_implicit_weights\u001b[m\u001b[K’:\n",
            "\u001b[01m\u001b[K./src/parser.c:1909:9:\u001b[m\u001b[K \u001b[01;35m\u001b[Kwarning: \u001b[m\u001b[Kunused variable ‘\u001b[01m\u001b[Ki\u001b[m\u001b[K’ [\u001b[01;35m\u001b[K-Wunused-variable\u001b[m\u001b[K]\n",
            "     int \u001b[01;35m\u001b[Ki\u001b[m\u001b[K;\n",
            "         \u001b[01;35m\u001b[K^\u001b[m\u001b[K\n",
            "\u001b[01m\u001b[K./src/parser.c:\u001b[m\u001b[K In function ‘\u001b[01m\u001b[Kget_classes_multipliers\u001b[m\u001b[K’:\n",
            "\u001b[01m\u001b[K./src/parser.c:438:29:\u001b[m\u001b[K \u001b[01;35m\u001b[Kwarning: \u001b[m\u001b[Kargument 1 range [18446744071562067968, 18446744073709551615] exceeds maximum object size 9223372036854775807 [\u001b[01;35m\u001b[K-Walloc-size-larger-than=\u001b[m\u001b[K]\n",
            "         \u001b[01;35m\u001b[Kclasses_multipliers = (float *)calloc(classes_counters, sizeof(float))\u001b[m\u001b[K;\n",
            "         \u001b[01;35m\u001b[K~~~~~~~~~~~~~~~~~~~~^~~~~~~~~~~~~~~~~~~~~~~~~~~~~~~~~~~~~~~~~~~~~~~~~~\u001b[m\u001b[K\n",
            "In file included from \u001b[01m\u001b[K./src/parser.c:3:0\u001b[m\u001b[K:\n",
            "\u001b[01m\u001b[K/usr/include/stdlib.h:541:14:\u001b[m\u001b[K \u001b[01;36m\u001b[Knote: \u001b[m\u001b[Kin a call to allocation function ‘\u001b[01m\u001b[Kcalloc\u001b[m\u001b[K’ declared here\n",
            " extern void *\u001b[01;36m\u001b[Kcalloc\u001b[m\u001b[K (size_t __nmemb, size_t __size)\n",
            "              \u001b[01;36m\u001b[K^~~~~~\u001b[m\u001b[K\n",
            "gcc -Iinclude/ -I3rdparty/stb/include -DOPENCV `pkg-config --cflags opencv4 2> /dev/null || pkg-config --cflags opencv` -DGPU -I/usr/local/cuda/include/ -DCUDNN -DCUDNN_HALF -Wall -Wfatal-errors -Wno-unused-result -Wno-unknown-pragmas -fPIC -Ofast -DOPENCV -DGPU -DCUDNN -I/usr/local/cudnn/include -DCUDNN_HALF -c ./src/option_list.c -o obj/option_list.o\n",
            "gcc -Iinclude/ -I3rdparty/stb/include -DOPENCV `pkg-config --cflags opencv4 2> /dev/null || pkg-config --cflags opencv` -DGPU -I/usr/local/cuda/include/ -DCUDNN -DCUDNN_HALF -Wall -Wfatal-errors -Wno-unused-result -Wno-unknown-pragmas -fPIC -Ofast -DOPENCV -DGPU -DCUDNN -I/usr/local/cudnn/include -DCUDNN_HALF -c ./src/darknet.c -o obj/darknet.o\n",
            "gcc -Iinclude/ -I3rdparty/stb/include -DOPENCV `pkg-config --cflags opencv4 2> /dev/null || pkg-config --cflags opencv` -DGPU -I/usr/local/cuda/include/ -DCUDNN -DCUDNN_HALF -Wall -Wfatal-errors -Wno-unused-result -Wno-unknown-pragmas -fPIC -Ofast -DOPENCV -DGPU -DCUDNN -I/usr/local/cudnn/include -DCUDNN_HALF -c ./src/detection_layer.c -o obj/detection_layer.o\n",
            "gcc -Iinclude/ -I3rdparty/stb/include -DOPENCV `pkg-config --cflags opencv4 2> /dev/null || pkg-config --cflags opencv` -DGPU -I/usr/local/cuda/include/ -DCUDNN -DCUDNN_HALF -Wall -Wfatal-errors -Wno-unused-result -Wno-unknown-pragmas -fPIC -Ofast -DOPENCV -DGPU -DCUDNN -I/usr/local/cudnn/include -DCUDNN_HALF -c ./src/captcha.c -o obj/captcha.o\n",
            "gcc -Iinclude/ -I3rdparty/stb/include -DOPENCV `pkg-config --cflags opencv4 2> /dev/null || pkg-config --cflags opencv` -DGPU -I/usr/local/cuda/include/ -DCUDNN -DCUDNN_HALF -Wall -Wfatal-errors -Wno-unused-result -Wno-unknown-pragmas -fPIC -Ofast -DOPENCV -DGPU -DCUDNN -I/usr/local/cudnn/include -DCUDNN_HALF -c ./src/route_layer.c -o obj/route_layer.o\n",
            "gcc -Iinclude/ -I3rdparty/stb/include -DOPENCV `pkg-config --cflags opencv4 2> /dev/null || pkg-config --cflags opencv` -DGPU -I/usr/local/cuda/include/ -DCUDNN -DCUDNN_HALF -Wall -Wfatal-errors -Wno-unused-result -Wno-unknown-pragmas -fPIC -Ofast -DOPENCV -DGPU -DCUDNN -I/usr/local/cudnn/include -DCUDNN_HALF -c ./src/writing.c -o obj/writing.o\n",
            "gcc -Iinclude/ -I3rdparty/stb/include -DOPENCV `pkg-config --cflags opencv4 2> /dev/null || pkg-config --cflags opencv` -DGPU -I/usr/local/cuda/include/ -DCUDNN -DCUDNN_HALF -Wall -Wfatal-errors -Wno-unused-result -Wno-unknown-pragmas -fPIC -Ofast -DOPENCV -DGPU -DCUDNN -I/usr/local/cudnn/include -DCUDNN_HALF -c ./src/box.c -o obj/box.o\n",
            "\u001b[01m\u001b[K./src/box.c:\u001b[m\u001b[K In function ‘\u001b[01m\u001b[Kbox_iou_kind\u001b[m\u001b[K’:\n",
            "\u001b[01m\u001b[K./src/box.c:154:5:\u001b[m\u001b[K \u001b[01;35m\u001b[Kwarning: \u001b[m\u001b[Kenumeration value ‘\u001b[01m\u001b[KMSE\u001b[m\u001b[K’ not handled in switch [\u001b[01;35m\u001b[K-Wswitch\u001b[m\u001b[K]\n",
            "     \u001b[01;35m\u001b[Kswitch\u001b[m\u001b[K(iou_kind) {\n",
            "     \u001b[01;35m\u001b[K^~~~~~\u001b[m\u001b[K\n",
            "\u001b[01m\u001b[K./src/box.c:\u001b[m\u001b[K In function ‘\u001b[01m\u001b[Kdiounms_sort\u001b[m\u001b[K’:\n",
            "\u001b[01m\u001b[K./src/box.c:898:27:\u001b[m\u001b[K \u001b[01;35m\u001b[Kwarning: \u001b[m\u001b[Kunused variable ‘\u001b[01m\u001b[Kbeta_prob\u001b[m\u001b[K’ [\u001b[01;35m\u001b[K-Wunused-variable\u001b[m\u001b[K]\n",
            "                     float \u001b[01;35m\u001b[Kbeta_prob\u001b[m\u001b[K = pow(dets[j].prob[k], 2) / sum_prob;\n",
            "                           \u001b[01;35m\u001b[K^~~~~~~~~\u001b[m\u001b[K\n",
            "\u001b[01m\u001b[K./src/box.c:897:27:\u001b[m\u001b[K \u001b[01;35m\u001b[Kwarning: \u001b[m\u001b[Kunused variable ‘\u001b[01m\u001b[Kalpha_prob\u001b[m\u001b[K’ [\u001b[01;35m\u001b[K-Wunused-variable\u001b[m\u001b[K]\n",
            "                     float \u001b[01;35m\u001b[Kalpha_prob\u001b[m\u001b[K = pow(dets[i].prob[k], 2) / sum_prob;\n",
            "                           \u001b[01;35m\u001b[K^~~~~~~~~~\u001b[m\u001b[K\n",
            "gcc -Iinclude/ -I3rdparty/stb/include -DOPENCV `pkg-config --cflags opencv4 2> /dev/null || pkg-config --cflags opencv` -DGPU -I/usr/local/cuda/include/ -DCUDNN -DCUDNN_HALF -Wall -Wfatal-errors -Wno-unused-result -Wno-unknown-pragmas -fPIC -Ofast -DOPENCV -DGPU -DCUDNN -I/usr/local/cudnn/include -DCUDNN_HALF -c ./src/nightmare.c -o obj/nightmare.o\n",
            "gcc -Iinclude/ -I3rdparty/stb/include -DOPENCV `pkg-config --cflags opencv4 2> /dev/null || pkg-config --cflags opencv` -DGPU -I/usr/local/cuda/include/ -DCUDNN -DCUDNN_HALF -Wall -Wfatal-errors -Wno-unused-result -Wno-unknown-pragmas -fPIC -Ofast -DOPENCV -DGPU -DCUDNN -I/usr/local/cudnn/include -DCUDNN_HALF -c ./src/normalization_layer.c -o obj/normalization_layer.o\n",
            "gcc -Iinclude/ -I3rdparty/stb/include -DOPENCV `pkg-config --cflags opencv4 2> /dev/null || pkg-config --cflags opencv` -DGPU -I/usr/local/cuda/include/ -DCUDNN -DCUDNN_HALF -Wall -Wfatal-errors -Wno-unused-result -Wno-unknown-pragmas -fPIC -Ofast -DOPENCV -DGPU -DCUDNN -I/usr/local/cudnn/include -DCUDNN_HALF -c ./src/avgpool_layer.c -o obj/avgpool_layer.o\n",
            "gcc -Iinclude/ -I3rdparty/stb/include -DOPENCV `pkg-config --cflags opencv4 2> /dev/null || pkg-config --cflags opencv` -DGPU -I/usr/local/cuda/include/ -DCUDNN -DCUDNN_HALF -Wall -Wfatal-errors -Wno-unused-result -Wno-unknown-pragmas -fPIC -Ofast -DOPENCV -DGPU -DCUDNN -I/usr/local/cudnn/include -DCUDNN_HALF -c ./src/coco.c -o obj/coco.o\n",
            "\u001b[01m\u001b[K./src/coco.c:\u001b[m\u001b[K In function ‘\u001b[01m\u001b[Kvalidate_coco_recall\u001b[m\u001b[K’:\n",
            "\u001b[01m\u001b[K./src/coco.c:248:11:\u001b[m\u001b[K \u001b[01;35m\u001b[Kwarning: \u001b[m\u001b[Kunused variable ‘\u001b[01m\u001b[Kbase\u001b[m\u001b[K’ [\u001b[01;35m\u001b[K-Wunused-variable\u001b[m\u001b[K]\n",
            "     char *\u001b[01;35m\u001b[Kbase\u001b[m\u001b[K = \"results/comp4_det_test_\";\n",
            "           \u001b[01;35m\u001b[K^~~~\u001b[m\u001b[K\n",
            "gcc -Iinclude/ -I3rdparty/stb/include -DOPENCV `pkg-config --cflags opencv4 2> /dev/null || pkg-config --cflags opencv` -DGPU -I/usr/local/cuda/include/ -DCUDNN -DCUDNN_HALF -Wall -Wfatal-errors -Wno-unused-result -Wno-unknown-pragmas -fPIC -Ofast -DOPENCV -DGPU -DCUDNN -I/usr/local/cudnn/include -DCUDNN_HALF -c ./src/dice.c -o obj/dice.o\n",
            "gcc -Iinclude/ -I3rdparty/stb/include -DOPENCV `pkg-config --cflags opencv4 2> /dev/null || pkg-config --cflags opencv` -DGPU -I/usr/local/cuda/include/ -DCUDNN -DCUDNN_HALF -Wall -Wfatal-errors -Wno-unused-result -Wno-unknown-pragmas -fPIC -Ofast -DOPENCV -DGPU -DCUDNN -I/usr/local/cudnn/include -DCUDNN_HALF -c ./src/yolo.c -o obj/yolo.o\n",
            "gcc -Iinclude/ -I3rdparty/stb/include -DOPENCV `pkg-config --cflags opencv4 2> /dev/null || pkg-config --cflags opencv` -DGPU -I/usr/local/cuda/include/ -DCUDNN -DCUDNN_HALF -Wall -Wfatal-errors -Wno-unused-result -Wno-unknown-pragmas -fPIC -Ofast -DOPENCV -DGPU -DCUDNN -I/usr/local/cudnn/include -DCUDNN_HALF -c ./src/detector.c -o obj/detector.o\n",
            "\u001b[01m\u001b[K./src/detector.c:\u001b[m\u001b[K In function ‘\u001b[01m\u001b[Ktrain_detector\u001b[m\u001b[K’:\n",
            "\u001b[01m\u001b[K./src/detector.c:386:72:\u001b[m\u001b[K \u001b[01;35m\u001b[Kwarning: \u001b[m\u001b[Ksuggest parentheses around ‘\u001b[01m\u001b[K&&\u001b[m\u001b[K’ within ‘\u001b[01m\u001b[K||\u001b[m\u001b[K’ [\u001b[01;35m\u001b[K-Wparentheses\u001b[m\u001b[K]\n",
            "             \u001b[01;35m\u001b[K(iteration >= (iter_save + 1000) || iteration % 1000 == 0) && net.max_batches < 10000\u001b[m\u001b[K)\n",
            "             \u001b[01;35m\u001b[K~~~~~~~~~~~~~~~~~~~~~~~~~~~~~~~~~~~~~~~~~~~~~~~~~~~~~~~~~~~^~~~~~~~~~~~~~~~~~~~~~~~~~\u001b[m\u001b[K\n",
            "\u001b[01m\u001b[K./src/detector.c:\u001b[m\u001b[K In function ‘\u001b[01m\u001b[Kprint_cocos\u001b[m\u001b[K’:\n",
            "\u001b[01m\u001b[K./src/detector.c:486:29:\u001b[m\u001b[K \u001b[01;35m\u001b[Kwarning: \u001b[m\u001b[Kformat not a string literal and no format arguments [\u001b[01;35m\u001b[K-Wformat-security\u001b[m\u001b[K]\n",
            "                 fprintf(fp, \u001b[01;35m\u001b[Kbuff\u001b[m\u001b[K);\n",
            "                             \u001b[01;35m\u001b[K^~~~\u001b[m\u001b[K\n",
            "\u001b[01m\u001b[K./src/detector.c:\u001b[m\u001b[K In function ‘\u001b[01m\u001b[Keliminate_bdd\u001b[m\u001b[K’:\n",
            "\u001b[01m\u001b[K./src/detector.c:579:21:\u001b[m\u001b[K \u001b[01;35m\u001b[Kwarning: \u001b[m\u001b[Kstatement with no effect [\u001b[01;35m\u001b[K-Wunused-value\u001b[m\u001b[K]\n",
            "                     \u001b[01;35m\u001b[Kfor\u001b[m\u001b[K (k; buf[k + n] != '\\0'; k++)\n",
            "                     \u001b[01;35m\u001b[K^~~\u001b[m\u001b[K\n",
            "\u001b[01m\u001b[K./src/detector.c:\u001b[m\u001b[K In function ‘\u001b[01m\u001b[Kvalidate_detector\u001b[m\u001b[K’:\n",
            "\u001b[01m\u001b[K./src/detector.c:700:13:\u001b[m\u001b[K \u001b[01;35m\u001b[Kwarning: \u001b[m\u001b[Kunused variable ‘\u001b[01m\u001b[Kmkd2\u001b[m\u001b[K’ [\u001b[01;35m\u001b[K-Wunused-variable\u001b[m\u001b[K]\n",
            "         int \u001b[01;35m\u001b[Kmkd2\u001b[m\u001b[K = make_directory(buff2, 0777);\n",
            "             \u001b[01;35m\u001b[K^~~~\u001b[m\u001b[K\n",
            "\u001b[01m\u001b[K./src/detector.c:698:13:\u001b[m\u001b[K \u001b[01;35m\u001b[Kwarning: \u001b[m\u001b[Kunused variable ‘\u001b[01m\u001b[Kmkd\u001b[m\u001b[K’ [\u001b[01;35m\u001b[K-Wunused-variable\u001b[m\u001b[K]\n",
            "         int \u001b[01;35m\u001b[Kmkd\u001b[m\u001b[K = make_directory(buff, 0777);\n",
            "             \u001b[01;35m\u001b[K^~~\u001b[m\u001b[K\n",
            "\u001b[01m\u001b[K./src/detector.c:\u001b[m\u001b[K In function ‘\u001b[01m\u001b[Kvalidate_detector_map\u001b[m\u001b[K’:\n",
            "\u001b[01m\u001b[K./src/detector.c:1315:24:\u001b[m\u001b[K \u001b[01;35m\u001b[Kwarning: \u001b[m\u001b[Kvariable ‘\u001b[01m\u001b[Kcur_prob\u001b[m\u001b[K’ set but not used [\u001b[01;35m\u001b[K-Wunused-but-set-variable\u001b[m\u001b[K]\n",
            "                 double \u001b[01;35m\u001b[Kcur_prob\u001b[m\u001b[K = 0;\n",
            "                        \u001b[01;35m\u001b[K^~~~~~~~\u001b[m\u001b[K\n",
            "\u001b[01m\u001b[K./src/detector.c:1336:15:\u001b[m\u001b[K \u001b[01;35m\u001b[Kwarning: \u001b[m\u001b[Kunused variable ‘\u001b[01m\u001b[Kclass_recall\u001b[m\u001b[K’ [\u001b[01;35m\u001b[K-Wunused-variable\u001b[m\u001b[K]\n",
            "         float \u001b[01;35m\u001b[Kclass_recall\u001b[m\u001b[K = (float)tp_for_thresh_per_class[i] / ((float)tp_for_thresh_per_class[i] + (float)(truth_classes_count[i] - tp_for_thresh_per_class[i]));\n",
            "               \u001b[01;35m\u001b[K^~~~~~~~~~~~\u001b[m\u001b[K\n",
            "\u001b[01m\u001b[K./src/detector.c:1335:15:\u001b[m\u001b[K \u001b[01;35m\u001b[Kwarning: \u001b[m\u001b[Kunused variable ‘\u001b[01m\u001b[Kclass_precision\u001b[m\u001b[K’ [\u001b[01;35m\u001b[K-Wunused-variable\u001b[m\u001b[K]\n",
            "         float \u001b[01;35m\u001b[Kclass_precision\u001b[m\u001b[K = (float)tp_for_thresh_per_class[i] / ((float)tp_for_thresh_per_class[i] + (float)fp_for_thresh_per_class[i]);\n",
            "               \u001b[01;35m\u001b[K^~~~~~~~~~~~~~~\u001b[m\u001b[K\n",
            "\u001b[01m\u001b[K./src/detector.c:\u001b[m\u001b[K In function ‘\u001b[01m\u001b[Kdraw_object\u001b[m\u001b[K’:\n",
            "\u001b[01m\u001b[K./src/detector.c:1871:19:\u001b[m\u001b[K \u001b[01;35m\u001b[Kwarning: \u001b[m\u001b[Kunused variable ‘\u001b[01m\u001b[Kinv_loss\u001b[m\u001b[K’ [\u001b[01;35m\u001b[K-Wunused-variable\u001b[m\u001b[K]\n",
            "             float \u001b[01;35m\u001b[Kinv_loss\u001b[m\u001b[K = 1.0 / max_val_cmp(0.01, avg_loss);\n",
            "                   \u001b[01;35m\u001b[K^~~~~~~~\u001b[m\u001b[K\n",
            "gcc -Iinclude/ -I3rdparty/stb/include -DOPENCV `pkg-config --cflags opencv4 2> /dev/null || pkg-config --cflags opencv` -DGPU -I/usr/local/cuda/include/ -DCUDNN -DCUDNN_HALF -Wall -Wfatal-errors -Wno-unused-result -Wno-unknown-pragmas -fPIC -Ofast -DOPENCV -DGPU -DCUDNN -I/usr/local/cudnn/include -DCUDNN_HALF -c ./src/layer.c -o obj/layer.o\n",
            "\u001b[01m\u001b[K./src/layer.c:\u001b[m\u001b[K In function ‘\u001b[01m\u001b[Kfree_layer_custom\u001b[m\u001b[K’:\n",
            "\u001b[01m\u001b[K./src/layer.c:208:68:\u001b[m\u001b[K \u001b[01;35m\u001b[Kwarning: \u001b[m\u001b[Ksuggest parentheses around ‘\u001b[01m\u001b[K&&\u001b[m\u001b[K’ within ‘\u001b[01m\u001b[K||\u001b[m\u001b[K’ [\u001b[01;35m\u001b[K-Wparentheses\u001b[m\u001b[K]\n",
            "     if (l.delta_gpu && (l.optimized_memory < 1 || \u001b[01;35m\u001b[Kl.keep_delta_gpu && l.optimized_memory < 3\u001b[m\u001b[K)) cuda_free(l.delta_gpu), l.delta_gpu = NULL;\n",
            "                                                   \u001b[01;35m\u001b[K~~~~~~~~~~~~~~~~~^~~~~~~~~~~~~~~~~~~~~~~~~\u001b[m\u001b[K\n",
            "gcc -Iinclude/ -I3rdparty/stb/include -DOPENCV `pkg-config --cflags opencv4 2> /dev/null || pkg-config --cflags opencv` -DGPU -I/usr/local/cuda/include/ -DCUDNN -DCUDNN_HALF -Wall -Wfatal-errors -Wno-unused-result -Wno-unknown-pragmas -fPIC -Ofast -DOPENCV -DGPU -DCUDNN -I/usr/local/cudnn/include -DCUDNN_HALF -c ./src/compare.c -o obj/compare.o\n",
            "gcc -Iinclude/ -I3rdparty/stb/include -DOPENCV `pkg-config --cflags opencv4 2> /dev/null || pkg-config --cflags opencv` -DGPU -I/usr/local/cuda/include/ -DCUDNN -DCUDNN_HALF -Wall -Wfatal-errors -Wno-unused-result -Wno-unknown-pragmas -fPIC -Ofast -DOPENCV -DGPU -DCUDNN -I/usr/local/cudnn/include -DCUDNN_HALF -c ./src/classifier.c -o obj/classifier.o\n",
            "\u001b[01m\u001b[K./src/classifier.c:\u001b[m\u001b[K In function ‘\u001b[01m\u001b[Ktrain_classifier\u001b[m\u001b[K’:\n",
            "\u001b[01m\u001b[K./src/classifier.c:146:9:\u001b[m\u001b[K \u001b[01;35m\u001b[Kwarning: \u001b[m\u001b[Kunused variable ‘\u001b[01m\u001b[Kcount\u001b[m\u001b[K’ [\u001b[01;35m\u001b[K-Wunused-variable\u001b[m\u001b[K]\n",
            "     int \u001b[01;35m\u001b[Kcount\u001b[m\u001b[K = 0;\n",
            "         \u001b[01;35m\u001b[K^~~~~\u001b[m\u001b[K\n",
            "\u001b[01m\u001b[K./src/classifier.c:\u001b[m\u001b[K In function ‘\u001b[01m\u001b[Kpredict_classifier\u001b[m\u001b[K’:\n",
            "\u001b[01m\u001b[K./src/classifier.c:855:13:\u001b[m\u001b[K \u001b[01;35m\u001b[Kwarning: \u001b[m\u001b[Kunused variable ‘\u001b[01m\u001b[Ktime\u001b[m\u001b[K’ [\u001b[01;35m\u001b[K-Wunused-variable\u001b[m\u001b[K]\n",
            "     clock_t \u001b[01;35m\u001b[Ktime\u001b[m\u001b[K;\n",
            "             \u001b[01;35m\u001b[K^~~~\u001b[m\u001b[K\n",
            "\u001b[01m\u001b[K./src/classifier.c:\u001b[m\u001b[K In function ‘\u001b[01m\u001b[Kdemo_classifier\u001b[m\u001b[K’:\n",
            "\u001b[01m\u001b[K./src/classifier.c:1287:49:\u001b[m\u001b[K \u001b[01;35m\u001b[Kwarning: \u001b[m\u001b[Kunused variable ‘\u001b[01m\u001b[Ktval_result\u001b[m\u001b[K’ [\u001b[01;35m\u001b[K-Wunused-variable\u001b[m\u001b[K]\n",
            "         struct timeval tval_before, tval_after, \u001b[01;35m\u001b[Ktval_result\u001b[m\u001b[K;\n",
            "                                                 \u001b[01;35m\u001b[K^~~~~~~~~~~\u001b[m\u001b[K\n",
            "\u001b[01m\u001b[K./src/classifier.c:1287:37:\u001b[m\u001b[K \u001b[01;35m\u001b[Kwarning: \u001b[m\u001b[Kunused variable ‘\u001b[01m\u001b[Ktval_after\u001b[m\u001b[K’ [\u001b[01;35m\u001b[K-Wunused-variable\u001b[m\u001b[K]\n",
            "         struct timeval tval_before, \u001b[01;35m\u001b[Ktval_after\u001b[m\u001b[K, tval_result;\n",
            "                                     \u001b[01;35m\u001b[K^~~~~~~~~~\u001b[m\u001b[K\n",
            "gcc -Iinclude/ -I3rdparty/stb/include -DOPENCV `pkg-config --cflags opencv4 2> /dev/null || pkg-config --cflags opencv` -DGPU -I/usr/local/cuda/include/ -DCUDNN -DCUDNN_HALF -Wall -Wfatal-errors -Wno-unused-result -Wno-unknown-pragmas -fPIC -Ofast -DOPENCV -DGPU -DCUDNN -I/usr/local/cudnn/include -DCUDNN_HALF -c ./src/local_layer.c -o obj/local_layer.o\n",
            "gcc -Iinclude/ -I3rdparty/stb/include -DOPENCV `pkg-config --cflags opencv4 2> /dev/null || pkg-config --cflags opencv` -DGPU -I/usr/local/cuda/include/ -DCUDNN -DCUDNN_HALF -Wall -Wfatal-errors -Wno-unused-result -Wno-unknown-pragmas -fPIC -Ofast -DOPENCV -DGPU -DCUDNN -I/usr/local/cudnn/include -DCUDNN_HALF -c ./src/swag.c -o obj/swag.o\n",
            "gcc -Iinclude/ -I3rdparty/stb/include -DOPENCV `pkg-config --cflags opencv4 2> /dev/null || pkg-config --cflags opencv` -DGPU -I/usr/local/cuda/include/ -DCUDNN -DCUDNN_HALF -Wall -Wfatal-errors -Wno-unused-result -Wno-unknown-pragmas -fPIC -Ofast -DOPENCV -DGPU -DCUDNN -I/usr/local/cudnn/include -DCUDNN_HALF -c ./src/shortcut_layer.c -o obj/shortcut_layer.o\n",
            "\u001b[01m\u001b[K./src/shortcut_layer.c:\u001b[m\u001b[K In function ‘\u001b[01m\u001b[Kmake_shortcut_layer\u001b[m\u001b[K’:\n",
            "\u001b[01m\u001b[K./src/shortcut_layer.c:55:15:\u001b[m\u001b[K \u001b[01;35m\u001b[Kwarning: \u001b[m\u001b[Kunused variable ‘\u001b[01m\u001b[Kscale\u001b[m\u001b[K’ [\u001b[01;35m\u001b[K-Wunused-variable\u001b[m\u001b[K]\n",
            "         float \u001b[01;35m\u001b[Kscale\u001b[m\u001b[K = sqrt(2. / l.nweights);\n",
            "               \u001b[01;35m\u001b[K^~~~~\u001b[m\u001b[K\n",
            "gcc -Iinclude/ -I3rdparty/stb/include -DOPENCV `pkg-config --cflags opencv4 2> /dev/null || pkg-config --cflags opencv` -DGPU -I/usr/local/cuda/include/ -DCUDNN -DCUDNN_HALF -Wall -Wfatal-errors -Wno-unused-result -Wno-unknown-pragmas -fPIC -Ofast -DOPENCV -DGPU -DCUDNN -I/usr/local/cudnn/include -DCUDNN_HALF -c ./src/representation_layer.c -o obj/representation_layer.o\n",
            "gcc -Iinclude/ -I3rdparty/stb/include -DOPENCV `pkg-config --cflags opencv4 2> /dev/null || pkg-config --cflags opencv` -DGPU -I/usr/local/cuda/include/ -DCUDNN -DCUDNN_HALF -Wall -Wfatal-errors -Wno-unused-result -Wno-unknown-pragmas -fPIC -Ofast -DOPENCV -DGPU -DCUDNN -I/usr/local/cudnn/include -DCUDNN_HALF -c ./src/activation_layer.c -o obj/activation_layer.o\n",
            "gcc -Iinclude/ -I3rdparty/stb/include -DOPENCV `pkg-config --cflags opencv4 2> /dev/null || pkg-config --cflags opencv` -DGPU -I/usr/local/cuda/include/ -DCUDNN -DCUDNN_HALF -Wall -Wfatal-errors -Wno-unused-result -Wno-unknown-pragmas -fPIC -Ofast -DOPENCV -DGPU -DCUDNN -I/usr/local/cudnn/include -DCUDNN_HALF -c ./src/rnn_layer.c -o obj/rnn_layer.o\n",
            "gcc -Iinclude/ -I3rdparty/stb/include -DOPENCV `pkg-config --cflags opencv4 2> /dev/null || pkg-config --cflags opencv` -DGPU -I/usr/local/cuda/include/ -DCUDNN -DCUDNN_HALF -Wall -Wfatal-errors -Wno-unused-result -Wno-unknown-pragmas -fPIC -Ofast -DOPENCV -DGPU -DCUDNN -I/usr/local/cudnn/include -DCUDNN_HALF -c ./src/gru_layer.c -o obj/gru_layer.o\n",
            "gcc -Iinclude/ -I3rdparty/stb/include -DOPENCV `pkg-config --cflags opencv4 2> /dev/null || pkg-config --cflags opencv` -DGPU -I/usr/local/cuda/include/ -DCUDNN -DCUDNN_HALF -Wall -Wfatal-errors -Wno-unused-result -Wno-unknown-pragmas -fPIC -Ofast -DOPENCV -DGPU -DCUDNN -I/usr/local/cudnn/include -DCUDNN_HALF -c ./src/rnn.c -o obj/rnn.o\n",
            "gcc -Iinclude/ -I3rdparty/stb/include -DOPENCV `pkg-config --cflags opencv4 2> /dev/null || pkg-config --cflags opencv` -DGPU -I/usr/local/cuda/include/ -DCUDNN -DCUDNN_HALF -Wall -Wfatal-errors -Wno-unused-result -Wno-unknown-pragmas -fPIC -Ofast -DOPENCV -DGPU -DCUDNN -I/usr/local/cudnn/include -DCUDNN_HALF -c ./src/rnn_vid.c -o obj/rnn_vid.o\n",
            "gcc -Iinclude/ -I3rdparty/stb/include -DOPENCV `pkg-config --cflags opencv4 2> /dev/null || pkg-config --cflags opencv` -DGPU -I/usr/local/cuda/include/ -DCUDNN -DCUDNN_HALF -Wall -Wfatal-errors -Wno-unused-result -Wno-unknown-pragmas -fPIC -Ofast -DOPENCV -DGPU -DCUDNN -I/usr/local/cudnn/include -DCUDNN_HALF -c ./src/crnn_layer.c -o obj/crnn_layer.o\n",
            "gcc -Iinclude/ -I3rdparty/stb/include -DOPENCV `pkg-config --cflags opencv4 2> /dev/null || pkg-config --cflags opencv` -DGPU -I/usr/local/cuda/include/ -DCUDNN -DCUDNN_HALF -Wall -Wfatal-errors -Wno-unused-result -Wno-unknown-pragmas -fPIC -Ofast -DOPENCV -DGPU -DCUDNN -I/usr/local/cudnn/include -DCUDNN_HALF -c ./src/demo.c -o obj/demo.o\n",
            "\u001b[01m\u001b[K./src/demo.c:\u001b[m\u001b[K In function ‘\u001b[01m\u001b[Kdetect_in_thread\u001b[m\u001b[K’:\n",
            "\u001b[01m\u001b[K./src/demo.c:101:15:\u001b[m\u001b[K \u001b[01;35m\u001b[Kwarning: \u001b[m\u001b[Kunused variable ‘\u001b[01m\u001b[Kl\u001b[m\u001b[K’ [\u001b[01;35m\u001b[K-Wunused-variable\u001b[m\u001b[K]\n",
            "         layer \u001b[01;35m\u001b[Kl\u001b[m\u001b[K = net.layers[net.n - 1];\n",
            "               \u001b[01;35m\u001b[K^\u001b[m\u001b[K\n",
            "gcc -Iinclude/ -I3rdparty/stb/include -DOPENCV `pkg-config --cflags opencv4 2> /dev/null || pkg-config --cflags opencv` -DGPU -I/usr/local/cuda/include/ -DCUDNN -DCUDNN_HALF -Wall -Wfatal-errors -Wno-unused-result -Wno-unknown-pragmas -fPIC -Ofast -DOPENCV -DGPU -DCUDNN -I/usr/local/cudnn/include -DCUDNN_HALF -c ./src/tag.c -o obj/tag.o\n",
            "gcc -Iinclude/ -I3rdparty/stb/include -DOPENCV `pkg-config --cflags opencv4 2> /dev/null || pkg-config --cflags opencv` -DGPU -I/usr/local/cuda/include/ -DCUDNN -DCUDNN_HALF -Wall -Wfatal-errors -Wno-unused-result -Wno-unknown-pragmas -fPIC -Ofast -DOPENCV -DGPU -DCUDNN -I/usr/local/cudnn/include -DCUDNN_HALF -c ./src/cifar.c -o obj/cifar.o\n",
            "gcc -Iinclude/ -I3rdparty/stb/include -DOPENCV `pkg-config --cflags opencv4 2> /dev/null || pkg-config --cflags opencv` -DGPU -I/usr/local/cuda/include/ -DCUDNN -DCUDNN_HALF -Wall -Wfatal-errors -Wno-unused-result -Wno-unknown-pragmas -fPIC -Ofast -DOPENCV -DGPU -DCUDNN -I/usr/local/cudnn/include -DCUDNN_HALF -c ./src/go.c -o obj/go.o\n",
            "gcc -Iinclude/ -I3rdparty/stb/include -DOPENCV `pkg-config --cflags opencv4 2> /dev/null || pkg-config --cflags opencv` -DGPU -I/usr/local/cuda/include/ -DCUDNN -DCUDNN_HALF -Wall -Wfatal-errors -Wno-unused-result -Wno-unknown-pragmas -fPIC -Ofast -DOPENCV -DGPU -DCUDNN -I/usr/local/cudnn/include -DCUDNN_HALF -c ./src/batchnorm_layer.c -o obj/batchnorm_layer.o\n",
            "gcc -Iinclude/ -I3rdparty/stb/include -DOPENCV `pkg-config --cflags opencv4 2> /dev/null || pkg-config --cflags opencv` -DGPU -I/usr/local/cuda/include/ -DCUDNN -DCUDNN_HALF -Wall -Wfatal-errors -Wno-unused-result -Wno-unknown-pragmas -fPIC -Ofast -DOPENCV -DGPU -DCUDNN -I/usr/local/cudnn/include -DCUDNN_HALF -c ./src/art.c -o obj/art.o\n",
            "gcc -Iinclude/ -I3rdparty/stb/include -DOPENCV `pkg-config --cflags opencv4 2> /dev/null || pkg-config --cflags opencv` -DGPU -I/usr/local/cuda/include/ -DCUDNN -DCUDNN_HALF -Wall -Wfatal-errors -Wno-unused-result -Wno-unknown-pragmas -fPIC -Ofast -DOPENCV -DGPU -DCUDNN -I/usr/local/cudnn/include -DCUDNN_HALF -c ./src/region_layer.c -o obj/region_layer.o\n",
            "\u001b[01m\u001b[K./src/region_layer.c:\u001b[m\u001b[K In function ‘\u001b[01m\u001b[Kresize_region_layer\u001b[m\u001b[K’:\n",
            "\u001b[01m\u001b[K./src/region_layer.c:63:9:\u001b[m\u001b[K \u001b[01;35m\u001b[Kwarning: \u001b[m\u001b[Kunused variable ‘\u001b[01m\u001b[Kold_h\u001b[m\u001b[K’ [\u001b[01;35m\u001b[K-Wunused-variable\u001b[m\u001b[K]\n",
            "     int \u001b[01;35m\u001b[Kold_h\u001b[m\u001b[K = l->h;\n",
            "         \u001b[01;35m\u001b[K^~~~~\u001b[m\u001b[K\n",
            "\u001b[01m\u001b[K./src/region_layer.c:62:9:\u001b[m\u001b[K \u001b[01;35m\u001b[Kwarning: \u001b[m\u001b[Kunused variable ‘\u001b[01m\u001b[Kold_w\u001b[m\u001b[K’ [\u001b[01;35m\u001b[K-Wunused-variable\u001b[m\u001b[K]\n",
            "     int \u001b[01;35m\u001b[Kold_w\u001b[m\u001b[K = l->w;\n",
            "         \u001b[01;35m\u001b[K^~~~~\u001b[m\u001b[K\n",
            "gcc -Iinclude/ -I3rdparty/stb/include -DOPENCV `pkg-config --cflags opencv4 2> /dev/null || pkg-config --cflags opencv` -DGPU -I/usr/local/cuda/include/ -DCUDNN -DCUDNN_HALF -Wall -Wfatal-errors -Wno-unused-result -Wno-unknown-pragmas -fPIC -Ofast -DOPENCV -DGPU -DCUDNN -I/usr/local/cudnn/include -DCUDNN_HALF -c ./src/reorg_layer.c -o obj/reorg_layer.o\n",
            "gcc -Iinclude/ -I3rdparty/stb/include -DOPENCV `pkg-config --cflags opencv4 2> /dev/null || pkg-config --cflags opencv` -DGPU -I/usr/local/cuda/include/ -DCUDNN -DCUDNN_HALF -Wall -Wfatal-errors -Wno-unused-result -Wno-unknown-pragmas -fPIC -Ofast -DOPENCV -DGPU -DCUDNN -I/usr/local/cudnn/include -DCUDNN_HALF -c ./src/reorg_old_layer.c -o obj/reorg_old_layer.o\n",
            "gcc -Iinclude/ -I3rdparty/stb/include -DOPENCV `pkg-config --cflags opencv4 2> /dev/null || pkg-config --cflags opencv` -DGPU -I/usr/local/cuda/include/ -DCUDNN -DCUDNN_HALF -Wall -Wfatal-errors -Wno-unused-result -Wno-unknown-pragmas -fPIC -Ofast -DOPENCV -DGPU -DCUDNN -I/usr/local/cudnn/include -DCUDNN_HALF -c ./src/super.c -o obj/super.o\n",
            "gcc -Iinclude/ -I3rdparty/stb/include -DOPENCV `pkg-config --cflags opencv4 2> /dev/null || pkg-config --cflags opencv` -DGPU -I/usr/local/cuda/include/ -DCUDNN -DCUDNN_HALF -Wall -Wfatal-errors -Wno-unused-result -Wno-unknown-pragmas -fPIC -Ofast -DOPENCV -DGPU -DCUDNN -I/usr/local/cudnn/include -DCUDNN_HALF -c ./src/voxel.c -o obj/voxel.o\n",
            "gcc -Iinclude/ -I3rdparty/stb/include -DOPENCV `pkg-config --cflags opencv4 2> /dev/null || pkg-config --cflags opencv` -DGPU -I/usr/local/cuda/include/ -DCUDNN -DCUDNN_HALF -Wall -Wfatal-errors -Wno-unused-result -Wno-unknown-pragmas -fPIC -Ofast -DOPENCV -DGPU -DCUDNN -I/usr/local/cudnn/include -DCUDNN_HALF -c ./src/tree.c -o obj/tree.o\n",
            "gcc -Iinclude/ -I3rdparty/stb/include -DOPENCV `pkg-config --cflags opencv4 2> /dev/null || pkg-config --cflags opencv` -DGPU -I/usr/local/cuda/include/ -DCUDNN -DCUDNN_HALF -Wall -Wfatal-errors -Wno-unused-result -Wno-unknown-pragmas -fPIC -Ofast -DOPENCV -DGPU -DCUDNN -I/usr/local/cudnn/include -DCUDNN_HALF -c ./src/yolo_layer.c -o obj/yolo_layer.o\n",
            "\u001b[01m\u001b[K./src/yolo_layer.c:\u001b[m\u001b[K In function ‘\u001b[01m\u001b[Kmake_yolo_layer\u001b[m\u001b[K’:\n",
            "\u001b[01m\u001b[K./src/yolo_layer.c:68:38:\u001b[m\u001b[K \u001b[01;35m\u001b[Kwarning: \u001b[m\u001b[Kpassing argument 1 of ‘\u001b[01m\u001b[KcudaHostAlloc\u001b[m\u001b[K’ from incompatible pointer type [\u001b[01;35m\u001b[K-Wincompatible-pointer-types\u001b[m\u001b[K]\n",
            "     if (cudaSuccess == cudaHostAlloc(\u001b[01;35m\u001b[K&\u001b[m\u001b[Kl.output, batch*l.outputs*sizeof(float), cudaHostRegisterMapped)) l.output_pinned = 1;\n",
            "                                      \u001b[01;35m\u001b[K^\u001b[m\u001b[K\n",
            "In file included from \u001b[01m\u001b[K/usr/local/cuda/include/cuda_runtime.h:96:0\u001b[m\u001b[K,\n",
            "                 from \u001b[01m\u001b[Kinclude/darknet.h:41\u001b[m\u001b[K,\n",
            "                 from \u001b[01m\u001b[K./src/activations.h:3\u001b[m\u001b[K,\n",
            "                 from \u001b[01m\u001b[K./src/layer.h:4\u001b[m\u001b[K,\n",
            "                 from \u001b[01m\u001b[K./src/yolo_layer.h:5\u001b[m\u001b[K,\n",
            "                 from \u001b[01m\u001b[K./src/yolo_layer.c:1\u001b[m\u001b[K:\n",
            "\u001b[01m\u001b[K/usr/local/cuda/include/cuda_runtime_api.h:4707:39:\u001b[m\u001b[K \u001b[01;36m\u001b[Knote: \u001b[m\u001b[Kexpected ‘\u001b[01m\u001b[Kvoid **\u001b[m\u001b[K’ but argument is of type ‘\u001b[01m\u001b[Kfloat **\u001b[m\u001b[K’\n",
            " extern __host__ cudaError_t CUDARTAPI \u001b[01;36m\u001b[KcudaHostAlloc\u001b[m\u001b[K(void **pHost, size_t size, unsigned int flags);\n",
            "                                       \u001b[01;36m\u001b[K^~~~~~~~~~~~~\u001b[m\u001b[K\n",
            "\u001b[01m\u001b[K./src/yolo_layer.c:75:38:\u001b[m\u001b[K \u001b[01;35m\u001b[Kwarning: \u001b[m\u001b[Kpassing argument 1 of ‘\u001b[01m\u001b[KcudaHostAlloc\u001b[m\u001b[K’ from incompatible pointer type [\u001b[01;35m\u001b[K-Wincompatible-pointer-types\u001b[m\u001b[K]\n",
            "     if (cudaSuccess == cudaHostAlloc(\u001b[01;35m\u001b[K&\u001b[m\u001b[Kl.delta, batch*l.outputs*sizeof(float), cudaHostRegisterMapped)) l.delta_pinned = 1;\n",
            "                                      \u001b[01;35m\u001b[K^\u001b[m\u001b[K\n",
            "In file included from \u001b[01m\u001b[K/usr/local/cuda/include/cuda_runtime.h:96:0\u001b[m\u001b[K,\n",
            "                 from \u001b[01m\u001b[Kinclude/darknet.h:41\u001b[m\u001b[K,\n",
            "                 from \u001b[01m\u001b[K./src/activations.h:3\u001b[m\u001b[K,\n",
            "                 from \u001b[01m\u001b[K./src/layer.h:4\u001b[m\u001b[K,\n",
            "                 from \u001b[01m\u001b[K./src/yolo_layer.h:5\u001b[m\u001b[K,\n",
            "                 from \u001b[01m\u001b[K./src/yolo_layer.c:1\u001b[m\u001b[K:\n",
            "\u001b[01m\u001b[K/usr/local/cuda/include/cuda_runtime_api.h:4707:39:\u001b[m\u001b[K \u001b[01;36m\u001b[Knote: \u001b[m\u001b[Kexpected ‘\u001b[01m\u001b[Kvoid **\u001b[m\u001b[K’ but argument is of type ‘\u001b[01m\u001b[Kfloat **\u001b[m\u001b[K’\n",
            " extern __host__ cudaError_t CUDARTAPI \u001b[01;36m\u001b[KcudaHostAlloc\u001b[m\u001b[K(void **pHost, size_t size, unsigned int flags);\n",
            "                                       \u001b[01;36m\u001b[K^~~~~~~~~~~~~\u001b[m\u001b[K\n",
            "\u001b[01m\u001b[K./src/yolo_layer.c:\u001b[m\u001b[K In function ‘\u001b[01m\u001b[Kresize_yolo_layer\u001b[m\u001b[K’:\n",
            "\u001b[01m\u001b[K./src/yolo_layer.c:106:42:\u001b[m\u001b[K \u001b[01;35m\u001b[Kwarning: \u001b[m\u001b[Kpassing argument 1 of ‘\u001b[01m\u001b[KcudaHostAlloc\u001b[m\u001b[K’ from incompatible pointer type [\u001b[01;35m\u001b[K-Wincompatible-pointer-types\u001b[m\u001b[K]\n",
            "         if (cudaSuccess != cudaHostAlloc(\u001b[01;35m\u001b[K&\u001b[m\u001b[Kl->output, l->batch*l->outputs * sizeof(float), cudaHostRegisterMapped)) {\n",
            "                                          \u001b[01;35m\u001b[K^\u001b[m\u001b[K\n",
            "In file included from \u001b[01m\u001b[K/usr/local/cuda/include/cuda_runtime.h:96:0\u001b[m\u001b[K,\n",
            "                 from \u001b[01m\u001b[Kinclude/darknet.h:41\u001b[m\u001b[K,\n",
            "                 from \u001b[01m\u001b[K./src/activations.h:3\u001b[m\u001b[K,\n",
            "                 from \u001b[01m\u001b[K./src/layer.h:4\u001b[m\u001b[K,\n",
            "                 from \u001b[01m\u001b[K./src/yolo_layer.h:5\u001b[m\u001b[K,\n",
            "                 from \u001b[01m\u001b[K./src/yolo_layer.c:1\u001b[m\u001b[K:\n",
            "\u001b[01m\u001b[K/usr/local/cuda/include/cuda_runtime_api.h:4707:39:\u001b[m\u001b[K \u001b[01;36m\u001b[Knote: \u001b[m\u001b[Kexpected ‘\u001b[01m\u001b[Kvoid **\u001b[m\u001b[K’ but argument is of type ‘\u001b[01m\u001b[Kfloat **\u001b[m\u001b[K’\n",
            " extern __host__ cudaError_t CUDARTAPI \u001b[01;36m\u001b[KcudaHostAlloc\u001b[m\u001b[K(void **pHost, size_t size, unsigned int flags);\n",
            "                                       \u001b[01;36m\u001b[K^~~~~~~~~~~~~\u001b[m\u001b[K\n",
            "\u001b[01m\u001b[K./src/yolo_layer.c:115:42:\u001b[m\u001b[K \u001b[01;35m\u001b[Kwarning: \u001b[m\u001b[Kpassing argument 1 of ‘\u001b[01m\u001b[KcudaHostAlloc\u001b[m\u001b[K’ from incompatible pointer type [\u001b[01;35m\u001b[K-Wincompatible-pointer-types\u001b[m\u001b[K]\n",
            "         if (cudaSuccess != cudaHostAlloc(\u001b[01;35m\u001b[K&\u001b[m\u001b[Kl->delta, l->batch*l->outputs * sizeof(float), cudaHostRegisterMapped)) {\n",
            "                                          \u001b[01;35m\u001b[K^\u001b[m\u001b[K\n",
            "In file included from \u001b[01m\u001b[K/usr/local/cuda/include/cuda_runtime.h:96:0\u001b[m\u001b[K,\n",
            "                 from \u001b[01m\u001b[Kinclude/darknet.h:41\u001b[m\u001b[K,\n",
            "                 from \u001b[01m\u001b[K./src/activations.h:3\u001b[m\u001b[K,\n",
            "                 from \u001b[01m\u001b[K./src/layer.h:4\u001b[m\u001b[K,\n",
            "                 from \u001b[01m\u001b[K./src/yolo_layer.h:5\u001b[m\u001b[K,\n",
            "                 from \u001b[01m\u001b[K./src/yolo_layer.c:1\u001b[m\u001b[K:\n",
            "\u001b[01m\u001b[K/usr/local/cuda/include/cuda_runtime_api.h:4707:39:\u001b[m\u001b[K \u001b[01;36m\u001b[Knote: \u001b[m\u001b[Kexpected ‘\u001b[01m\u001b[Kvoid **\u001b[m\u001b[K’ but argument is of type ‘\u001b[01m\u001b[Kfloat **\u001b[m\u001b[K’\n",
            " extern __host__ cudaError_t CUDARTAPI \u001b[01;36m\u001b[KcudaHostAlloc\u001b[m\u001b[K(void **pHost, size_t size, unsigned int flags);\n",
            "                                       \u001b[01;36m\u001b[K^~~~~~~~~~~~~\u001b[m\u001b[K\n",
            "\u001b[01m\u001b[K./src/yolo_layer.c:\u001b[m\u001b[K In function ‘\u001b[01m\u001b[Kprocess_batch\u001b[m\u001b[K’:\n",
            "\u001b[01m\u001b[K./src/yolo_layer.c:426:25:\u001b[m\u001b[K \u001b[01;35m\u001b[Kwarning: \u001b[m\u001b[Kvariable ‘\u001b[01m\u001b[Kbest_match_t\u001b[m\u001b[K’ set but not used [\u001b[01;35m\u001b[K-Wunused-but-set-variable\u001b[m\u001b[K]\n",
            "                     int \u001b[01;35m\u001b[Kbest_match_t\u001b[m\u001b[K = 0;\n",
            "                         \u001b[01;35m\u001b[K^~~~~~~~~~~~\u001b[m\u001b[K\n",
            "\u001b[01m\u001b[K./src/yolo_layer.c:\u001b[m\u001b[K In function ‘\u001b[01m\u001b[Kforward_yolo_layer\u001b[m\u001b[K’:\n",
            "\u001b[01m\u001b[K./src/yolo_layer.c:707:11:\u001b[m\u001b[K \u001b[01;35m\u001b[Kwarning: \u001b[m\u001b[Kunused variable ‘\u001b[01m\u001b[Kavg_anyobj\u001b[m\u001b[K’ [\u001b[01;35m\u001b[K-Wunused-variable\u001b[m\u001b[K]\n",
            "     float \u001b[01;35m\u001b[Kavg_anyobj\u001b[m\u001b[K = 0;\n",
            "           \u001b[01;35m\u001b[K^~~~~~~~~~\u001b[m\u001b[K\n",
            "\u001b[01m\u001b[K./src/yolo_layer.c:706:11:\u001b[m\u001b[K \u001b[01;35m\u001b[Kwarning: \u001b[m\u001b[Kunused variable ‘\u001b[01m\u001b[Kavg_obj\u001b[m\u001b[K’ [\u001b[01;35m\u001b[K-Wunused-variable\u001b[m\u001b[K]\n",
            "     float \u001b[01;35m\u001b[Kavg_obj\u001b[m\u001b[K = 0;\n",
            "           \u001b[01;35m\u001b[K^~~~~~~\u001b[m\u001b[K\n",
            "\u001b[01m\u001b[K./src/yolo_layer.c:705:11:\u001b[m\u001b[K \u001b[01;35m\u001b[Kwarning: \u001b[m\u001b[Kunused variable ‘\u001b[01m\u001b[Kavg_cat\u001b[m\u001b[K’ [\u001b[01;35m\u001b[K-Wunused-variable\u001b[m\u001b[K]\n",
            "     float \u001b[01;35m\u001b[Kavg_cat\u001b[m\u001b[K = 0;\n",
            "           \u001b[01;35m\u001b[K^~~~~~~\u001b[m\u001b[K\n",
            "\u001b[01m\u001b[K./src/yolo_layer.c:704:11:\u001b[m\u001b[K \u001b[01;35m\u001b[Kwarning: \u001b[m\u001b[Kunused variable ‘\u001b[01m\u001b[Krecall75\u001b[m\u001b[K’ [\u001b[01;35m\u001b[K-Wunused-variable\u001b[m\u001b[K]\n",
            "     float \u001b[01;35m\u001b[Krecall75\u001b[m\u001b[K = 0;\n",
            "           \u001b[01;35m\u001b[K^~~~~~~~\u001b[m\u001b[K\n",
            "\u001b[01m\u001b[K./src/yolo_layer.c:703:11:\u001b[m\u001b[K \u001b[01;35m\u001b[Kwarning: \u001b[m\u001b[Kunused variable ‘\u001b[01m\u001b[Krecall\u001b[m\u001b[K’ [\u001b[01;35m\u001b[K-Wunused-variable\u001b[m\u001b[K]\n",
            "     float \u001b[01;35m\u001b[Krecall\u001b[m\u001b[K = 0;\n",
            "           \u001b[01;35m\u001b[K^~~~~~\u001b[m\u001b[K\n",
            "\u001b[01m\u001b[K./src/yolo_layer.c:702:11:\u001b[m\u001b[K \u001b[01;35m\u001b[Kwarning: \u001b[m\u001b[Kunused variable ‘\u001b[01m\u001b[Ktot_ciou_loss\u001b[m\u001b[K’ [\u001b[01;35m\u001b[K-Wunused-variable\u001b[m\u001b[K]\n",
            "     float \u001b[01;35m\u001b[Ktot_ciou_loss\u001b[m\u001b[K = 0;\n",
            "           \u001b[01;35m\u001b[K^~~~~~~~~~~~~\u001b[m\u001b[K\n",
            "\u001b[01m\u001b[K./src/yolo_layer.c:701:11:\u001b[m\u001b[K \u001b[01;35m\u001b[Kwarning: \u001b[m\u001b[Kunused variable ‘\u001b[01m\u001b[Ktot_diou_loss\u001b[m\u001b[K’ [\u001b[01;35m\u001b[K-Wunused-variable\u001b[m\u001b[K]\n",
            "     float \u001b[01;35m\u001b[Ktot_diou_loss\u001b[m\u001b[K = 0;\n",
            "           \u001b[01;35m\u001b[K^~~~~~~~~~~~~\u001b[m\u001b[K\n",
            "\u001b[01m\u001b[K./src/yolo_layer.c:698:11:\u001b[m\u001b[K \u001b[01;35m\u001b[Kwarning: \u001b[m\u001b[Kunused variable ‘\u001b[01m\u001b[Ktot_ciou\u001b[m\u001b[K’ [\u001b[01;35m\u001b[K-Wunused-variable\u001b[m\u001b[K]\n",
            "     float \u001b[01;35m\u001b[Ktot_ciou\u001b[m\u001b[K = 0;\n",
            "           \u001b[01;35m\u001b[K^~~~~~~~\u001b[m\u001b[K\n",
            "\u001b[01m\u001b[K./src/yolo_layer.c:697:11:\u001b[m\u001b[K \u001b[01;35m\u001b[Kwarning: \u001b[m\u001b[Kunused variable ‘\u001b[01m\u001b[Ktot_diou\u001b[m\u001b[K’ [\u001b[01;35m\u001b[K-Wunused-variable\u001b[m\u001b[K]\n",
            "     float \u001b[01;35m\u001b[Ktot_diou\u001b[m\u001b[K = 0;\n",
            "           \u001b[01;35m\u001b[K^~~~~~~~\u001b[m\u001b[K\n",
            "\u001b[01m\u001b[K./src/yolo_layer.c:696:11:\u001b[m\u001b[K \u001b[01;35m\u001b[Kwarning: \u001b[m\u001b[Kunused variable ‘\u001b[01m\u001b[Ktot_giou\u001b[m\u001b[K’ [\u001b[01;35m\u001b[K-Wunused-variable\u001b[m\u001b[K]\n",
            "     float \u001b[01;35m\u001b[Ktot_giou\u001b[m\u001b[K = 0;\n",
            "           \u001b[01;35m\u001b[K^~~~~~~~\u001b[m\u001b[K\n",
            "\u001b[01m\u001b[K./src/yolo_layer.c:668:12:\u001b[m\u001b[K \u001b[01;35m\u001b[Kwarning: \u001b[m\u001b[Kunused variable ‘\u001b[01m\u001b[Kn\u001b[m\u001b[K’ [\u001b[01;35m\u001b[K-Wunused-variable\u001b[m\u001b[K]\n",
            "     int b, \u001b[01;35m\u001b[Kn\u001b[m\u001b[K;\n",
            "            \u001b[01;35m\u001b[K^\u001b[m\u001b[K\n",
            "gcc -Iinclude/ -I3rdparty/stb/include -DOPENCV `pkg-config --cflags opencv4 2> /dev/null || pkg-config --cflags opencv` -DGPU -I/usr/local/cuda/include/ -DCUDNN -DCUDNN_HALF -Wall -Wfatal-errors -Wno-unused-result -Wno-unknown-pragmas -fPIC -Ofast -DOPENCV -DGPU -DCUDNN -I/usr/local/cudnn/include -DCUDNN_HALF -c ./src/gaussian_yolo_layer.c -o obj/gaussian_yolo_layer.o\n",
            "\u001b[01m\u001b[K./src/gaussian_yolo_layer.c:\u001b[m\u001b[K In function ‘\u001b[01m\u001b[Kmake_gaussian_yolo_layer\u001b[m\u001b[K’:\n",
            "\u001b[01m\u001b[K./src/gaussian_yolo_layer.c:72:38:\u001b[m\u001b[K \u001b[01;35m\u001b[Kwarning: \u001b[m\u001b[Kpassing argument 1 of ‘\u001b[01m\u001b[KcudaHostAlloc\u001b[m\u001b[K’ from incompatible pointer type [\u001b[01;35m\u001b[K-Wincompatible-pointer-types\u001b[m\u001b[K]\n",
            "     if (cudaSuccess == cudaHostAlloc(\u001b[01;35m\u001b[K&\u001b[m\u001b[Kl.output, batch*l.outputs * sizeof(float), cudaHostRegisterMapped)) l.output_pinned = 1;\n",
            "                                      \u001b[01;35m\u001b[K^\u001b[m\u001b[K\n",
            "In file included from \u001b[01m\u001b[K/usr/local/cuda/include/cuda_runtime.h:96:0\u001b[m\u001b[K,\n",
            "                 from \u001b[01m\u001b[Kinclude/darknet.h:41\u001b[m\u001b[K,\n",
            "                 from \u001b[01m\u001b[K./src/gaussian_yolo_layer.h:5\u001b[m\u001b[K,\n",
            "                 from \u001b[01m\u001b[K./src/gaussian_yolo_layer.c:7\u001b[m\u001b[K:\n",
            "\u001b[01m\u001b[K/usr/local/cuda/include/cuda_runtime_api.h:4707:39:\u001b[m\u001b[K \u001b[01;36m\u001b[Knote: \u001b[m\u001b[Kexpected ‘\u001b[01m\u001b[Kvoid **\u001b[m\u001b[K’ but argument is of type ‘\u001b[01m\u001b[Kfloat **\u001b[m\u001b[K’\n",
            " extern __host__ cudaError_t CUDARTAPI \u001b[01;36m\u001b[KcudaHostAlloc\u001b[m\u001b[K(void **pHost, size_t size, unsigned int flags);\n",
            "                                       \u001b[01;36m\u001b[K^~~~~~~~~~~~~\u001b[m\u001b[K\n",
            "\u001b[01m\u001b[K./src/gaussian_yolo_layer.c:79:38:\u001b[m\u001b[K \u001b[01;35m\u001b[Kwarning: \u001b[m\u001b[Kpassing argument 1 of ‘\u001b[01m\u001b[KcudaHostAlloc\u001b[m\u001b[K’ from incompatible pointer type [\u001b[01;35m\u001b[K-Wincompatible-pointer-types\u001b[m\u001b[K]\n",
            "     if (cudaSuccess == cudaHostAlloc(\u001b[01;35m\u001b[K&\u001b[m\u001b[Kl.delta, batch*l.outputs * sizeof(float), cudaHostRegisterMapped)) l.delta_pinned = 1;\n",
            "                                      \u001b[01;35m\u001b[K^\u001b[m\u001b[K\n",
            "In file included from \u001b[01m\u001b[K/usr/local/cuda/include/cuda_runtime.h:96:0\u001b[m\u001b[K,\n",
            "                 from \u001b[01m\u001b[Kinclude/darknet.h:41\u001b[m\u001b[K,\n",
            "                 from \u001b[01m\u001b[K./src/gaussian_yolo_layer.h:5\u001b[m\u001b[K,\n",
            "                 from \u001b[01m\u001b[K./src/gaussian_yolo_layer.c:7\u001b[m\u001b[K:\n",
            "\u001b[01m\u001b[K/usr/local/cuda/include/cuda_runtime_api.h:4707:39:\u001b[m\u001b[K \u001b[01;36m\u001b[Knote: \u001b[m\u001b[Kexpected ‘\u001b[01m\u001b[Kvoid **\u001b[m\u001b[K’ but argument is of type ‘\u001b[01m\u001b[Kfloat **\u001b[m\u001b[K’\n",
            " extern __host__ cudaError_t CUDARTAPI \u001b[01;36m\u001b[KcudaHostAlloc\u001b[m\u001b[K(void **pHost, size_t size, unsigned int flags);\n",
            "                                       \u001b[01;36m\u001b[K^~~~~~~~~~~~~\u001b[m\u001b[K\n",
            "\u001b[01m\u001b[K./src/gaussian_yolo_layer.c:\u001b[m\u001b[K In function ‘\u001b[01m\u001b[Kresize_gaussian_yolo_layer\u001b[m\u001b[K’:\n",
            "\u001b[01m\u001b[K./src/gaussian_yolo_layer.c:111:42:\u001b[m\u001b[K \u001b[01;35m\u001b[Kwarning: \u001b[m\u001b[Kpassing argument 1 of ‘\u001b[01m\u001b[KcudaHostAlloc\u001b[m\u001b[K’ from incompatible pointer type [\u001b[01;35m\u001b[K-Wincompatible-pointer-types\u001b[m\u001b[K]\n",
            "         if (cudaSuccess != cudaHostAlloc(\u001b[01;35m\u001b[K&\u001b[m\u001b[Kl->output, l->batch*l->outputs * sizeof(float), cudaHostRegisterMapped)) {\n",
            "                                          \u001b[01;35m\u001b[K^\u001b[m\u001b[K\n",
            "In file included from \u001b[01m\u001b[K/usr/local/cuda/include/cuda_runtime.h:96:0\u001b[m\u001b[K,\n",
            "                 from \u001b[01m\u001b[Kinclude/darknet.h:41\u001b[m\u001b[K,\n",
            "                 from \u001b[01m\u001b[K./src/gaussian_yolo_layer.h:5\u001b[m\u001b[K,\n",
            "                 from \u001b[01m\u001b[K./src/gaussian_yolo_layer.c:7\u001b[m\u001b[K:\n",
            "\u001b[01m\u001b[K/usr/local/cuda/include/cuda_runtime_api.h:4707:39:\u001b[m\u001b[K \u001b[01;36m\u001b[Knote: \u001b[m\u001b[Kexpected ‘\u001b[01m\u001b[Kvoid **\u001b[m\u001b[K’ but argument is of type ‘\u001b[01m\u001b[Kfloat **\u001b[m\u001b[K’\n",
            " extern __host__ cudaError_t CUDARTAPI \u001b[01;36m\u001b[KcudaHostAlloc\u001b[m\u001b[K(void **pHost, size_t size, unsigned int flags);\n",
            "                                       \u001b[01;36m\u001b[K^~~~~~~~~~~~~\u001b[m\u001b[K\n",
            "\u001b[01m\u001b[K./src/gaussian_yolo_layer.c:120:42:\u001b[m\u001b[K \u001b[01;35m\u001b[Kwarning: \u001b[m\u001b[Kpassing argument 1 of ‘\u001b[01m\u001b[KcudaHostAlloc\u001b[m\u001b[K’ from incompatible pointer type [\u001b[01;35m\u001b[K-Wincompatible-pointer-types\u001b[m\u001b[K]\n",
            "         if (cudaSuccess != cudaHostAlloc(\u001b[01;35m\u001b[K&\u001b[m\u001b[Kl->delta, l->batch*l->outputs * sizeof(float), cudaHostRegisterMapped)) {\n",
            "                                          \u001b[01;35m\u001b[K^\u001b[m\u001b[K\n",
            "In file included from \u001b[01m\u001b[K/usr/local/cuda/include/cuda_runtime.h:96:0\u001b[m\u001b[K,\n",
            "                 from \u001b[01m\u001b[Kinclude/darknet.h:41\u001b[m\u001b[K,\n",
            "                 from \u001b[01m\u001b[K./src/gaussian_yolo_layer.h:5\u001b[m\u001b[K,\n",
            "                 from \u001b[01m\u001b[K./src/gaussian_yolo_layer.c:7\u001b[m\u001b[K:\n",
            "\u001b[01m\u001b[K/usr/local/cuda/include/cuda_runtime_api.h:4707:39:\u001b[m\u001b[K \u001b[01;36m\u001b[Knote: \u001b[m\u001b[Kexpected ‘\u001b[01m\u001b[Kvoid **\u001b[m\u001b[K’ but argument is of type ‘\u001b[01m\u001b[Kfloat **\u001b[m\u001b[K’\n",
            " extern __host__ cudaError_t CUDARTAPI \u001b[01;36m\u001b[KcudaHostAlloc\u001b[m\u001b[K(void **pHost, size_t size, unsigned int flags);\n",
            "                                       \u001b[01;36m\u001b[K^~~~~~~~~~~~~\u001b[m\u001b[K\n",
            "gcc -Iinclude/ -I3rdparty/stb/include -DOPENCV `pkg-config --cflags opencv4 2> /dev/null || pkg-config --cflags opencv` -DGPU -I/usr/local/cuda/include/ -DCUDNN -DCUDNN_HALF -Wall -Wfatal-errors -Wno-unused-result -Wno-unknown-pragmas -fPIC -Ofast -DOPENCV -DGPU -DCUDNN -I/usr/local/cudnn/include -DCUDNN_HALF -c ./src/upsample_layer.c -o obj/upsample_layer.o\n",
            "gcc -Iinclude/ -I3rdparty/stb/include -DOPENCV `pkg-config --cflags opencv4 2> /dev/null || pkg-config --cflags opencv` -DGPU -I/usr/local/cuda/include/ -DCUDNN -DCUDNN_HALF -Wall -Wfatal-errors -Wno-unused-result -Wno-unknown-pragmas -fPIC -Ofast -DOPENCV -DGPU -DCUDNN -I/usr/local/cudnn/include -DCUDNN_HALF -c ./src/lstm_layer.c -o obj/lstm_layer.o\n",
            "gcc -Iinclude/ -I3rdparty/stb/include -DOPENCV `pkg-config --cflags opencv4 2> /dev/null || pkg-config --cflags opencv` -DGPU -I/usr/local/cuda/include/ -DCUDNN -DCUDNN_HALF -Wall -Wfatal-errors -Wno-unused-result -Wno-unknown-pragmas -fPIC -Ofast -DOPENCV -DGPU -DCUDNN -I/usr/local/cudnn/include -DCUDNN_HALF -c ./src/conv_lstm_layer.c -o obj/conv_lstm_layer.o\n",
            "gcc -Iinclude/ -I3rdparty/stb/include -DOPENCV `pkg-config --cflags opencv4 2> /dev/null || pkg-config --cflags opencv` -DGPU -I/usr/local/cuda/include/ -DCUDNN -DCUDNN_HALF -Wall -Wfatal-errors -Wno-unused-result -Wno-unknown-pragmas -fPIC -Ofast -DOPENCV -DGPU -DCUDNN -I/usr/local/cudnn/include -DCUDNN_HALF -c ./src/scale_channels_layer.c -o obj/scale_channels_layer.o\n",
            "gcc -Iinclude/ -I3rdparty/stb/include -DOPENCV `pkg-config --cflags opencv4 2> /dev/null || pkg-config --cflags opencv` -DGPU -I/usr/local/cuda/include/ -DCUDNN -DCUDNN_HALF -Wall -Wfatal-errors -Wno-unused-result -Wno-unknown-pragmas -fPIC -Ofast -DOPENCV -DGPU -DCUDNN -I/usr/local/cudnn/include -DCUDNN_HALF -c ./src/sam_layer.c -o obj/sam_layer.o\n",
            "nvcc -gencode arch=compute_35,code=sm_35 -gencode arch=compute_50,code=[sm_50,compute_50] -gencode arch=compute_52,code=[sm_52,compute_52] -gencode arch=compute_61,code=[sm_61,compute_61] -gencode arch=compute_70,code=[sm_70,compute_70] -Iinclude/ -I3rdparty/stb/include -DOPENCV `pkg-config --cflags opencv4 2> /dev/null || pkg-config --cflags opencv` -DGPU -I/usr/local/cuda/include/ -DCUDNN -DCUDNN_HALF --compiler-options \"-Wall -Wfatal-errors -Wno-unused-result -Wno-unknown-pragmas -fPIC -Ofast -DOPENCV -DGPU -DCUDNN -I/usr/local/cudnn/include -DCUDNN_HALF\" -c ./src/convolutional_kernels.cu -o obj/convolutional_kernels.o\n",
            "nvcc warning : The 'compute_35', 'compute_37', 'compute_50', 'sm_35', 'sm_37' and 'sm_50' architectures are deprecated, and may be removed in a future release (Use -Wno-deprecated-gpu-targets to suppress warning).\n",
            "nvcc -gencode arch=compute_35,code=sm_35 -gencode arch=compute_50,code=[sm_50,compute_50] -gencode arch=compute_52,code=[sm_52,compute_52] -gencode arch=compute_61,code=[sm_61,compute_61] -gencode arch=compute_70,code=[sm_70,compute_70] -Iinclude/ -I3rdparty/stb/include -DOPENCV `pkg-config --cflags opencv4 2> /dev/null || pkg-config --cflags opencv` -DGPU -I/usr/local/cuda/include/ -DCUDNN -DCUDNN_HALF --compiler-options \"-Wall -Wfatal-errors -Wno-unused-result -Wno-unknown-pragmas -fPIC -Ofast -DOPENCV -DGPU -DCUDNN -I/usr/local/cudnn/include -DCUDNN_HALF\" -c ./src/activation_kernels.cu -o obj/activation_kernels.o\n",
            "nvcc warning : The 'compute_35', 'compute_37', 'compute_50', 'sm_35', 'sm_37' and 'sm_50' architectures are deprecated, and may be removed in a future release (Use -Wno-deprecated-gpu-targets to suppress warning).\n",
            "./src/activation_kernels.cu(263): warning: variable \"MISH_THRESHOLD\" was declared but never referenced\n",
            "\n",
            "./src/activation_kernels.cu(263): warning: variable \"MISH_THRESHOLD\" was declared but never referenced\n",
            "\n",
            "./src/activation_kernels.cu(263): warning: variable \"MISH_THRESHOLD\" was declared but never referenced\n",
            "\n",
            "./src/activation_kernels.cu(263): warning: variable \"MISH_THRESHOLD\" was declared but never referenced\n",
            "\n",
            "./src/activation_kernels.cu(263): warning: variable \"MISH_THRESHOLD\" was declared but never referenced\n",
            "\n",
            "nvcc -gencode arch=compute_35,code=sm_35 -gencode arch=compute_50,code=[sm_50,compute_50] -gencode arch=compute_52,code=[sm_52,compute_52] -gencode arch=compute_61,code=[sm_61,compute_61] -gencode arch=compute_70,code=[sm_70,compute_70] -Iinclude/ -I3rdparty/stb/include -DOPENCV `pkg-config --cflags opencv4 2> /dev/null || pkg-config --cflags opencv` -DGPU -I/usr/local/cuda/include/ -DCUDNN -DCUDNN_HALF --compiler-options \"-Wall -Wfatal-errors -Wno-unused-result -Wno-unknown-pragmas -fPIC -Ofast -DOPENCV -DGPU -DCUDNN -I/usr/local/cudnn/include -DCUDNN_HALF\" -c ./src/im2col_kernels.cu -o obj/im2col_kernels.o\n",
            "nvcc warning : The 'compute_35', 'compute_37', 'compute_50', 'sm_35', 'sm_37' and 'sm_50' architectures are deprecated, and may be removed in a future release (Use -Wno-deprecated-gpu-targets to suppress warning).\n",
            "nvcc -gencode arch=compute_35,code=sm_35 -gencode arch=compute_50,code=[sm_50,compute_50] -gencode arch=compute_52,code=[sm_52,compute_52] -gencode arch=compute_61,code=[sm_61,compute_61] -gencode arch=compute_70,code=[sm_70,compute_70] -Iinclude/ -I3rdparty/stb/include -DOPENCV `pkg-config --cflags opencv4 2> /dev/null || pkg-config --cflags opencv` -DGPU -I/usr/local/cuda/include/ -DCUDNN -DCUDNN_HALF --compiler-options \"-Wall -Wfatal-errors -Wno-unused-result -Wno-unknown-pragmas -fPIC -Ofast -DOPENCV -DGPU -DCUDNN -I/usr/local/cudnn/include -DCUDNN_HALF\" -c ./src/col2im_kernels.cu -o obj/col2im_kernels.o\n",
            "nvcc warning : The 'compute_35', 'compute_37', 'compute_50', 'sm_35', 'sm_37' and 'sm_50' architectures are deprecated, and may be removed in a future release (Use -Wno-deprecated-gpu-targets to suppress warning).\n",
            "nvcc -gencode arch=compute_35,code=sm_35 -gencode arch=compute_50,code=[sm_50,compute_50] -gencode arch=compute_52,code=[sm_52,compute_52] -gencode arch=compute_61,code=[sm_61,compute_61] -gencode arch=compute_70,code=[sm_70,compute_70] -Iinclude/ -I3rdparty/stb/include -DOPENCV `pkg-config --cflags opencv4 2> /dev/null || pkg-config --cflags opencv` -DGPU -I/usr/local/cuda/include/ -DCUDNN -DCUDNN_HALF --compiler-options \"-Wall -Wfatal-errors -Wno-unused-result -Wno-unknown-pragmas -fPIC -Ofast -DOPENCV -DGPU -DCUDNN -I/usr/local/cudnn/include -DCUDNN_HALF\" -c ./src/blas_kernels.cu -o obj/blas_kernels.o\n",
            "nvcc warning : The 'compute_35', 'compute_37', 'compute_50', 'sm_35', 'sm_37' and 'sm_50' architectures are deprecated, and may be removed in a future release (Use -Wno-deprecated-gpu-targets to suppress warning).\n",
            "./src/blas_kernels.cu(1086): warning: variable \"out_index\" was declared but never referenced\n",
            "\n",
            "./src/blas_kernels.cu(1130): warning: variable \"step\" was set but never used\n",
            "\n",
            "./src/blas_kernels.cu(1736): warning: variable \"stage_id\" was declared but never referenced\n",
            "\n",
            "./src/blas_kernels.cu(1086): warning: variable \"out_index\" was declared but never referenced\n",
            "\n",
            "./src/blas_kernels.cu(1130): warning: variable \"step\" was set but never used\n",
            "\n",
            "./src/blas_kernels.cu(1736): warning: variable \"stage_id\" was declared but never referenced\n",
            "\n",
            "./src/blas_kernels.cu(1086): warning: variable \"out_index\" was declared but never referenced\n",
            "\n",
            "./src/blas_kernels.cu(1130): warning: variable \"step\" was set but never used\n",
            "\n",
            "./src/blas_kernels.cu(1736): warning: variable \"stage_id\" was declared but never referenced\n",
            "\n",
            "./src/blas_kernels.cu(1086): warning: variable \"out_index\" was declared but never referenced\n",
            "\n",
            "./src/blas_kernels.cu(1130): warning: variable \"step\" was set but never used\n",
            "\n",
            "./src/blas_kernels.cu(1736): warning: variable \"stage_id\" was declared but never referenced\n",
            "\n",
            "./src/blas_kernels.cu(1086): warning: variable \"out_index\" was declared but never referenced\n",
            "\n",
            "./src/blas_kernels.cu(1130): warning: variable \"step\" was set but never used\n",
            "\n",
            "./src/blas_kernels.cu(1736): warning: variable \"stage_id\" was declared but never referenced\n",
            "\n",
            "\u001b[01m\u001b[K./src/blas_kernels.cu:\u001b[m\u001b[K In function ‘\u001b[01m\u001b[Kvoid backward_shortcut_multilayer_gpu(int, int, int, int*, float**, float*, float*, float*, float*, int, float*, float**, WEIGHTS_NORMALIZATION_T)\u001b[m\u001b[K’:\n",
            "\u001b[01m\u001b[K./src/blas_kernels.cu:1130:5:\u001b[m\u001b[K \u001b[01;35m\u001b[Kwarning: \u001b[m\u001b[Kvariable ‘\u001b[01m\u001b[Kstep\u001b[m\u001b[K’ set but not used [\u001b[01;35m\u001b[K-Wunused-but-set-variable\u001b[m\u001b[K]\n",
            "     \u001b[01;35m\u001b[Kint \u001b[m\u001b[Kstep = 0;\n",
            "     \u001b[01;35m\u001b[K^~~~\u001b[m\u001b[K\n",
            "nvcc -gencode arch=compute_35,code=sm_35 -gencode arch=compute_50,code=[sm_50,compute_50] -gencode arch=compute_52,code=[sm_52,compute_52] -gencode arch=compute_61,code=[sm_61,compute_61] -gencode arch=compute_70,code=[sm_70,compute_70] -Iinclude/ -I3rdparty/stb/include -DOPENCV `pkg-config --cflags opencv4 2> /dev/null || pkg-config --cflags opencv` -DGPU -I/usr/local/cuda/include/ -DCUDNN -DCUDNN_HALF --compiler-options \"-Wall -Wfatal-errors -Wno-unused-result -Wno-unknown-pragmas -fPIC -Ofast -DOPENCV -DGPU -DCUDNN -I/usr/local/cudnn/include -DCUDNN_HALF\" -c ./src/crop_layer_kernels.cu -o obj/crop_layer_kernels.o\n",
            "nvcc warning : The 'compute_35', 'compute_37', 'compute_50', 'sm_35', 'sm_37' and 'sm_50' architectures are deprecated, and may be removed in a future release (Use -Wno-deprecated-gpu-targets to suppress warning).\n",
            "nvcc -gencode arch=compute_35,code=sm_35 -gencode arch=compute_50,code=[sm_50,compute_50] -gencode arch=compute_52,code=[sm_52,compute_52] -gencode arch=compute_61,code=[sm_61,compute_61] -gencode arch=compute_70,code=[sm_70,compute_70] -Iinclude/ -I3rdparty/stb/include -DOPENCV `pkg-config --cflags opencv4 2> /dev/null || pkg-config --cflags opencv` -DGPU -I/usr/local/cuda/include/ -DCUDNN -DCUDNN_HALF --compiler-options \"-Wall -Wfatal-errors -Wno-unused-result -Wno-unknown-pragmas -fPIC -Ofast -DOPENCV -DGPU -DCUDNN -I/usr/local/cudnn/include -DCUDNN_HALF\" -c ./src/dropout_layer_kernels.cu -o obj/dropout_layer_kernels.o\n",
            "nvcc warning : The 'compute_35', 'compute_37', 'compute_50', 'sm_35', 'sm_37' and 'sm_50' architectures are deprecated, and may be removed in a future release (Use -Wno-deprecated-gpu-targets to suppress warning).\n",
            "nvcc -gencode arch=compute_35,code=sm_35 -gencode arch=compute_50,code=[sm_50,compute_50] -gencode arch=compute_52,code=[sm_52,compute_52] -gencode arch=compute_61,code=[sm_61,compute_61] -gencode arch=compute_70,code=[sm_70,compute_70] -Iinclude/ -I3rdparty/stb/include -DOPENCV `pkg-config --cflags opencv4 2> /dev/null || pkg-config --cflags opencv` -DGPU -I/usr/local/cuda/include/ -DCUDNN -DCUDNN_HALF --compiler-options \"-Wall -Wfatal-errors -Wno-unused-result -Wno-unknown-pragmas -fPIC -Ofast -DOPENCV -DGPU -DCUDNN -I/usr/local/cudnn/include -DCUDNN_HALF\" -c ./src/maxpool_layer_kernels.cu -o obj/maxpool_layer_kernels.o\n",
            "nvcc warning : The 'compute_35', 'compute_37', 'compute_50', 'sm_35', 'sm_37' and 'sm_50' architectures are deprecated, and may be removed in a future release (Use -Wno-deprecated-gpu-targets to suppress warning).\n",
            "nvcc -gencode arch=compute_35,code=sm_35 -gencode arch=compute_50,code=[sm_50,compute_50] -gencode arch=compute_52,code=[sm_52,compute_52] -gencode arch=compute_61,code=[sm_61,compute_61] -gencode arch=compute_70,code=[sm_70,compute_70] -Iinclude/ -I3rdparty/stb/include -DOPENCV `pkg-config --cflags opencv4 2> /dev/null || pkg-config --cflags opencv` -DGPU -I/usr/local/cuda/include/ -DCUDNN -DCUDNN_HALF --compiler-options \"-Wall -Wfatal-errors -Wno-unused-result -Wno-unknown-pragmas -fPIC -Ofast -DOPENCV -DGPU -DCUDNN -I/usr/local/cudnn/include -DCUDNN_HALF\" -c ./src/network_kernels.cu -o obj/network_kernels.o\n",
            "nvcc warning : The 'compute_35', 'compute_37', 'compute_50', 'sm_35', 'sm_37' and 'sm_50' architectures are deprecated, and may be removed in a future release (Use -Wno-deprecated-gpu-targets to suppress warning).\n",
            "./src/network_kernels.cu(379): warning: variable \"l\" was declared but never referenced\n",
            "\n",
            "./src/network_kernels.cu(379): warning: variable \"l\" was declared but never referenced\n",
            "\n",
            "./src/network_kernels.cu(379): warning: variable \"l\" was declared but never referenced\n",
            "\n",
            "./src/network_kernels.cu(379): warning: variable \"l\" was declared but never referenced\n",
            "\n",
            "./src/network_kernels.cu(379): warning: variable \"l\" was declared but never referenced\n",
            "\n",
            "\u001b[01m\u001b[K./src/network_kernels.cu:\u001b[m\u001b[K In function ‘\u001b[01m\u001b[Kfloat train_network_datum_gpu(network, float*, float*)\u001b[m\u001b[K’:\n",
            "\u001b[01m\u001b[K./src/network_kernels.cu:379:7:\u001b[m\u001b[K \u001b[01;35m\u001b[Kwarning: \u001b[m\u001b[Kvariable ‘\u001b[01m\u001b[Kl\u001b[m\u001b[K’ set but not used [\u001b[01;35m\u001b[K-Wunused-but-set-variable\u001b[m\u001b[K]\n",
            "       \u001b[01;35m\u001b[K \u001b[m\u001b[K layer l = net.layers[net.n - 1];\n",
            "       \u001b[01;35m\u001b[K^\u001b[m\u001b[K\n",
            "nvcc -gencode arch=compute_35,code=sm_35 -gencode arch=compute_50,code=[sm_50,compute_50] -gencode arch=compute_52,code=[sm_52,compute_52] -gencode arch=compute_61,code=[sm_61,compute_61] -gencode arch=compute_70,code=[sm_70,compute_70] -Iinclude/ -I3rdparty/stb/include -DOPENCV `pkg-config --cflags opencv4 2> /dev/null || pkg-config --cflags opencv` -DGPU -I/usr/local/cuda/include/ -DCUDNN -DCUDNN_HALF --compiler-options \"-Wall -Wfatal-errors -Wno-unused-result -Wno-unknown-pragmas -fPIC -Ofast -DOPENCV -DGPU -DCUDNN -I/usr/local/cudnn/include -DCUDNN_HALF\" -c ./src/avgpool_layer_kernels.cu -o obj/avgpool_layer_kernels.o\n",
            "nvcc warning : The 'compute_35', 'compute_37', 'compute_50', 'sm_35', 'sm_37' and 'sm_50' architectures are deprecated, and may be removed in a future release (Use -Wno-deprecated-gpu-targets to suppress warning).\n",
            "g++ -std=c++11 -std=c++11 -Iinclude/ -I3rdparty/stb/include -DOPENCV `pkg-config --cflags opencv4 2> /dev/null || pkg-config --cflags opencv` -DGPU -I/usr/local/cuda/include/ -DCUDNN -DCUDNN_HALF -Wall -Wfatal-errors -Wno-unused-result -Wno-unknown-pragmas -fPIC -Ofast -DOPENCV -DGPU -DCUDNN -I/usr/local/cudnn/include -DCUDNN_HALF obj/image_opencv.o obj/http_stream.o obj/gemm.o obj/utils.o obj/dark_cuda.o obj/convolutional_layer.o obj/list.o obj/image.o obj/activations.o obj/im2col.o obj/col2im.o obj/blas.o obj/crop_layer.o obj/dropout_layer.o obj/maxpool_layer.o obj/softmax_layer.o obj/data.o obj/matrix.o obj/network.o obj/connected_layer.o obj/cost_layer.o obj/parser.o obj/option_list.o obj/darknet.o obj/detection_layer.o obj/captcha.o obj/route_layer.o obj/writing.o obj/box.o obj/nightmare.o obj/normalization_layer.o obj/avgpool_layer.o obj/coco.o obj/dice.o obj/yolo.o obj/detector.o obj/layer.o obj/compare.o obj/classifier.o obj/local_layer.o obj/swag.o obj/shortcut_layer.o obj/representation_layer.o obj/activation_layer.o obj/rnn_layer.o obj/gru_layer.o obj/rnn.o obj/rnn_vid.o obj/crnn_layer.o obj/demo.o obj/tag.o obj/cifar.o obj/go.o obj/batchnorm_layer.o obj/art.o obj/region_layer.o obj/reorg_layer.o obj/reorg_old_layer.o obj/super.o obj/voxel.o obj/tree.o obj/yolo_layer.o obj/gaussian_yolo_layer.o obj/upsample_layer.o obj/lstm_layer.o obj/conv_lstm_layer.o obj/scale_channels_layer.o obj/sam_layer.o obj/convolutional_kernels.o obj/activation_kernels.o obj/im2col_kernels.o obj/col2im_kernels.o obj/blas_kernels.o obj/crop_layer_kernels.o obj/dropout_layer_kernels.o obj/maxpool_layer_kernels.o obj/network_kernels.o obj/avgpool_layer_kernels.o -o darknet -lm -pthread `pkg-config --libs opencv4 2> /dev/null || pkg-config --libs opencv` -L/usr/local/cuda/lib64 -lcuda -lcudart -lcublas -lcurand -L/usr/local/cudnn/lib64 -lcudnn -lstdc++\n"
          ]
        }
      ]
    },
    {
      "cell_type": "markdown",
      "metadata": {
        "id": "uqbEp31ViBMY"
      },
      "source": [
        "### STEP 2: LOADING THE DATASET WE HAVE PREPARED"
      ]
    },
    {
      "cell_type": "code",
      "metadata": {
        "id": "8Af3q0t-hwnP",
        "colab": {
          "base_uri": "https://localhost:8080/"
        },
        "outputId": "9c667d1c-0ef4-40af-cebe-94fb2f6601eb"
      },
      "source": [
        "# this is where my datasets are stored within my Google Drive (I created a yolov4 folder to store all important files for custom training) \n",
        "#%cd darknet/\n",
        "#!ls /content/drive/MyDrive/yolov4"
      ],
      "execution_count": null,
      "outputs": [
        {
          "output_type": "stream",
          "text": [
            "ls: cannot access '/content/drive/MyDrive/yolov4': No such file or directory\n"
          ],
          "name": "stdout"
        }
      ]
    },
    {
      "cell_type": "code",
      "metadata": {
        "id": "1M8yiG9Di6yF"
      },
      "source": [
        "# copy over both datasets into the root directory of the Colab VM (comment out test.zip if you are not using a validation dataset)\n",
        "#!cp /content/drive/MyDrive/yolov4/obj.zip ../\n",
        "#!cp /content/drive/MyDrive/yolov4/test.zip ../"
      ],
      "execution_count": null,
      "outputs": []
    },
    {
      "cell_type": "code",
      "metadata": {
        "id": "tfaT3dPDi-FP",
        "colab": {
          "base_uri": "https://localhost:8080/"
        },
        "outputId": "a419b87b-9c8c-4190-f270-9d3522704d5b"
      },
      "source": [
        "# unzip the datasets and their contents so that they are now in /darknet/data/ folder\n",
        "#!unzip ../obj.zip -d data/\n",
        "#!unzip ../test.zip -d data/"
      ],
      "execution_count": null,
      "outputs": [
        {
          "output_type": "stream",
          "text": [
            "Archive:  ../obj.zip\n",
            "checkdir:  cannot create extraction directory: data\n",
            "           File exists\n",
            "Archive:  ../test.zip\n",
            "checkdir:  cannot create extraction directory: data\n",
            "           File exists\n"
          ],
          "name": "stdout"
        }
      ]
    },
    {
      "cell_type": "markdown",
      "metadata": {
        "id": "JjUwQnxEkY5g"
      },
      "source": [
        "### **STEP 3: LET'S PREPARE THE REQUIRED FILES FOR THE TRAINING**"
      ]
    },
    {
      "cell_type": "markdown",
      "metadata": {
        "id": "MHC8aFRXjGm8"
      },
      "source": [
        "In this step, we will create the .cfg file, obj.data, obj.names and train.txt files required for the training."
      ]
    },
    {
      "cell_type": "markdown",
      "metadata": {
        "id": "VvJu1fzCztYO"
      },
      "source": [
        "download cfg to google drive and change its name                         \n",
        "```\n",
        "from shutil import copy2                                    \n",
        "copy2(\"/content/darknet/cfg/yolov4-custom.cfg\",\"/content/drive/MyDrive/yolov4\")    \n",
        "```      \n",
        "you can also copy like this\n"
      ]
    },
    {
      "cell_type": "code",
      "metadata": {
        "id": "hOR3wPTUyiSQ"
      },
      "source": [
        "# download cfg to google drive and change its name\n",
        "#%cd darknet/\n",
        "#!cp cfg/yolov4-custom.cfg /content/drive/MyDrive/yolov4/yolov4-obj.cfg"
      ],
      "execution_count": null,
      "outputs": []
    },
    {
      "cell_type": "markdown",
      "metadata": {
        "id": "N2AJgJeX1d2j"
      },
      "source": [
        "Changes we need to make in our config file:\n",
        "\n",
        "(The values given here are the recommended values for these variables.)\n",
        "\n",
        "1. The batch value in our config file is the number of images we will import into our convolutional neural network in each iteration. Subdivision determines how many subdivisions we will divide each batch into. We can set the subdivision value to 16. **batch = 64 and subdivision 16.**\n",
        "\n",
        "2. Then we can change the image size that will enter the model from the width and height sections. The max_batches value determines how many iterations our model will take. We can set our class number to x2000. Since we will train a model consisting of one class, we set the Max_batches value to 6000. **We equalize max_batches(2000 x number of classes trained). But the minimum we can do is 6000, so if you have one, two and three classes, it should be 6000.**\n",
        "\n",
        "3. Then we change the value of the step to 80% or 90% of our max_batches value. I set the value of the step to 4800 which is 80% of 6000. **We make the values of the steps (80% of max_batches), (90% of max_batches).**\n",
        "\n",
        "4. We replace the classes values under the [yolo] heading with the number of classes we train.\n",
        "\n",
        "5. The Steps parameter is the number of iterations that the learning rate will be reduced to fit our model well. Finally, in our config file, we set the value of the class parameters to 3, which is our class number. We change the Filters parameters to (class + 5)x3. **In our case, this value is 18. We also equalize the filter's variables (number of classes to train + 5 )x3.**"
      ]
    },
    {
      "cell_type": "code",
      "metadata": {
        "id": "oK1a9dCIyiuf"
      },
      "source": [
        "# upload the custom .cfg back to cloud VM from Google Drive\n",
        "\n",
        "!cp /content/drive/MyDrive/Studies/Intern/yolov4/yolov4-obj.cfg ./cfg"
      ],
      "execution_count": 5,
      "outputs": []
    },
    {
      "cell_type": "markdown",
      "metadata": {
        "id": "8cInjxJm7GpZ"
      },
      "source": [
        "**-obj.names and obj.data**\n",
        "\n",
        "Let's create a file named obj.names in our folder named yolov3 and write the names of your objects that we will train the file with.\n",
        "\n",
        "E.G:\n",
        "```\n",
        "traffic sign\n",
        "traffic light\n",
        "```\n",
        "\n",
        "In the same folder, we create a file with the name obj.data and write the directory where we will save the number of objects we will train, the addresses of the files named train.txt, text.txt and obj.names that we will use while training, and the weights we find as a result of the training.\n",
        "\n",
        "E.G:\n",
        "```\n",
        "classes = 1\n",
        "train = data/train.txt\n",
        "valid = data/test.txt\n",
        "names = data/obj.names\n",
        "backup = /mydrive/yolov4/backup\n",
        "```\n"
      ]
    },
    {
      "cell_type": "markdown",
      "metadata": {
        "id": "gVQZjKcL95vl"
      },
      "source": [
        "upload the obj.names and obj.data files to cloud VM from Google Drive"
      ]
    },
    {
      "cell_type": "code",
      "metadata": {
        "id": "c6-M5rFK7HN1"
      },
      "source": [
        "!cp /content/drive/MyDrive/Studies/Intern/yolov4/obj.names ./data\n",
        "!cp /content/drive/MyDrive/Studies/Intern/yolov4/obj.data  ./data"
      ],
      "execution_count": 6,
      "outputs": []
    },
    {
      "cell_type": "markdown",
      "metadata": {
        "id": "6niAZy24EUSg"
      },
      "source": [
        "#### **-Train and Test Files**"
      ]
    },
    {
      "cell_type": "markdown",
      "metadata": {
        "id": "IBr35ggE-AZq"
      },
      "source": [
        "\n",
        "\n",
        "\n",
        "**generate_train.py**\n",
        "\n",
        "\n",
        "\n",
        "```\n",
        "  import os\n",
        "  image_files = []\n",
        "  os.chdir(os.path.join(\"data\", \"obj\"))\n",
        "  for filename in os.listdir(os.getcwd()):\n",
        "      if filename.endswith(\".jpg\"):\n",
        "          image_files.append(\"data/obj/\" + filename)\n",
        "  os.chdir(\"..\")\n",
        "  with open(\"train.txt\", \"w\") as outfile:\n",
        "      for image in image_files:\n",
        "          outfile.write(image)\n",
        "          outfile.write(\"\\n\")\n",
        "      outfile.close()\n",
        "  os.chdir(\"..\")\n",
        "```\n",
        "\n",
        "**generate_test.py**\n",
        "\n",
        "\n",
        "\n",
        "```\n",
        "  import os\n",
        "\n",
        "  image_files = []\n",
        "  os.chdir(os.path.join(\"data\", \"test\"))\n",
        "  for filename in os.listdir(os.getcwd()):\n",
        "      if filename.endswith(\".jpg\"):\n",
        "          image_files.append(\"data/test/\" + filename)\n",
        "  os.chdir(\"..\")\n",
        "  with open(\"test.txt\", \"w\") as outfile:\n",
        "      for image in image_files:\n",
        "          outfile.write(image)\n",
        "          outfile.write(\"\\n\")\n",
        "      outfile.close()\n",
        "  os.chdir(\"..\")\n",
        "```\n"
      ]
    },
    {
      "cell_type": "markdown",
      "metadata": {
        "id": "m5qJ748-TutK"
      },
      "source": [
        "upload the generate_train.py and generate_test.py script to cloud VM from Google Drive\n"
      ]
    },
    {
      "cell_type": "code",
      "metadata": {
        "id": "ec8OtGiW-Ety"
      },
      "source": [
        "#!cp /content/drive/MyDrive/Studies/Intern/yolov4/generate_train.py ./\n",
        "#!cp /content/drive/MyDrive/Studies/Intern/yolov4/generate_test.py ./"
      ],
      "execution_count": null,
      "outputs": []
    },
    {
      "cell_type": "code",
      "metadata": {
        "id": "bMF6d35sUC-4"
      },
      "source": [
        "#!python generate_train.py\n",
        "#!python generate_test.py"
      ],
      "execution_count": null,
      "outputs": []
    },
    {
      "cell_type": "code",
      "metadata": {
        "id": "GrKi1gUQUDeE",
        "colab": {
          "base_uri": "https://localhost:8080/"
        },
        "outputId": "5d65c3b0-ea77-40dd-d710-0e297a663aad"
      },
      "source": [
        "# verify that the newly generated train.txt and test.txt can be seen in our darknet/data folder\n",
        "!ls data/"
      ],
      "execution_count": null,
      "outputs": [
        {
          "output_type": "stream",
          "name": "stdout",
          "text": [
            "9k.tree     eagle.jpg\t imagenet.labels.list\t   obj.names\t     voc.names\n",
            "coco9k.map  giraffe.jpg  imagenet.shortnames.list  openimages.names\n",
            "coco.names  goal.txt\t labels\t\t\t   person.jpg\n",
            "dog.jpg     horses.jpg\t obj.data\t\t   scream.jpg\n"
          ]
        }
      ]
    },
    {
      "cell_type": "markdown",
      "metadata": {
        "id": "bZPKhQgqVFAF"
      },
      "source": [
        "### STEP 4: REDUCE THE WEIGHTS OF PRE-TRAINED CONVOLUTIONAL LAYERS\n",
        "\n",
        "In this step, we download the used deep learning layers weights for the pre-trained yolov3. We do not have to perform this step, but starting the training with these weights will help the model we train to work more accurately and shorten the training time."
      ]
    },
    {
      "cell_type": "code",
      "metadata": {
        "id": "Ab3ofltAVGOu"
      },
      "source": [
        "#!wget https://github.com/AlexeyAB/darknet/releases/download/darknet_yolo_v3_optimal/yolov4.conv.137"
      ],
      "execution_count": null,
      "outputs": []
    },
    {
      "cell_type": "markdown",
      "metadata": {
        "id": "MSm93uBkVTHV"
      },
      "source": [
        "### STEP 5: TRAINING\n",
        "All the necessary files are ready, we can start the training."
      ]
    },
    {
      "cell_type": "markdown",
      "metadata": {
        "id": "db6QZ2HVWYFY"
      },
      "source": [
        "Training will begin with the next command.\n",
        "\n",
        "The duration of our training may vary depending on factors such as the number of photos in your data set, the quality of the photos, and the number of objects you train. Our loss value is important for the accuracy of our model. The lower our Loss value, the more accurate our model will work. We can run our model until the loss value stops decreasing and train the most accurate model possible according to our data set."
      ]
    },
    {
      "cell_type": "code",
      "metadata": {
        "id": "qVYYLkSmViFg"
      },
      "source": [
        "# train your custom detector! (uncomment %%capture below if you run into memory issues or your Colab is crashing)\n",
        "# %%capture\n",
        "#!./darknet detector train data/obj.data cfg/yolov4-obj.cfg yolov4.conv.137 -dont_show -map"
      ],
      "execution_count": null,
      "outputs": []
    },
    {
      "cell_type": "code",
      "metadata": {
        "id": "MTv7nvWPWoL1"
      },
      "source": [
        "# the graph of our training.\n",
        "#imShow('chart.png')"
      ],
      "execution_count": null,
      "outputs": []
    },
    {
      "cell_type": "markdown",
      "metadata": {
        "id": "fIXX6trKW_Gm"
      },
      "source": [
        "If we don't like the weights, we can continue the training from where we left off."
      ]
    },
    {
      "cell_type": "code",
      "metadata": {
        "id": "pe0R7MNJW-lF"
      },
      "source": [
        "#!./darknet detector train data/obj.data cfg/yolov4-obj.cfg /content/drive/MyDrive/Studies/Intern/yolov4/backup/yolov4-obj_last.weights -dont_show"
      ],
      "execution_count": null,
      "outputs": []
    },
    {
      "cell_type": "markdown",
      "metadata": {
        "id": "s_1meAhSyd2d"
      },
      "source": [
        "### STEP 6: USE OUR TRAINED MODEL\n",
        "\n",
        "\n",
        "Our training is complete, now we can make recognition on the photos we want."
      ]
    },
    {
      "cell_type": "markdown",
      "metadata": {
        "id": "lyJzvhv4X48Z"
      },
      "source": [
        "Let's look at the average loss value and percent accuracy of our model"
      ]
    },
    {
      "cell_type": "code",
      "metadata": {
        "id": "630qDfB3ydff"
      },
      "source": [
        "#!./darknet detector map data/obj.data cfg/yolov4-obj.cfg /content/drive/MyDrive/Studies/Intern/yolov4/backup/yolov4-obj_last.weights"
      ],
      "execution_count": null,
      "outputs": []
    },
    {
      "cell_type": "markdown",
      "metadata": {
        "id": "gG-MtCljyiwG"
      },
      "source": [
        "#### **Let's run our model**"
      ]
    },
    {
      "cell_type": "markdown",
      "metadata": {
        "id": "1-j-hGJ2x-Le"
      },
      "source": [
        "Let's test our model for a single image"
      ]
    },
    {
      "cell_type": "code",
      "metadata": {
        "id": "KatbNMnfRoh0"
      },
      "source": [
        "# define helper functions\n",
        "def imShow(path): \n",
        "  import cv2\n",
        "  import matplotlib.pyplot as plt\n",
        "  %matplotlib inline\n",
        "\n",
        "  image = cv2.imread(path)\n",
        "  height, width = image.shape[:2]\n",
        "  resized_image = cv2.resize(image,(3*width, 3*height), interpolation = cv2.INTER_CUBIC)\n",
        "\n",
        "  fig = plt.gcf()\n",
        "  fig.set_size_inches(18, 10)\n",
        "  plt.axis(\"off\")\n",
        "  plt.imshow(cv2.cvtColor(resized_image, cv2.COLOR_BGR2RGB))\n",
        "  plt.show()\n",
        "\n",
        "# use this to upload files\n",
        "def upload():\n",
        "  from google.colab import files\n",
        "  uploaded = files.upload() \n",
        "  for name, data in uploaded.items():\n",
        "    with open(name, 'wb') as f:\n",
        "      f.write(data)\n",
        "      print ('saved file', name)\n",
        "\n",
        "# use this to download a file  \n",
        "def download(path):\n",
        "  from google.colab import files\n",
        "  files.download(path)"
      ],
      "execution_count": null,
      "outputs": []
    },
    {
      "cell_type": "code",
      "metadata": {
        "id": "miiXSHkkxrWT"
      },
      "source": [
        "cp /content/drive/MyDrive/yolov4/test_pred.zip ../"
      ],
      "execution_count": null,
      "outputs": []
    },
    {
      "cell_type": "code",
      "metadata": {
        "id": "8Cfz0TbvxrWT"
      },
      "source": [
        "%cd /content"
      ],
      "execution_count": null,
      "outputs": []
    },
    {
      "cell_type": "code",
      "metadata": {
        "id": "jpv9s-fdxrWU"
      },
      "source": [
        "!unzip /content/test_pred.zip "
      ],
      "execution_count": null,
      "outputs": []
    },
    {
      "cell_type": "code",
      "metadata": {
        "id": "kkAseV2exrWU"
      },
      "source": [
        "%cd /content/darknet/"
      ],
      "execution_count": null,
      "outputs": []
    },
    {
      "cell_type": "code",
      "metadata": {
        "id": "-lj-UAi4yp_c"
      },
      "source": [
        "# need to set our custom cfg to test mode \n",
        "%cd cfg\n",
        "!sed -i 's/batch=64/batch=1/' yolov4-obj.cfg\n",
        "!sed -i 's/subdivisions=16/subdivisions=1/' yolov4-obj.cfg\n",
        "%cd .."
      ],
      "execution_count": null,
      "outputs": []
    },
    {
      "cell_type": "markdown",
      "metadata": {
        "id": "Yh1CnruZVk4w"
      },
      "source": [
        "To predict and see individual images"
      ]
    },
    {
      "cell_type": "markdown",
      "metadata": {
        "id": "xfQWsDaGJRHY"
      },
      "source": [
        "To predict and see individual images"
      ]
    },
    {
      "cell_type": "code",
      "metadata": {
        "id": "gzATlqJlJRHZ"
      },
      "source": [
        "# run your custom detector with this command (upload an image to your google drive to test, thresh flag sets accuracy that detection must be in order to show it)\n",
        "!./darknet detector test data/obj.data cfg/yolov4-obj.cfg /content/drive/MyDrive/yolov4/backup/yolov4-obj_last.weights  /content/drive/MyDrive/images/cfc_000311.jpg -ext_output -dont_show -out  result.json -thresh 0.3 \n",
        "imShow('predictions.jpg')\n"
      ],
      "execution_count": null,
      "outputs": []
    },
    {
      "cell_type": "code",
      "metadata": {
        "id": "gfR5UDwfTIMN"
      },
      "source": [
        "import json\n",
        "\n",
        "json_file = open('/content/darknet/result.json', 'r')#file reading process\n",
        "json_dict=json.load(json_file)#Contents of json file converted to dict data type"
      ],
      "execution_count": null,
      "outputs": []
    },
    {
      "cell_type": "code",
      "metadata": {
        "id": "aiFltjfBTgUk"
      },
      "source": [
        "json_dict[0][\"objects\"][0][\"relative_coordinates\"]['center_x']"
      ],
      "execution_count": null,
      "outputs": []
    },
    {
      "cell_type": "code",
      "metadata": {
        "id": "SFvNdQNSV3rC"
      },
      "source": [
        "import cv2\n",
        "img= cv2.imread('/content/drive/MyDrive/images/cfc_000311.jpg')"
      ],
      "execution_count": null,
      "outputs": []
    },
    {
      "cell_type": "code",
      "metadata": {
        "id": "hk9JZkHrzznK"
      },
      "source": [
        "center_x=img.shape[1]*json_dict[0][\"objects\"][0][\"relative_coordinates\"]['center_x']\n",
        "center_y=img.shape[0]*json_dict[0][\"objects\"][0][\"relative_coordinates\"]['center_y']\n",
        "width=img.shape[1]*json_dict[0][\"objects\"][0][\"relative_coordinates\"]['width']\n",
        "height=img.shape[0]*json_dict[0][\"objects\"][0][\"relative_coordinates\"]['height']"
      ],
      "execution_count": null,
      "outputs": []
    },
    {
      "cell_type": "markdown",
      "metadata": {
        "id": "byXGrsD-7ExV"
      },
      "source": [
        "x_center=int(xmin + width()/2)\n",
        "\n",
        "\n",
        "y_center=int(ymin + height()/2)"
      ]
    },
    {
      "cell_type": "code",
      "metadata": {
        "id": "BlxO3Wqv1MwS"
      },
      "source": [
        "new_width=(img.shape[1]*json_dict[0][\"objects\"][0][\"relative_coordinates\"]['width'])/2\n",
        "new_height=(img.shape[0]*json_dict[0][\"objects\"][0][\"relative_coordinates\"]['height'])/2"
      ],
      "execution_count": null,
      "outputs": []
    },
    {
      "cell_type": "code",
      "metadata": {
        "id": "rbusekxA4ZkB"
      },
      "source": [
        "x_min=center_x-new_width\n",
        "y_min=center_y-new_height"
      ],
      "execution_count": null,
      "outputs": []
    },
    {
      "cell_type": "markdown",
      "metadata": {
        "id": "Fb9sMYwy6lSK"
      },
      "source": [
        "width=int(xmax-xmin)\n",
        "\n",
        "\n",
        "\n",
        "\n",
        "height=int(ymax-ymin)"
      ]
    },
    {
      "cell_type": "code",
      "metadata": {
        "id": "4FQOQb5F3xWH"
      },
      "source": [
        "x_max=width+x_min\n",
        "y_max=height+y_min"
      ],
      "execution_count": null,
      "outputs": []
    },
    {
      "cell_type": "code",
      "metadata": {
        "id": "DiUnAfPjDTPV"
      },
      "source": [
        "w=int(width)\n",
        "h=int(height)"
      ],
      "execution_count": null,
      "outputs": []
    },
    {
      "cell_type": "code",
      "metadata": {
        "id": "5ybqFmKP8Pno"
      },
      "source": [
        "crop_img = img[int(y_min):int(y_min)+h,int( x_min):int(x_min)+w]\n"
      ],
      "execution_count": null,
      "outputs": []
    },
    {
      "cell_type": "code",
      "metadata": {
        "id": "1BUrgcZ2DsRZ"
      },
      "source": [
        "cv2.imwrite('/content/deneme/deneme.jpg',crop_img)"
      ],
      "execution_count": null,
      "outputs": []
    },
    {
      "cell_type": "code",
      "metadata": {
        "id": "rmOCrrdjysOR"
      },
      "source": [
        "# run your custom detector with this command (upload an image to your google drive to test, thresh flag sets accuracy that detection must be in order to show it)\n",
        "!./darknet detector test data/obj.data cfg/yolov4-obj.cfg /content/drive/MyDrive/yolov4/backup/yolov4-obj_last.weights /content/drive/MyDrive/images/cfc_000311.jpg -thresh 0.3\n",
        "imShow('predictions.jpg')"
      ],
      "execution_count": null,
      "outputs": []
    },
    {
      "cell_type": "markdown",
      "metadata": {
        "id": "RX-UOg0-YBfU"
      },
      "source": [
        "### **STEP 7: PREDICTION WITH TEST DATASET**"
      ]
    },
    {
      "cell_type": "markdown",
      "metadata": {
        "id": "XvDACYmMVvjM"
      },
      "source": [
        "**To predict and save multiple images**"
      ]
    },
    {
      "cell_type": "code",
      "metadata": {
        "id": "_WAABvvFLh5Q"
      },
      "source": [
        "cp /content/drive/MyDrive/Studies/Intern/yolov4/test_pred.zip ../"
      ],
      "execution_count": null,
      "outputs": []
    },
    {
      "cell_type": "code",
      "metadata": {
        "id": "zR7_0BpGeIrl",
        "colab": {
          "base_uri": "https://localhost:8080/"
        },
        "outputId": "6c1345cd-6373-4bb2-d0bc-4442448730a7"
      },
      "source": [
        "!unzip /content/test_pred.zip "
      ],
      "execution_count": null,
      "outputs": [
        {
          "output_type": "stream",
          "name": "stdout",
          "text": [
            "Archive:  /content/test_pred.zip\n",
            "   creating: test_pred/\n",
            "  inflating: test_pred/1041305_cfc_000140.jpg  \n",
            "  inflating: test_pred/1041307_cfc_000142.jpg  \n",
            "  inflating: test_pred/1041315_cfc_000150.jpg  \n",
            "  inflating: test_pred/1041316_cfc_000151.jpg  \n",
            "  inflating: test_pred/1041318_cfc_000153.jpg  \n",
            "  inflating: test_pred/1041320_cfc_000155.jpg  \n",
            "  inflating: test_pred/1041324_cfc_000159.jpg  \n",
            "  inflating: test_pred/1041325_cfc_000160.jpg  \n",
            "  inflating: test_pred/22991_cfc_002387.jpg  \n",
            "  inflating: test_pred/22999_cfc_002395.jpg  \n",
            "  inflating: test_pred/23015_cfc_002411.jpg  \n",
            "  inflating: test_pred/23039_cfc_002435.jpg  \n",
            "  inflating: test_pred/23055_cfc_002451.jpg  \n",
            "  inflating: test_pred/449312_cfc_002573.jpg  \n",
            "  inflating: test_pred/449314_cfc_002575.jpg  \n",
            "  inflating: test_pred/449316_cfc_002577.jpg  \n",
            "  inflating: test_pred/449321_cfc_002582.jpg  \n",
            "  inflating: test_pred/449359_cfc_002620.jpg  \n",
            "  inflating: test_pred/449369_cfc_002630.jpg  \n",
            "  inflating: test_pred/449370_cfc_002631.jpg  \n",
            "  inflating: test_pred/449371_cfc_002632.jpg  \n",
            "  inflating: test_pred/449372_cfc_002633.jpg  \n",
            "  inflating: test_pred/449387_cfc_002648.jpg  \n",
            "  inflating: test_pred/449388_cfc_002649.jpg  \n",
            "  inflating: test_pred/449391_cfc_002652.jpg  \n",
            "  inflating: test_pred/449397_cfc_002658.jpg  \n",
            "  inflating: test_pred/449400_cfc_002661.jpg  \n",
            "  inflating: test_pred/449401_cfc_002662.jpg  \n",
            "  inflating: test_pred/449403_cfc_002664.jpg  \n",
            "  inflating: test_pred/449409_cfc_002670.jpg  \n",
            "  inflating: test_pred/449410_cfc_002671.jpg  \n",
            "  inflating: test_pred/449419_cfc_002680.jpg  \n",
            "  inflating: test_pred/449420_cfc_002681.jpg  \n",
            "  inflating: test_pred/449421_cfc_002682.jpg  \n",
            "  inflating: test_pred/449437_cfc_002698.jpg  \n",
            "  inflating: test_pred/488171_cfc_001520.jpg  \n",
            "  inflating: test_pred/488172_cfc_001521.jpg  \n",
            "  inflating: test_pred/488175_cfc_001524.jpg  \n",
            "  inflating: test_pred/488176_cfc_001525.jpg  \n",
            "  inflating: test_pred/488177_cfc_001526.jpg  \n",
            "  inflating: test_pred/488181_cfc_001530.jpg  \n",
            "  inflating: test_pred/488183_cfc_001532.jpg  \n",
            "  inflating: test_pred/488185_cfc_001534.jpg  \n",
            "  inflating: test_pred/488186_cfc_001535.jpg  \n",
            "  inflating: test_pred/488188_cfc_001537.jpg  \n",
            "  inflating: test_pred/488189_cfc_001538.jpg  \n",
            "  inflating: test_pred/488190_cfc_001539.jpg  \n",
            "  inflating: test_pred/488193_cfc_001542.jpg  \n",
            "  inflating: test_pred/488196_cfc_001545.jpg  \n",
            "  inflating: test_pred/488197_cfc_001546.jpg  \n",
            "  inflating: test_pred/488204_cfc_001553.jpg  \n",
            "  inflating: test_pred/488209_cfc_001558.jpg  \n",
            "  inflating: test_pred/488210_cfc_001559.jpg  \n",
            "  inflating: test_pred/488216_cfc_001565.jpg  \n",
            "  inflating: test_pred/488217_cfc_001566.jpg  \n",
            "  inflating: test_pred/510359_cfc_002322.jpg  \n",
            "  inflating: test_pred/510370_cfc_002333.jpg  \n",
            "  inflating: test_pred/510372_cfc_002335.jpg  \n",
            "  inflating: test_pred/510373_cfc_002336.jpg  \n",
            "  inflating: test_pred/510377_cfc_002340.jpg  \n",
            "  inflating: test_pred/510379_cfc_002342.jpg  \n",
            "  inflating: test_pred/510382_cfc_002345.jpg  \n",
            "  inflating: test_pred/510383_cfc_002346.jpg  \n",
            "  inflating: test_pred/510386_cfc_002349.jpg  \n",
            "  inflating: test_pred/510389_cfc_002352.jpg  \n",
            "  inflating: test_pred/510392_cfc_002355.jpg  \n",
            "  inflating: test_pred/510393_cfc_002356.jpg  \n",
            "  inflating: test_pred/510394_cfc_002357.jpg  \n",
            "  inflating: test_pred/510408_cfc_002371.jpg  \n",
            "  inflating: test_pred/510426_cfc_002389.jpg  \n",
            "  inflating: test_pred/510427_cfc_002390.jpg  \n",
            "  inflating: test_pred/510428_cfc_002391.jpg  \n",
            "  inflating: test_pred/510438_cfc_002401.jpg  \n",
            "  inflating: test_pred/510439_cfc_002402.jpg  \n",
            "  inflating: test_pred/510443_cfc_002406.jpg  \n",
            "  inflating: test_pred/510445_cfc_002408.jpg  \n",
            "  inflating: test_pred/23071_cfc_002467.jpg  \n",
            "  inflating: test_pred/24055_cfc_003451.jpg  \n",
            "  inflating: test_pred/24319_cfc_003715.jpg  \n",
            "  inflating: test_pred/24719_cfc_004115.jpg  \n",
            "  inflating: test_pred/25551_cfc_004947.jpg  \n",
            "  inflating: test_pred/3899_cfc_003899.jpg  \n",
            "  inflating: test_pred/4060_cfc_004060.jpg  \n",
            "  inflating: test_pred/448122_cfc_001383.jpg  \n",
            "  inflating: test_pred/448346_cfc_001607.jpg  \n",
            "  inflating: test_pred/448486_cfc_001747.jpg  \n",
            "  inflating: test_pred/448522_cfc_001783.jpg  \n",
            "  inflating: test_pred/448642_cfc_001903.jpg  \n",
            "  inflating: test_pred/448724_cfc_001985.jpg  \n",
            "  inflating: test_pred/448841_cfc_002102.jpg  \n",
            "  inflating: test_pred/448974_cfc_002235.jpg  \n",
            "  inflating: test_pred/449053_cfc_002314.jpg  \n",
            "  inflating: test_pred/449135_cfc_002396.jpg  \n",
            "  inflating: test_pred/449223_cfc_002484.jpg  \n",
            "  inflating: test_pred/449259_cfc_002520.jpg  \n",
            "  inflating: test_pred/567189_cfc_003016.jpg  \n",
            "  inflating: test_pred/567190_cfc_003017.jpg  \n",
            "  inflating: test_pred/567191_cfc_003018.jpg  \n",
            "  inflating: test_pred/567195_cfc_003022.jpg  \n",
            "  inflating: test_pred/567199_cfc_003026.jpg  \n",
            "  inflating: test_pred/567200_cfc_003027.jpg  \n",
            "  inflating: test_pred/567201_cfc_003028.jpg  \n",
            "  inflating: test_pred/567217_cfc_003044.jpg  \n",
            "  inflating: test_pred/567222_cfc_003049.jpg  \n",
            "  inflating: test_pred/567225_cfc_003052.jpg  \n",
            "  inflating: test_pred/567226_cfc_003053.jpg  \n",
            "  inflating: test_pred/567229_cfc_003056.jpg  \n",
            "  inflating: test_pred/567230_cfc_003057.jpg  \n",
            "  inflating: test_pred/567231_cfc_003058.jpg  \n",
            "  inflating: test_pred/567233_cfc_003060.jpg  \n",
            "  inflating: test_pred/567234_cfc_003061.jpg  \n",
            "  inflating: test_pred/569162_cfc_004989.jpg  \n",
            "  inflating: test_pred/569163_cfc_004990.jpg  \n",
            "  inflating: test_pred/569165_cfc_004992.jpg  \n",
            "  inflating: test_pred/569166_cfc_004993.jpg  \n",
            "  inflating: test_pred/569168_cfc_004995.jpg  \n",
            "  inflating: test_pred/569169_cfc_004996.jpg  \n",
            "  inflating: test_pred/569170_cfc_004997.jpg  \n",
            "  inflating: test_pred/569172_cfc_004999.jpg  \n",
            "  inflating: test_pred/569173_cfc_005000.jpg  \n",
            "  inflating: test_pred/569212_cfc_005039.jpg  \n",
            "  inflating: test_pred/569214_cfc_005041.jpg  \n",
            "  inflating: test_pred/569216_cfc_005043.jpg  \n",
            "  inflating: test_pred/569226_cfc_005053.jpg  \n",
            "  inflating: test_pred/569228_cfc_005055.jpg  \n",
            "  inflating: test_pred/569230_cfc_005057.jpg  \n",
            "  inflating: test_pred/569232_cfc_005059.jpg  \n",
            "  inflating: test_pred/569233_cfc_005060.jpg  \n",
            "  inflating: test_pred/569234_cfc_005061.jpg  \n",
            "  inflating: test_pred/569235_cfc_005062.jpg  \n",
            "  inflating: test_pred/569236_cfc_005063.jpg  \n",
            "  inflating: test_pred/569237_cfc_005064.jpg  \n",
            "  inflating: test_pred/638905_cfc_001754.jpg  \n",
            "  inflating: test_pred/638906_cfc_001755.jpg  \n",
            "  inflating: test_pred/638907_cfc_001756.jpg  \n",
            "  inflating: test_pred/638915_cfc_001764.jpg  \n",
            "  inflating: test_pred/638919_cfc_001768.jpg  \n",
            "  inflating: test_pred/638926_cfc_001775.jpg  \n",
            "  inflating: test_pred/638927_cfc_001776.jpg  \n",
            "  inflating: test_pred/638936_cfc_001785.jpg  \n",
            "  inflating: test_pred/638937_cfc_001786.jpg  \n",
            "  inflating: test_pred/638938_cfc_001787.jpg  \n",
            "  inflating: test_pred/638952_cfc_001801.jpg  \n",
            "  inflating: test_pred/638967_cfc_001816.jpg  \n",
            "  inflating: test_pred/638968_cfc_001817.jpg  \n",
            "  inflating: test_pred/638980_cfc_001829.jpg  \n",
            "  inflating: test_pred/638988_cfc_001837.jpg  \n",
            "  inflating: test_pred/638989_cfc_001838.jpg  \n",
            "  inflating: test_pred/638990_cfc_001839.jpg  \n",
            "  inflating: test_pred/666433_cfc_000649.jpg  \n",
            "  inflating: test_pred/666436_cfc_000652.jpg  \n",
            "  inflating: test_pred/666437_cfc_000653.jpg  \n",
            "  inflating: test_pred/666439_cfc_000655.jpg  \n",
            "  inflating: test_pred/666443_cfc_000659.jpg  \n",
            "  inflating: test_pred/666444_cfc_000660.jpg  \n",
            "  inflating: test_pred/666445_cfc_000661.jpg  \n",
            "  inflating: test_pred/666447_cfc_000663.jpg  \n",
            "  inflating: test_pred/666448_cfc_000664.jpg  \n",
            "  inflating: test_pred/666468_cfc_000684.jpg  \n",
            "  inflating: test_pred/666475_cfc_000691.jpg  \n",
            "  inflating: test_pred/666476_cfc_000692.jpg  \n",
            "  inflating: test_pred/666477_cfc_000693.jpg  \n",
            "  inflating: test_pred/666478_cfc_000694.jpg  \n",
            "  inflating: test_pred/666479_cfc_000695.jpg  \n",
            "  inflating: test_pred/666482_cfc_000698.jpg  \n",
            "  inflating: test_pred/666483_cfc_000699.jpg  \n",
            "  inflating: test_pred/666485_cfc_000701.jpg  \n",
            "  inflating: test_pred/666486_cfc_000702.jpg  \n",
            "  inflating: test_pred/666488_cfc_000704.jpg  \n",
            "  inflating: test_pred/667705_cfc_001921.jpg  \n",
            "  inflating: test_pred/667707_cfc_001923.jpg  \n"
          ]
        }
      ]
    },
    {
      "cell_type": "code",
      "metadata": {
        "id": "ts7JfnG2g_Cy",
        "colab": {
          "base_uri": "https://localhost:8080/"
        },
        "outputId": "6693513e-85c6-4e2f-93dc-46d2fb967539"
      },
      "source": [
        "%cd /content/darknet/"
      ],
      "execution_count": null,
      "outputs": [
        {
          "output_type": "stream",
          "text": [
            "/content/darknet\n"
          ],
          "name": "stdout"
        }
      ]
    },
    {
      "cell_type": "code",
      "metadata": {
        "id": "K9USp054fwIw",
        "colab": {
          "base_uri": "https://localhost:8080/"
        },
        "outputId": "273d67df-486e-4a1f-e7b6-859c2ecf595d"
      },
      "source": [
        "# need to set our custom cfg to test mode \n",
        "%cd cfg\n",
        "!sed -i 's/batch=64/batch=1/' yolov4-obj.cfg\n",
        "!sed -i 's/subdivisions=16/subdivisions=1/' yolov4-obj.cfg\n",
        "%cd .."
      ],
      "execution_count": null,
      "outputs": [
        {
          "output_type": "stream",
          "name": "stdout",
          "text": [
            "/content/darknet/cfg\n",
            "/content/darknet\n"
          ]
        }
      ]
    },
    {
      "cell_type": "code",
      "metadata": {
        "id": "5GiFgH6jEs3R"
      },
      "source": [
        "!cp /content/drive/MyDrive/Studies/Intern/yolov4/backup/yolov4-obj_last.weights ../"
      ],
      "execution_count": 7,
      "outputs": []
    },
    {
      "cell_type": "code",
      "metadata": {
        "id": "deZsUdQMNsm_"
      },
      "source": [
        "import glob\n",
        "import os\n",
        "image_path=\"../test_pred\"\n",
        "image_path_list = glob.glob(os.path.join(image_path, '*'))\n",
        "image_path_list.sort()"
      ],
      "execution_count": null,
      "outputs": []
    },
    {
      "cell_type": "code",
      "metadata": {
        "id": "ZmFKa5fSWJkS"
      },
      "source": [
        "def detectionPredict(imageDir):\n",
        "    import glob\n",
        "    import os\n",
        "    import cv2\n",
        "    os.system(\"./darknet detector test data/obj.data cfg/yolov4-obj.cfg ../yolov4-obj_last.weights {} -thresh 0.3\".format(imageDir))"
      ],
      "execution_count": null,
      "outputs": []
    },
    {
      "cell_type": "code",
      "metadata": {
        "colab": {
          "base_uri": "https://localhost:8080/"
        },
        "id": "glgDDvrOLOU2",
        "outputId": "9d8efe74-4738-4925-e5c9-2db5d4674261"
      },
      "source": [
        "from constant import *\n",
        "import tqdm\n",
        "import torch\n",
        "from preprocessing import tensorize_image, tensorize_mask, image_mask_check\n",
        "import cv2\n",
        "from train import *\n",
        "from PIL import Image\n",
        "\n",
        "for i in tqdm.tqdm(range(len(image_path_list))):\n",
        "    batch_test = image_path_list[i:i+1]\n",
        "    detectionPredict(batch_test[0])\n",
        "    img=cv2.imread(\"predictions.jpg\")\n",
        "    predict_name=batch_test[0]\n",
        "    if not os.path.exists(\"../predict_sign\"):\n",
        "      os.mkdir(\"../predict_sign\")\n",
        "    predict_path=predict_name.replace('test_pred', 'predict_sign')\n",
        "    cv2.imwrite(predict_path,img.astype(np.uint8))"
      ],
      "execution_count": null,
      "outputs": [
        {
          "output_type": "stream",
          "text": [
            "0it [00:00, ?it/s]\n"
          ],
          "name": "stderr"
        }
      ]
    },
    {
      "cell_type": "markdown",
      "metadata": {
        "id": "pSjhFJeTxTsw"
      },
      "source": [
        "### **STEP 8: Multi Class Prediction**"
      ]
    },
    {
      "cell_type": "code",
      "metadata": {
        "id": "6ka-E_kTyivF"
      },
      "source": [
        "!cp -r /content/drive/MyDrive/Studies/Intern/For_Colab/* ../"
      ],
      "execution_count": 8,
      "outputs": []
    },
    {
      "cell_type": "code",
      "metadata": {
        "id": "JTwDJg1YPqJb"
      },
      "source": [
        "!cp -r /content/drive/MyDrive/Studies/Intern/models ../"
      ],
      "execution_count": 9,
      "outputs": []
    },
    {
      "cell_type": "code",
      "metadata": {
        "id": "gM-Eud2HTTZ9"
      },
      "source": [
        "import os\n",
        "if not os.path.exists(\"/content/data/\"):\n",
        "  os.mkdir(\"/content/data/\")"
      ],
      "execution_count": null,
      "outputs": []
    },
    {
      "cell_type": "code",
      "metadata": {
        "colab": {
          "base_uri": "https://localhost:8080/"
        },
        "id": "WwKiRnClKj0J",
        "outputId": "9c5dc62f-5da4-4fa3-868b-662cf62a270c"
      },
      "source": [
        "!cp -r /content/drive/MyDrive/Studies/Intern/yolov4/test_pred.zip ../\n",
        "!unzip -d /content/data/ /content/test_pred.zip "
      ],
      "execution_count": null,
      "outputs": [
        {
          "output_type": "stream",
          "name": "stdout",
          "text": [
            "Archive:  /content/test_pred.zip\n",
            "   creating: /content/data/test_pred/\n",
            "  inflating: /content/data/test_pred/1041305_cfc_000140.jpg  \n",
            "  inflating: /content/data/test_pred/1041307_cfc_000142.jpg  \n",
            "  inflating: /content/data/test_pred/1041315_cfc_000150.jpg  \n",
            "  inflating: /content/data/test_pred/1041316_cfc_000151.jpg  \n",
            "  inflating: /content/data/test_pred/1041318_cfc_000153.jpg  \n",
            "  inflating: /content/data/test_pred/1041320_cfc_000155.jpg  \n",
            "  inflating: /content/data/test_pred/1041324_cfc_000159.jpg  \n",
            "  inflating: /content/data/test_pred/1041325_cfc_000160.jpg  \n",
            "  inflating: /content/data/test_pred/22991_cfc_002387.jpg  \n",
            "  inflating: /content/data/test_pred/22999_cfc_002395.jpg  \n",
            "  inflating: /content/data/test_pred/23015_cfc_002411.jpg  \n",
            "  inflating: /content/data/test_pred/23039_cfc_002435.jpg  \n",
            "  inflating: /content/data/test_pred/23055_cfc_002451.jpg  \n",
            "  inflating: /content/data/test_pred/449312_cfc_002573.jpg  \n",
            "  inflating: /content/data/test_pred/449314_cfc_002575.jpg  \n",
            "  inflating: /content/data/test_pred/449316_cfc_002577.jpg  \n",
            "  inflating: /content/data/test_pred/449321_cfc_002582.jpg  \n",
            "  inflating: /content/data/test_pred/449359_cfc_002620.jpg  \n",
            "  inflating: /content/data/test_pred/449369_cfc_002630.jpg  \n",
            "  inflating: /content/data/test_pred/449370_cfc_002631.jpg  \n",
            "  inflating: /content/data/test_pred/449371_cfc_002632.jpg  \n",
            "  inflating: /content/data/test_pred/449372_cfc_002633.jpg  \n",
            "  inflating: /content/data/test_pred/449387_cfc_002648.jpg  \n",
            "  inflating: /content/data/test_pred/449388_cfc_002649.jpg  \n",
            "  inflating: /content/data/test_pred/449391_cfc_002652.jpg  \n",
            "  inflating: /content/data/test_pred/449397_cfc_002658.jpg  \n",
            "  inflating: /content/data/test_pred/449400_cfc_002661.jpg  \n",
            "  inflating: /content/data/test_pred/449401_cfc_002662.jpg  \n",
            "  inflating: /content/data/test_pred/449403_cfc_002664.jpg  \n",
            "  inflating: /content/data/test_pred/449409_cfc_002670.jpg  \n",
            "  inflating: /content/data/test_pred/449410_cfc_002671.jpg  \n",
            "  inflating: /content/data/test_pred/449419_cfc_002680.jpg  \n",
            "  inflating: /content/data/test_pred/449420_cfc_002681.jpg  \n",
            "  inflating: /content/data/test_pred/449421_cfc_002682.jpg  \n",
            "  inflating: /content/data/test_pred/449437_cfc_002698.jpg  \n",
            "  inflating: /content/data/test_pred/488171_cfc_001520.jpg  \n",
            "  inflating: /content/data/test_pred/488172_cfc_001521.jpg  \n",
            "  inflating: /content/data/test_pred/488175_cfc_001524.jpg  \n",
            "  inflating: /content/data/test_pred/488176_cfc_001525.jpg  \n",
            "  inflating: /content/data/test_pred/488177_cfc_001526.jpg  \n",
            "  inflating: /content/data/test_pred/488181_cfc_001530.jpg  \n",
            "  inflating: /content/data/test_pred/488183_cfc_001532.jpg  \n",
            "  inflating: /content/data/test_pred/488185_cfc_001534.jpg  \n",
            "  inflating: /content/data/test_pred/488186_cfc_001535.jpg  \n",
            "  inflating: /content/data/test_pred/488188_cfc_001537.jpg  \n",
            "  inflating: /content/data/test_pred/488189_cfc_001538.jpg  \n",
            "  inflating: /content/data/test_pred/488190_cfc_001539.jpg  \n",
            "  inflating: /content/data/test_pred/488193_cfc_001542.jpg  \n",
            "  inflating: /content/data/test_pred/488196_cfc_001545.jpg  \n",
            "  inflating: /content/data/test_pred/488197_cfc_001546.jpg  \n",
            "  inflating: /content/data/test_pred/488204_cfc_001553.jpg  \n",
            "  inflating: /content/data/test_pred/488209_cfc_001558.jpg  \n",
            "  inflating: /content/data/test_pred/488210_cfc_001559.jpg  \n",
            "  inflating: /content/data/test_pred/488216_cfc_001565.jpg  \n",
            "  inflating: /content/data/test_pred/488217_cfc_001566.jpg  \n",
            "  inflating: /content/data/test_pred/510359_cfc_002322.jpg  \n",
            "  inflating: /content/data/test_pred/510370_cfc_002333.jpg  \n",
            "  inflating: /content/data/test_pred/510372_cfc_002335.jpg  \n",
            "  inflating: /content/data/test_pred/510373_cfc_002336.jpg  \n",
            "  inflating: /content/data/test_pred/510377_cfc_002340.jpg  \n",
            "  inflating: /content/data/test_pred/510379_cfc_002342.jpg  \n",
            "  inflating: /content/data/test_pred/510382_cfc_002345.jpg  \n",
            "  inflating: /content/data/test_pred/510383_cfc_002346.jpg  \n",
            "  inflating: /content/data/test_pred/510386_cfc_002349.jpg  \n",
            "  inflating: /content/data/test_pred/510389_cfc_002352.jpg  \n",
            "  inflating: /content/data/test_pred/510392_cfc_002355.jpg  \n",
            "  inflating: /content/data/test_pred/510393_cfc_002356.jpg  \n",
            "  inflating: /content/data/test_pred/510394_cfc_002357.jpg  \n",
            "  inflating: /content/data/test_pred/510408_cfc_002371.jpg  \n",
            "  inflating: /content/data/test_pred/510426_cfc_002389.jpg  \n",
            "  inflating: /content/data/test_pred/510427_cfc_002390.jpg  \n",
            "  inflating: /content/data/test_pred/510428_cfc_002391.jpg  \n",
            "  inflating: /content/data/test_pred/510438_cfc_002401.jpg  \n",
            "  inflating: /content/data/test_pred/510439_cfc_002402.jpg  \n",
            "  inflating: /content/data/test_pred/510443_cfc_002406.jpg  \n",
            "  inflating: /content/data/test_pred/510445_cfc_002408.jpg  \n",
            "  inflating: /content/data/test_pred/23071_cfc_002467.jpg  \n",
            "  inflating: /content/data/test_pred/24055_cfc_003451.jpg  \n",
            "  inflating: /content/data/test_pred/24319_cfc_003715.jpg  \n",
            "  inflating: /content/data/test_pred/24719_cfc_004115.jpg  \n",
            "  inflating: /content/data/test_pred/25551_cfc_004947.jpg  \n",
            "  inflating: /content/data/test_pred/3899_cfc_003899.jpg  \n",
            "  inflating: /content/data/test_pred/4060_cfc_004060.jpg  \n",
            "  inflating: /content/data/test_pred/448122_cfc_001383.jpg  \n",
            "  inflating: /content/data/test_pred/448346_cfc_001607.jpg  \n",
            "  inflating: /content/data/test_pred/448486_cfc_001747.jpg  \n",
            "  inflating: /content/data/test_pred/448522_cfc_001783.jpg  \n",
            "  inflating: /content/data/test_pred/448642_cfc_001903.jpg  \n",
            "  inflating: /content/data/test_pred/448724_cfc_001985.jpg  \n",
            "  inflating: /content/data/test_pred/448841_cfc_002102.jpg  \n",
            "  inflating: /content/data/test_pred/448974_cfc_002235.jpg  \n",
            "  inflating: /content/data/test_pred/449053_cfc_002314.jpg  \n",
            "  inflating: /content/data/test_pred/449135_cfc_002396.jpg  \n",
            "  inflating: /content/data/test_pred/449223_cfc_002484.jpg  \n",
            "  inflating: /content/data/test_pred/449259_cfc_002520.jpg  \n",
            "  inflating: /content/data/test_pred/567189_cfc_003016.jpg  \n",
            "  inflating: /content/data/test_pred/567190_cfc_003017.jpg  \n",
            "  inflating: /content/data/test_pred/567191_cfc_003018.jpg  \n",
            "  inflating: /content/data/test_pred/567195_cfc_003022.jpg  \n",
            "  inflating: /content/data/test_pred/567199_cfc_003026.jpg  \n",
            "  inflating: /content/data/test_pred/567200_cfc_003027.jpg  \n",
            "  inflating: /content/data/test_pred/567201_cfc_003028.jpg  \n",
            "  inflating: /content/data/test_pred/567217_cfc_003044.jpg  \n",
            "  inflating: /content/data/test_pred/567222_cfc_003049.jpg  \n",
            "  inflating: /content/data/test_pred/567225_cfc_003052.jpg  \n",
            "  inflating: /content/data/test_pred/567226_cfc_003053.jpg  \n",
            "  inflating: /content/data/test_pred/567229_cfc_003056.jpg  \n",
            "  inflating: /content/data/test_pred/567230_cfc_003057.jpg  \n",
            "  inflating: /content/data/test_pred/567231_cfc_003058.jpg  \n",
            "  inflating: /content/data/test_pred/567233_cfc_003060.jpg  \n",
            "  inflating: /content/data/test_pred/567234_cfc_003061.jpg  \n",
            "  inflating: /content/data/test_pred/569162_cfc_004989.jpg  \n",
            "  inflating: /content/data/test_pred/569163_cfc_004990.jpg  \n",
            "  inflating: /content/data/test_pred/569165_cfc_004992.jpg  \n",
            "  inflating: /content/data/test_pred/569166_cfc_004993.jpg  \n",
            "  inflating: /content/data/test_pred/569168_cfc_004995.jpg  \n",
            "  inflating: /content/data/test_pred/569169_cfc_004996.jpg  \n",
            "  inflating: /content/data/test_pred/569170_cfc_004997.jpg  \n",
            "  inflating: /content/data/test_pred/569172_cfc_004999.jpg  \n",
            "  inflating: /content/data/test_pred/569173_cfc_005000.jpg  \n",
            "  inflating: /content/data/test_pred/569212_cfc_005039.jpg  \n",
            "  inflating: /content/data/test_pred/569214_cfc_005041.jpg  \n",
            "  inflating: /content/data/test_pred/569216_cfc_005043.jpg  \n",
            "  inflating: /content/data/test_pred/569226_cfc_005053.jpg  \n",
            "  inflating: /content/data/test_pred/569228_cfc_005055.jpg  \n",
            "  inflating: /content/data/test_pred/569230_cfc_005057.jpg  \n",
            "  inflating: /content/data/test_pred/569232_cfc_005059.jpg  \n",
            "  inflating: /content/data/test_pred/569233_cfc_005060.jpg  \n",
            "  inflating: /content/data/test_pred/569234_cfc_005061.jpg  \n",
            "  inflating: /content/data/test_pred/569235_cfc_005062.jpg  \n",
            "  inflating: /content/data/test_pred/569236_cfc_005063.jpg  \n",
            "  inflating: /content/data/test_pred/569237_cfc_005064.jpg  \n",
            "  inflating: /content/data/test_pred/638905_cfc_001754.jpg  \n",
            "  inflating: /content/data/test_pred/638906_cfc_001755.jpg  \n",
            "  inflating: /content/data/test_pred/638907_cfc_001756.jpg  \n",
            "  inflating: /content/data/test_pred/638915_cfc_001764.jpg  \n",
            "  inflating: /content/data/test_pred/638919_cfc_001768.jpg  \n",
            "  inflating: /content/data/test_pred/638926_cfc_001775.jpg  \n",
            "  inflating: /content/data/test_pred/638927_cfc_001776.jpg  \n",
            "  inflating: /content/data/test_pred/638936_cfc_001785.jpg  \n",
            "  inflating: /content/data/test_pred/638937_cfc_001786.jpg  \n",
            "  inflating: /content/data/test_pred/638938_cfc_001787.jpg  \n",
            "  inflating: /content/data/test_pred/638952_cfc_001801.jpg  \n",
            "  inflating: /content/data/test_pred/638967_cfc_001816.jpg  \n",
            "  inflating: /content/data/test_pred/638968_cfc_001817.jpg  \n",
            "  inflating: /content/data/test_pred/638980_cfc_001829.jpg  \n",
            "  inflating: /content/data/test_pred/638988_cfc_001837.jpg  \n",
            "  inflating: /content/data/test_pred/638989_cfc_001838.jpg  \n",
            "  inflating: /content/data/test_pred/638990_cfc_001839.jpg  \n",
            "  inflating: /content/data/test_pred/666433_cfc_000649.jpg  \n",
            "  inflating: /content/data/test_pred/666436_cfc_000652.jpg  \n",
            "  inflating: /content/data/test_pred/666437_cfc_000653.jpg  \n",
            "  inflating: /content/data/test_pred/666439_cfc_000655.jpg  \n",
            "  inflating: /content/data/test_pred/666443_cfc_000659.jpg  \n",
            "  inflating: /content/data/test_pred/666444_cfc_000660.jpg  \n",
            "  inflating: /content/data/test_pred/666445_cfc_000661.jpg  \n",
            "  inflating: /content/data/test_pred/666447_cfc_000663.jpg  \n",
            "  inflating: /content/data/test_pred/666448_cfc_000664.jpg  \n",
            "  inflating: /content/data/test_pred/666468_cfc_000684.jpg  \n",
            "  inflating: /content/data/test_pred/666475_cfc_000691.jpg  \n",
            "  inflating: /content/data/test_pred/666476_cfc_000692.jpg  \n",
            "  inflating: /content/data/test_pred/666477_cfc_000693.jpg  \n",
            "  inflating: /content/data/test_pred/666478_cfc_000694.jpg  \n",
            "  inflating: /content/data/test_pred/666479_cfc_000695.jpg  \n",
            "  inflating: /content/data/test_pred/666482_cfc_000698.jpg  \n",
            "  inflating: /content/data/test_pred/666483_cfc_000699.jpg  \n",
            "  inflating: /content/data/test_pred/666485_cfc_000701.jpg  \n",
            "  inflating: /content/data/test_pred/666486_cfc_000702.jpg  \n",
            "  inflating: /content/data/test_pred/666488_cfc_000704.jpg  \n",
            "  inflating: /content/data/test_pred/667705_cfc_001921.jpg  \n",
            "  inflating: /content/data/test_pred/667707_cfc_001923.jpg  \n"
          ]
        }
      ]
    },
    {
      "cell_type": "code",
      "metadata": {
        "colab": {
          "base_uri": "https://localhost:8080/"
        },
        "id": "FIkjIGdcTJVr",
        "outputId": "1f342134-aa83-466f-d126-1ce93e3ddfec"
      },
      "source": [
        "%cd /content/darknet/"
      ],
      "execution_count": null,
      "outputs": [
        {
          "output_type": "stream",
          "name": "stdout",
          "text": [
            "/content/darknet\n"
          ]
        }
      ]
    },
    {
      "cell_type": "code",
      "metadata": {
        "colab": {
          "base_uri": "https://localhost:8080/"
        },
        "id": "xxjTGtqRTJVs",
        "outputId": "c1bdf8fe-fa12-4b26-eb6f-1ee47f77c687"
      },
      "source": [
        "# need to set our custom cfg to test mode \n",
        "%cd cfg\n",
        "!sed -i 's/batch=64/batch=1/' yolov4-obj.cfg\n",
        "!sed -i 's/subdivisions=16/subdivisions=1/' yolov4-obj.cfg\n",
        "%cd .."
      ],
      "execution_count": null,
      "outputs": [
        {
          "output_type": "stream",
          "name": "stdout",
          "text": [
            "/content/darknet/cfg\n",
            "/content/darknet\n"
          ]
        }
      ]
    },
    {
      "cell_type": "code",
      "metadata": {
        "id": "CUYxS5P4TJVt"
      },
      "source": [
        "!cp /content/drive/MyDrive/Studies/Intern/yolov4/backup/yolov4-obj_last.weights ../"
      ],
      "execution_count": null,
      "outputs": []
    },
    {
      "cell_type": "code",
      "metadata": {
        "id": "M33l-AHWK_ZE"
      },
      "source": [
        "import glob\n",
        "import os\n",
        "image_path=\"../test_pred\"\n",
        "image_path_list = glob.glob(os.path.join(image_path, '*'))\n",
        "image_path_list.sort()"
      ],
      "execution_count": null,
      "outputs": []
    },
    {
      "cell_type": "code",
      "metadata": {
        "id": "SNaRHxsTLBMo"
      },
      "source": [
        "def Detection(imageDir):\n",
        "    os.system(\"./darknet detector test data/obj.data cfg/yolov4-obj.cfg ../yolov4-obj_last.weights {} -ext_output -dont_show -out result.json -thresh 0.5\"\n",
        "              .format(imageDir))"
      ],
      "execution_count": 10,
      "outputs": []
    },
    {
      "cell_type": "code",
      "metadata": {
        "colab": {
          "base_uri": "https://localhost:8080/"
        },
        "id": "oohqf64nNuWZ",
        "outputId": "a49ac58b-2d7f-458c-f14c-50a07e5d8c4c"
      },
      "source": [
        "%cd /content/"
      ],
      "execution_count": null,
      "outputs": [
        {
          "output_type": "stream",
          "name": "stdout",
          "text": [
            "/content\n"
          ]
        }
      ]
    },
    {
      "cell_type": "markdown",
      "metadata": {
        "id": "QsoeR5iUQOr5"
      },
      "source": [
        "#### Predict"
      ]
    },
    {
      "cell_type": "code",
      "metadata": {
        "id": "mtSCoC4uLQYN"
      },
      "source": [
        "import os\n",
        "import glob\n",
        "import torch\n",
        "import tqdm\n",
        "import cv2\n",
        "from tqdm import tqdm_notebook\n",
        "from preprocess import tensorize_image\n",
        "import numpy as np\n",
        "from constant import *\n",
        "from train import *\n",
        "from natsort import natsorted\n",
        "\n",
        "#### PARAMETERS #####\n",
        "cuda = True\n",
        "test = True\n",
        "predict_name = \"test_pred\"\n",
        "fs_model_name = \"Unet_2.pt\"\n",
        "line_model_name = \"SegNet.pt\"\n",
        "fs_model_path = os.path.join(MODELS_DIR, fs_model_name)\n",
        "line_model_path = os.path.join(MODELS_DIR, line_model_name)\n",
        "input_shape = input_shape\n",
        "#####################\n",
        "\n",
        "if test:\n",
        "    if not os.path.exists(TEST_PREDICT_DIR): \n",
        "      os.mkdir(TEST_PREDICT_DIR)\n",
        "    test_input_path_list = glob.glob(os.path.join(TEST_DIR, \"*\"))\n",
        "    test_input_path_list = natsorted(test_input_path_list)\n",
        "    predict_path = os.path.join(TEST_PREDICT_DIR, predict_name.split(\".\")[0])\n",
        "else:\n",
        "    if not os.path.exists(PREDICT_DIR): \n",
        "      os.mkdir(PREDICT_DIR)\n",
        "    predict_path = os.path.join(PREDICT_DIR, predict_name.split(\".\")[0])\n",
        "\n",
        "if not os.path.exists(predict_path): \n",
        "    os.mkdir(predict_path)\n",
        "\n",
        "# LOAD MODEL\n",
        "fs_model = torch.load(fs_model_path)\n",
        "#Remember that you must call model.eval() to set dropout and batch normalization layers to evaluation mode before running inference. \n",
        "#Failing to do this will yield inconsistent inference results.\n",
        "fs_model.eval()\n",
        "\n",
        "line_model = torch.load(line_model_path)\n",
        "line_model.eval()\n",
        "\n",
        "if cuda:\n",
        "    fs_model = fs_model.cuda()\n",
        "    line_model = line_model.cuda()\n",
        "\n",
        "\n",
        "\n",
        "# PREDICT\n",
        "def predict(fs_model, line_model, images):\n",
        "\n",
        "\n",
        "    for image in tqdm_notebook(images):\n",
        "        img = cv2.imread(image)\n",
        "        batch_test = tensorize_image([image], input_shape, cuda)\n",
        "\n",
        "        Detection(image)\n",
        "        img = cv2.imread(\"predictions.jpg\")\n",
        "        \n",
        "        fs_output = fs_model(batch_test)\n",
        "        line_output = line_model(batch_test)\n",
        "        fs_out = torch.argmax(fs_output, axis=1)\n",
        "        line_out = torch.argmax(line_output, axis=1)\n",
        "\n",
        "        \n",
        "        fs_out_cpu = fs_out.cpu()\n",
        "        line_out_cpu = line_out.cpu()\n",
        "        \n",
        "        fs_outputs_list  = fs_out_cpu.detach().numpy()\n",
        "        line_outputs_list  = line_out_cpu.detach().numpy()\n",
        "        \n",
        "        fs_mask = np.squeeze(fs_outputs_list, axis=0)\n",
        "        line_mask = np.squeeze(line_outputs_list, axis=0)\n",
        "       \n",
        "        fs_mask_uint8 = fs_mask.astype('uint8')\n",
        "        line_mask_uint8 = line_mask.astype('uint8')\n",
        "        \n",
        "        fs_mask_resize = cv2.resize(fs_mask_uint8, ((img.shape[1]), (img.shape[0])), interpolation = cv2.INTER_CUBIC)\n",
        "        fs_line_resize = cv2.resize(line_mask_uint8, ((img.shape[1]), (img.shape[0])), interpolation = cv2.INTER_NEAREST)\n",
        "        \n",
        "        \n",
        "        #img_resize = cv2.resize(img, input_shape)\n",
        "        mask_ind = fs_mask_resize == 1\n",
        "        mask_ind = fs_line_resize == 1\n",
        "        #copy_img = img_resize.copy()\n",
        "        copy_img = img.copy()\n",
        "        \n",
        "        img[fs_mask_resize==1, :] = (255, 0, 125)\n",
        "        img[fs_line_resize==1, :] = (0, 0, 255)\n",
        "        img[fs_line_resize==2, :] = (38, 255, 255)\n",
        "        \n",
        "        opac_image = (img/2 + copy_img/2).astype(np.uint8)\n",
        "        cv2.imwrite(os.path.join(predict_path, image.split(\"/\")[-1]), opac_image)\n",
        "        #print(\"mask size from model: \", mask.shape),\n",
        "        #print(\"resized mask size: \", mask_resize.shape)\n",
        "\n",
        "if __name__ == \"__main__\":\n",
        "    predict(fs_model, line_model, test_input_path_list)"
      ],
      "execution_count": null,
      "outputs": []
    },
    {
      "cell_type": "markdown",
      "metadata": {
        "id": "8YeMCmDIM_ff"
      },
      "source": [
        "## **STEP 9: MULTI CLASS PREDICTION IN VIDEO DATA**"
      ]
    },
    {
      "cell_type": "code",
      "metadata": {
        "id": "b0qbo6GsxTBY"
      },
      "source": [
        "!./darknet detector demo data/obj.data cfg/yolov4-obj.cfg /content/yolov4-obj_last.weights -dont_show /content/drive/MyDrive/Studies/Intern/test/videos/btest1.mp4 -thresh 0.4 -i 0 -out_filename /content/btest1_result.mp4"
      ],
      "execution_count": null,
      "outputs": []
    },
    {
      "cell_type": "markdown",
      "metadata": {
        "id": "0zs5ulMMNP6I"
      },
      "source": [
        "### Video to Frame"
      ]
    },
    {
      "cell_type": "code",
      "metadata": {
        "id": "F9wBmZh_FYnf"
      },
      "source": [
        "!cp /content/drive/MyDrive/Studies/Intern/test/videos/test_wclass_sh.mp4 /content/test_wclass_sh.mp4"
      ],
      "execution_count": 39,
      "outputs": []
    },
    {
      "cell_type": "code",
      "metadata": {
        "id": "pLEskICmMXZs"
      },
      "source": [
        "import cv2\n",
        "import os\n",
        "import glob\n",
        "# Opens the Video file\n",
        "if not os.path.exists(\"/content/data/\"): \n",
        "  os.mkdir(\"/content/data/\")\n",
        "if not os.path.exists(\"/content/data/test\"): \n",
        "  os.mkdir(\"/content/data/test\")\n",
        "for f in glob.glob(\"/content/data/test/*\"):\n",
        "  os.remove(f)\n",
        "\n",
        "cap = cv2.VideoCapture('/content/test_wclass_sh.mp4')\n",
        "i = 0\n",
        "while(cap.isOpened()):\n",
        "    ret, frame = cap.read()\n",
        "    if ret == False:\n",
        "        break\n",
        "    cv2.imwrite('/content/data/test/'+str(i)+'.jpg',frame)\n",
        "    i+=1\n",
        " \n",
        "cap.release()\n",
        "cv2.destroyAllWindows()"
      ],
      "execution_count": 40,
      "outputs": []
    },
    {
      "cell_type": "markdown",
      "metadata": {
        "id": "uQfSBIXYOJYG"
      },
      "source": [
        "### Predict"
      ]
    },
    {
      "cell_type": "code",
      "metadata": {
        "colab": {
          "base_uri": "https://localhost:8080/"
        },
        "id": "xQ024z2vAVvx",
        "outputId": "c79ed62e-9361-4224-dc9c-81d4a96c1b84"
      },
      "source": [
        "%cd /content/"
      ],
      "execution_count": null,
      "outputs": [
        {
          "output_type": "stream",
          "text": [
            "/content\n"
          ],
          "name": "stdout"
        }
      ]
    },
    {
      "cell_type": "code",
      "metadata": {
        "colab": {
          "base_uri": "https://localhost:8080/",
          "height": 137,
          "referenced_widgets": [
            "7525fe972a604c8ebd13154d5e15621b",
            "7a63a29b438a4309867767080fb7f7a5",
            "2d68b091f83844178af4671ed87342cb",
            "7e85191e54c840598bf46c54f75d055a",
            "32311678ad004a8f87e6da4896307228",
            "4cbba178aeb24509815ff57d6daf1ea7",
            "aa1e6005b1b64bee841d23bbdcbb1a4a",
            "0bdd7ac521e74593b2037ffdd2c9203f",
            "fb957626034e4c148c885b351feceba3",
            "bf11c6b7e6034754bbbf15d6a4d0e61e",
            "1495615916144ae5b31270e2a0ae3dbd"
          ]
        },
        "id": "YtZDPJm_pe7n",
        "outputId": "70dac419-3546-4b97-9550-fcd9c374f605"
      },
      "source": [
        "import os\n",
        "import glob\n",
        "import torch\n",
        "import tqdm\n",
        "import cv2\n",
        "from tqdm import tqdm_notebook\n",
        "from preprocess import tensorize_image\n",
        "import numpy as np\n",
        "from constant import *\n",
        "from train import *\n",
        "from natsort import natsorted\n",
        "\n",
        "#### PARAMETERS #####\n",
        "cuda = True\n",
        "test = True\n",
        "predict_name = \"test4_predicts\"\n",
        "fs_model_name = \"Unet_2.pt\"\n",
        "line_model_name = \"SegNet.pt\"\n",
        "fs_model_path = os.path.join(MODELS_DIR, fs_model_name)\n",
        "line_model_path = os.path.join(MODELS_DIR, line_model_name)\n",
        "input_shape = input_shape\n",
        "#####################\n",
        "\n",
        "if test:\n",
        "    if not os.path.exists(TEST_PREDICT_DIR): \n",
        "      os.mkdir(TEST_PREDICT_DIR)\n",
        "    test_input_path_list = glob.glob(os.path.join(TEST_DIR, \"*\"))\n",
        "    test_input_path_list = natsorted(test_input_path_list)\n",
        "    predict_path = os.path.join(TEST_PREDICT_DIR, predict_name.split(\".\")[0])\n",
        "else:\n",
        "    if not os.path.exists(PREDICT_DIR): \n",
        "      os.mkdir(PREDICT_DIR)\n",
        "    predict_path = os.path.join(PREDICT_DIR, predict_name.split(\".\")[0])\n",
        "\n",
        "if not os.path.exists(predict_path): \n",
        "    os.mkdir(predict_path)\n",
        "\n",
        "# LOAD MODEL\n",
        "fs_model = torch.load(fs_model_path)\n",
        "#Remember that you must call model.eval() to set dropout and batch normalization layers to evaluation mode before running inference. \n",
        "#Failing to do this will yield inconsistent inference results.\n",
        "fs_model.eval()\n",
        "\n",
        "line_model = torch.load(line_model_path)\n",
        "line_model.eval()\n",
        "\n",
        "if cuda:\n",
        "    fs_model = fs_model.cuda()\n",
        "    line_model = line_model.cuda()\n",
        "\n",
        "\n",
        "\n",
        "# PREDICT\n",
        "def predict(fs_model, line_model, images):\n",
        "\n",
        "\n",
        "    for image in tqdm_notebook(images):\n",
        "        img = cv2.imread(image)\n",
        "        batch_test = tensorize_image([image], input_shape, cuda)\n",
        "        \n",
        "        fs_output = fs_model(batch_test)\n",
        "        line_output = line_model(batch_test)\n",
        "        fs_out = torch.argmax(fs_output, axis=1)\n",
        "        line_out = torch.argmax(line_output, axis=1)\n",
        "\n",
        "        \n",
        "        fs_out_cpu = fs_out.cpu()\n",
        "        line_out_cpu = line_out.cpu()\n",
        "        \n",
        "        fs_outputs_list  = fs_out_cpu.detach().numpy()\n",
        "        line_outputs_list  = line_out_cpu.detach().numpy()\n",
        "        \n",
        "        fs_mask = np.squeeze(fs_outputs_list, axis=0)\n",
        "        line_mask = np.squeeze(line_outputs_list, axis=0)\n",
        "       \n",
        "        fs_mask_uint8 = fs_mask.astype('uint8')\n",
        "        line_mask_uint8 = line_mask.astype('uint8')\n",
        "        \n",
        "        fs_mask_resize = cv2.resize(fs_mask_uint8, ((img.shape[1]), (img.shape[0])), interpolation = cv2.INTER_CUBIC)\n",
        "        fs_line_resize = cv2.resize(line_mask_uint8, ((img.shape[1]), (img.shape[0])), interpolation = cv2.INTER_NEAREST)\n",
        "        \n",
        "        \n",
        "        #img_resize = cv2.resize(img, input_shape)\n",
        "        mask_ind = fs_mask_resize == 1\n",
        "        mask_ind = fs_line_resize == 1\n",
        "        #copy_img = img_resize.copy()\n",
        "        copy_img = img.copy()\n",
        "        \n",
        "        img[fs_mask_resize==1, :] = (255, 0, 125)\n",
        "        img[fs_line_resize==1, :] = (0, 0, 255)\n",
        "        img[fs_line_resize==2, :] = (38, 255, 255)\n",
        "        \n",
        "        opac_image = (img/2 + copy_img/2).astype(np.uint8)\n",
        "        cv2.imwrite(os.path.join(predict_path, image.split(\"/\")[-1]), opac_image)\n",
        "        #print(\"mask size from model: \", mask.shape),\n",
        "        #print(\"resized mask size: \", mask_resize.shape)\n",
        "\n",
        "if __name__ == \"__main__\":\n",
        "    predict(fs_model, line_model, test_input_path_list)"
      ],
      "execution_count": null,
      "outputs": [
        {
          "output_type": "stream",
          "text": [
            "/usr/local/lib/python3.7/dist-packages/ipykernel_launcher.py:57: TqdmDeprecationWarning: This function will be removed in tqdm==5.0.0\n",
            "Please use `tqdm.notebook.tqdm` instead of `tqdm.tqdm_notebook`\n"
          ],
          "name": "stderr"
        },
        {
          "output_type": "display_data",
          "data": {
            "application/vnd.jupyter.widget-view+json": {
              "model_id": "7525fe972a604c8ebd13154d5e15621b",
              "version_minor": 0,
              "version_major": 2
            },
            "text/plain": [
              "  0%|          | 0/1936 [00:00<?, ?it/s]"
            ]
          },
          "metadata": {}
        },
        {
          "output_type": "stream",
          "text": [
            "/usr/local/lib/python3.7/dist-packages/torch/nn/functional.py:718: UserWarning: Named tensors and all their associated APIs are an experimental feature and subject to change. Please do not use them for anything important until they are released as stable. (Triggered internally at  /pytorch/c10/core/TensorImpl.h:1156.)\n",
            "  return torch.max_pool2d(input, kernel_size, stride, padding, dilation, ceil_mode)\n"
          ],
          "name": "stderr"
        }
      ]
    },
    {
      "cell_type": "markdown",
      "metadata": {
        "id": "RUaR8buSONmA"
      },
      "source": [
        "### Frame to Video"
      ]
    },
    {
      "cell_type": "code",
      "metadata": {
        "id": "x_nZ2qN7wu5W",
        "colab": {
          "base_uri": "https://localhost:8080/",
          "height": 166,
          "referenced_widgets": [
            "95d01231e12f4c84be4f0c3543080a8e",
            "6f098a73f04f461db52f72e5def92264",
            "b9deb5e178c744ffaa6af2e10e79c390",
            "d1c43efb5abd48158cdd9739a61a9418",
            "809c9ed7612446b298d8aedad7bb5e66",
            "ffcc54a4974e458faa4e7e4bcc581e61",
            "7f418383366b4d3db5f04b62d7353add",
            "6ec54213372949d786b9bdb1f4e1e73a",
            "8be58601b6594ae5b12a77e8a61f1c47",
            "e58c342e8d7a408ea6a89d6dea60f4a3",
            "cc2db6f2674344ae86cb587ee3083e62",
            "367e8e3186f044b2a6062a980ccf4001",
            "0ca38c2126e3409d855117c2a9612072",
            "46b12b24e3b248bc8ffbdb427e1034cc",
            "11046eb8acc84e9c8fa7cf4a65556a95",
            "0dc1de87d0144fabaf89b2438f240b3d",
            "ccd1fb361a874c1d906ed8dbd5ce1f03",
            "0232ad05e7fa43f5af5e4372202432e0",
            "ba9d2ed703b549c7982a1c5bedf3d03a",
            "c20fc9165fab484ea263120afc3634ba",
            "4b8b64cc937e4f56a5dca1f03d9f49f1",
            "de4413398d854105bb4c119a968660f1"
          ]
        },
        "outputId": "3067dcd1-c3bd-4e82-e3fe-a0273feee3e8"
      },
      "source": [
        "import cv2\n",
        "import numpy as np\n",
        "import os\n",
        "from os.path import isfile, join\n",
        "from natsort import natsorted\n",
        "from tqdm import tqdm_notebook\n",
        "\n",
        "pathIn= '/content/data/test_predicts/test_wclass_sh/'\n",
        "pathOut = '/content/test_wclass_sh.mp4'\n",
        "fps = 24\n",
        "frame_array = []\n",
        "files = [f for f in os.listdir(pathIn) if isfile(join(pathIn, f))]\n",
        "#for sorting the file names properly\n",
        "files = natsorted(files)\n",
        "for i in tqdm_notebook(range(len(files))):\n",
        "    filename=pathIn + files[i]\n",
        "    #reading each files\n",
        "    img = cv2.imread(filename)\n",
        "    height, width, layers = img.shape\n",
        "    size = (width,height)\n",
        "    \n",
        "    #inserting the frames into an image array\n",
        "    frame_array.append(img)\n",
        "out = cv2.VideoWriter(pathOut,cv2.VideoWriter_fourcc(*'DIVX'), fps, size)\n",
        "for i in tqdm_notebook(range(len(frame_array))):\n",
        "    # writing to a image array\n",
        "    out.write(frame_array[i])\n",
        "out.release()"
      ],
      "execution_count": 44,
      "outputs": [
        {
          "output_type": "stream",
          "name": "stderr",
          "text": [
            "/usr/local/lib/python3.7/dist-packages/ipykernel_launcher.py:15: TqdmDeprecationWarning: This function will be removed in tqdm==5.0.0\n",
            "Please use `tqdm.notebook.tqdm` instead of `tqdm.tqdm_notebook`\n",
            "  from ipykernel import kernelapp as app\n"
          ]
        },
        {
          "output_type": "display_data",
          "data": {
            "application/vnd.jupyter.widget-view+json": {
              "model_id": "95d01231e12f4c84be4f0c3543080a8e",
              "version_minor": 0,
              "version_major": 2
            },
            "text/plain": [
              "  0%|          | 0/519 [00:00<?, ?it/s]"
            ]
          },
          "metadata": {}
        },
        {
          "output_type": "stream",
          "name": "stderr",
          "text": [
            "/usr/local/lib/python3.7/dist-packages/ipykernel_launcher.py:25: TqdmDeprecationWarning: This function will be removed in tqdm==5.0.0\n",
            "Please use `tqdm.notebook.tqdm` instead of `tqdm.tqdm_notebook`\n"
          ]
        },
        {
          "output_type": "display_data",
          "data": {
            "application/vnd.jupyter.widget-view+json": {
              "model_id": "367e8e3186f044b2a6062a980ccf4001",
              "version_minor": 0,
              "version_major": 2
            },
            "text/plain": [
              "  0%|          | 0/519 [00:00<?, ?it/s]"
            ]
          },
          "metadata": {}
        }
      ]
    },
    {
      "cell_type": "code",
      "metadata": {
        "id": "Kbo8zKxUz5tR"
      },
      "source": [
        "!cp /content/test_wclass_sh.mp4 /content/drive/MyDrive/Studies/Intern/test/predicts"
      ],
      "execution_count": 45,
      "outputs": []
    },
    {
      "cell_type": "code",
      "metadata": {
        "id": "ZWaSYOTHBMAj"
      },
      "source": [
        ""
      ],
      "execution_count": null,
      "outputs": []
    },
    {
      "cell_type": "markdown",
      "metadata": {
        "id": "vG_SXrqOOTvL"
      },
      "source": [
        "# **Classification**"
      ]
    },
    {
      "cell_type": "markdown",
      "metadata": {
        "id": "yuIMK7C-O43c"
      },
      "source": [
        "## Step1: Crop Sign"
      ]
    },
    {
      "cell_type": "code",
      "metadata": {
        "id": "bir4dy9qOVvi"
      },
      "source": [
        "import json\n",
        "import cv2\n",
        "\n",
        "def crop_sign():\n",
        "  global img\n",
        "  global positions\n",
        "  if not os.path.exists(\"/content/data/crop_image\"):\n",
        "    os.mkdir(\"/content/data/crop_image\")\n",
        "\n",
        "  for f in glob.glob(\"/content/data/crop_image/*\"):\n",
        "    os.remove(f)\n",
        "\n",
        "  positions=[]\n",
        "\n",
        "  json_file = open('/content/darknet/result.json', 'r')#file reading process\n",
        "  json_dict=json.load(json_file)#Contents of json file converted to dict data type\n",
        "  \n",
        "  img= cv2.imread(json_dict[0][\"filename\"])\n",
        "\n",
        "  for i,obj in enumerate(json_dict[0][\"objects\"]):\n",
        "    if obj['class_id'] ==0:\n",
        "\n",
        "      center_x=img.shape[1]*obj[\"relative_coordinates\"]['center_x']\n",
        "      center_y=img.shape[0]*obj[\"relative_coordinates\"]['center_y']\n",
        "      width=img.shape[1]*obj[\"relative_coordinates\"]['width']\n",
        "      height=img.shape[0]*obj[\"relative_coordinates\"]['height']\n",
        "\n",
        "      #x_center=int(xmin + width()/2)\n",
        "      #y_center=int(ymin + height()/2)\n",
        "\n",
        "      new_width=(img.shape[1]*obj[\"relative_coordinates\"]['width'])/2\n",
        "      new_height=(img.shape[0]*obj[\"relative_coordinates\"]['height'])/2\n",
        "\n",
        "      x_min=abs(center_x-new_width)\n",
        "      y_min=abs(center_y-new_height)\n",
        "\n",
        "      #width=int(xmax-xmin)\n",
        "      #height=int(ymax-ymin)\n",
        "\n",
        "      x_max=width+x_min\n",
        "      y_max=height+y_min\n",
        "\n",
        "      w=int(width)\n",
        "      h=int(height)\n",
        "\n",
        "      positions.append([int(x_min), int(y_min), int(x_max),int(y_max)])\n",
        "      \n",
        "      crop_img = img[int(y_min):int(y_min)+h,int(x_min):int(x_min)+w]\n",
        "      ci_path=json_dict[0][\"filename\"].replace('test','crop_image')\n",
        "      cv2.imwrite(ci_path[:-4]+\"-\"+str(i)+\".jpg\",crop_img)\n",
        "  return positions"
      ],
      "execution_count": 13,
      "outputs": []
    },
    {
      "cell_type": "code",
      "metadata": {
        "colab": {
          "base_uri": "https://localhost:8080/"
        },
        "id": "odWmvi5tN6o4",
        "outputId": "c8e42adb-a0af-4fd8-89d4-fe3081ce724d"
      },
      "source": [
        "positions"
      ],
      "execution_count": null,
      "outputs": [
        {
          "output_type": "execute_result",
          "data": {
            "text/plain": [
              "[[-1, 352, 16, 398]]"
            ]
          },
          "metadata": {},
          "execution_count": 23
        }
      ]
    },
    {
      "cell_type": "code",
      "metadata": {
        "colab": {
          "base_uri": "https://localhost:8080/"
        },
        "id": "caSAaZcNNoQq",
        "outputId": "4c297d08-0e7d-455f-ad7b-2c5cb4a3f584"
      },
      "source": [
        "crop_sign()"
      ],
      "execution_count": null,
      "outputs": [
        {
          "output_type": "execute_result",
          "data": {
            "text/plain": [
              "[[1, 352, 18, 398]]"
            ]
          },
          "metadata": {},
          "execution_count": 25
        }
      ]
    },
    {
      "cell_type": "code",
      "metadata": {
        "id": "0oq3W2hIPhWx"
      },
      "source": [
        "import glob\n",
        "import os\n",
        "for f in glob.glob(\"/content/full_predict/*\"):\n",
        "  os.remove(f)"
      ],
      "execution_count": null,
      "outputs": []
    },
    {
      "cell_type": "markdown",
      "metadata": {
        "id": "XMiDhaTaRU_b"
      },
      "source": [
        "## Step2: Class Pred"
      ]
    },
    {
      "cell_type": "code",
      "metadata": {
        "id": "8Thi1i5-PqH9"
      },
      "source": [
        "import os\n",
        "import cv2\n",
        "from PIL import Image\n",
        "import numpy as np\n",
        "from keras import models\n",
        "import glob\n",
        "\n",
        "def class_pred():\n",
        "  global pred\n",
        "  global meta_image\n",
        "  if not os.path.exists(\"/content/data/meta_image/\"):\n",
        "    os.mkdir(\"/content/data/meta_image/\")\n",
        "\n",
        "  for f in glob.glob(\"/content/data/meta_image/*\"):\n",
        "    os.remove(f)\n",
        "\n",
        "  crop_img=os.listdir('/content/data/crop_image')\n",
        "  \n",
        "  for f in crop_img:\n",
        "    if f.startswith(\".\"):\n",
        "      crop_img.remove(f)\n",
        "  \n",
        "  crop_img.sort()\n",
        "  data=[]\n",
        "  for i in crop_img:\n",
        "    image=cv2.imread(\"/content/data/crop_image/\"+i)\n",
        "    imageRGB = cv2.cvtColor(image, cv2.COLOR_BGR2RGB)\n",
        "    image_fromarray = Image.fromarray(imageRGB, 'RGB')\n",
        "    resize_image = image_fromarray.resize((30, 30))\n",
        "    data.append(np.array(resize_image))\n",
        "\n",
        "  X_test = np.array(data)\n",
        "  X_test = X_test/255\n",
        "  model=models.load_model('/content/models/sign_ford_model.h5')\n",
        "  y = model.predict(X_test)\n",
        "  pred=np.argmax(y,axis=1)\n",
        "\n",
        "  for n,pr in enumerate(pred):\n",
        "    meta_path='/content/data/Meta/'\n",
        "    meta_image_path=meta_path+str(pr)+'.png'\n",
        "    meta_image=cv2.imread(meta_image_path, cv2.IMREAD_UNCHANGED)\n",
        "    cv2.imwrite('/content/data/meta_image/'+str(n)+'.jpg',meta_image)"
      ],
      "execution_count": 14,
      "outputs": []
    },
    {
      "cell_type": "markdown",
      "metadata": {
        "id": "T0VYvYhxQOzc"
      },
      "source": [
        "# **FINAL**"
      ]
    },
    {
      "cell_type": "code",
      "metadata": {
        "colab": {
          "base_uri": "https://localhost:8080/"
        },
        "id": "UAoSaxgTQ-KN",
        "outputId": "a7a6f950-6ae9-4aa9-85e3-d68a4134e1a6"
      },
      "source": [
        "%cd /content/darknet"
      ],
      "execution_count": null,
      "outputs": [
        {
          "output_type": "stream",
          "name": "stdout",
          "text": [
            "/content/darknet\n"
          ]
        }
      ]
    },
    {
      "cell_type": "code",
      "metadata": {
        "id": "Ii3ZzOrBoTKM"
      },
      "source": [
        "!cp -r /content/drive/MyDrive/Studies/Intern/Meta /content/data"
      ],
      "execution_count": 15,
      "outputs": []
    },
    {
      "cell_type": "code",
      "metadata": {
        "colab": {
          "base_uri": "https://localhost:8080/",
          "height": 103,
          "referenced_widgets": [
            "1665ed9afaf449798541edcdcbfa33af",
            "d2535b32c5f947ec9eac398f951cf760",
            "4869cc9ce5414b4889a6775677f27168",
            "c0b98e30af9045ada772c0f91b983184",
            "af76407160f84237bfaa8891a836e13d",
            "58aedf1b588843ecb10d85417e75ae37",
            "d59884093b0848ef8dfb05114a6ca9be",
            "492c6d3740824d19988f2597bc0cb230",
            "ec3e7d96b8494a2f9a3d25ffb75a32fd",
            "74c8b8ea81c14f60853d10875a861775",
            "bbfc907e9a8c41bebfbe6ae1dc774ab1"
          ]
        },
        "id": "yPS-3r1vQRbT",
        "outputId": "28d4de20-a605-4823-90e8-cb182bd2c951"
      },
      "source": [
        "import os\n",
        "import glob\n",
        "import torch\n",
        "import tqdm\n",
        "import cv2\n",
        "from tqdm import tqdm_notebook\n",
        "from preprocess import tensorize_image\n",
        "import numpy as np\n",
        "from constant import *\n",
        "from train import *\n",
        "from natsort import natsorted\n",
        "from PIL import Image\n",
        "\n",
        "#### PARAMETERS #####\n",
        "cuda = True\n",
        "test = True\n",
        "predict_name = \"test_wclass_sh\"\n",
        "fs_model_name = \"Unet_2.pt\"\n",
        "line_model_name = \"SegNet.pt\"\n",
        "fs_model_path = os.path.join(MODELS_DIR, fs_model_name)\n",
        "line_model_path = os.path.join(MODELS_DIR, line_model_name)\n",
        "input_shape = input_shape\n",
        "#####################\n",
        "\n",
        "if test:\n",
        "    if not os.path.exists(TEST_PREDICT_DIR): \n",
        "      os.mkdir(TEST_PREDICT_DIR)\n",
        "\n",
        "\n",
        "    test_input_path_list = glob.glob(os.path.join(TEST_DIR, \"*\"))\n",
        "    test_input_path_list = natsorted(test_input_path_list)\n",
        "    predict_path = os.path.join(TEST_PREDICT_DIR, predict_name.split(\".\")[0])\n",
        "    for f in glob.glob(predict_path+\"/*\"):\n",
        "      os.remove(f)\n",
        "else:\n",
        "    if not os.path.exists(PREDICT_DIR): \n",
        "      os.mkdir(PREDICT_DIR)\n",
        "    predict_path = os.path.join(PREDICT_DIR, predict_name.split(\".\")[0])\n",
        "\n",
        "if not os.path.exists(predict_path): \n",
        "    os.mkdir(predict_path)\n",
        "\n",
        "# LOAD MODEL\n",
        "fs_model = torch.load(fs_model_path)\n",
        "#Remember that you must call model.eval() to set dropout and batch normalization layers to evaluation mode before running inference. \n",
        "#Failing to do this will yield inconsistent inference results.\n",
        "fs_model.eval()\n",
        "\n",
        "line_model = torch.load(line_model_path)\n",
        "line_model.eval()\n",
        "\n",
        "if cuda:\n",
        "    fs_model = fs_model.cuda()\n",
        "    line_model = line_model.cuda()\n",
        "\n",
        "\n",
        "\n",
        "# PREDICT\n",
        "def predict(fs_model, line_model, images):\n",
        "\n",
        "    global x_meta\n",
        "    for image in tqdm_notebook(images):\n",
        "        img = cv2.imread(image)\n",
        "        batch_test = tensorize_image([image], input_shape, cuda)\n",
        "\n",
        "        Detection(image)\n",
        "        img = cv2.imread(\"predictions.jpg\")\n",
        "\n",
        "        positions = crop_sign()\n",
        "\n",
        "        if not len(positions) == 0:\n",
        "          class_pred()\n",
        "        \n",
        "        fs_output = fs_model(batch_test)\n",
        "        line_output = line_model(batch_test)\n",
        "        fs_out = torch.argmax(fs_output, axis=1)\n",
        "        line_out = torch.argmax(line_output, axis=1)\n",
        "\n",
        "        \n",
        "        fs_out_cpu = fs_out.cpu()\n",
        "        line_out_cpu = line_out.cpu()\n",
        "        \n",
        "        fs_outputs_list  = fs_out_cpu.detach().numpy()\n",
        "        line_outputs_list  = line_out_cpu.detach().numpy()\n",
        "        \n",
        "        fs_mask = np.squeeze(fs_outputs_list, axis=0)\n",
        "        line_mask = np.squeeze(line_outputs_list, axis=0)\n",
        "       \n",
        "        fs_mask_uint8 = fs_mask.astype('uint8')\n",
        "        line_mask_uint8 = line_mask.astype('uint8')\n",
        "        \n",
        "        fs_mask_resize = cv2.resize(fs_mask_uint8, ((img.shape[1]), (img.shape[0])), interpolation = cv2.INTER_CUBIC)\n",
        "        fs_line_resize = cv2.resize(line_mask_uint8, ((img.shape[1]), (img.shape[0])), interpolation = cv2.INTER_NEAREST)\n",
        "        \n",
        "        \n",
        "        #img_resize = cv2.resize(img, input_shape)\n",
        "        mask_ind = fs_mask_resize == 1\n",
        "        mask_ind = fs_line_resize == 1\n",
        "        #copy_img = img_resize.copy()\n",
        "        copy_img = img.copy()\n",
        "        \n",
        "        img[fs_mask_resize==1, :] = (255, 0, 125)\n",
        "        img[fs_line_resize==1, :] = (0, 0, 255)\n",
        "        img[fs_line_resize==2, :] = (38, 255, 255)\n",
        "        \n",
        "        opac_image = (img/2 + copy_img/2).astype(np.uint8)\n",
        "\n",
        "        if not len(positions) == 0:\n",
        "          for i, pos in enumerate(positions):\n",
        "            x_meta=cv2.imread('/content/data/meta_image/'+str(i)+'.jpg', cv2.IMREAD_UNCHANGED)\n",
        "            \n",
        "            x_len = int(pos[2]-pos[0])\n",
        "            y_len = int(pos[3]-pos[1])\n",
        "\n",
        "            \n",
        "            res_perc = int(min(x_len, y_len)*70/100)\n",
        "\n",
        "            if res_perc >= 40:\n",
        "              res_perc = 40\n",
        "\n",
        "            x_meta = cv2.resize(x_meta, (res_perc, res_perc))\n",
        "            \n",
        "            \n",
        "            #x = pos[2] - res_perc\n",
        "            #y = pos[3] - res_perc\n",
        "            x = pos[0]+2\n",
        "            y = pos[1]+2\n",
        "\n",
        "            '''\n",
        "            y1, y2 = y, y + x_meta.shape[0]\n",
        "            x1, x2 = x, x + x_meta.shape[1]\n",
        "\n",
        "            alpha_s = x_meta[:, :, 3] / 255.0\n",
        "            alpha_l = 1.0 - alpha_s\n",
        "\n",
        "            for c in range(0, 3):\n",
        "                opac_image[y1:y2, x1:x2, c] = (alpha_s * x_meta[:, :, c] +\n",
        "                                          alpha_l * opac_image[y1:y2, x1:x2, c]) \n",
        "            '''\n",
        "\n",
        "            opac_image[y:y+x_meta.shape[0],x:x+x_meta.shape[1]] = x_meta\n",
        "\n",
        "        cv2.imwrite(os.path.join(predict_path, image.split(\"/\")[-1]), opac_image)\n",
        "        #print(\"mask size from model: \", mask.shape),\n",
        "        #print(\"resized mask size: \", mask_resize.shape)\n",
        "\n",
        "if __name__ == \"__main__\":\n",
        "    predict(fs_model, line_model, test_input_path_list)"
      ],
      "execution_count": 41,
      "outputs": [
        {
          "output_type": "stream",
          "name": "stderr",
          "text": [
            "/usr/local/lib/python3.7/dist-packages/ipykernel_launcher.py:62: TqdmDeprecationWarning: This function will be removed in tqdm==5.0.0\n",
            "Please use `tqdm.notebook.tqdm` instead of `tqdm.tqdm_notebook`\n"
          ]
        },
        {
          "output_type": "display_data",
          "data": {
            "application/vnd.jupyter.widget-view+json": {
              "model_id": "1665ed9afaf449798541edcdcbfa33af",
              "version_minor": 0,
              "version_major": 2
            },
            "text/plain": [
              "  0%|          | 0/519 [00:00<?, ?it/s]"
            ]
          },
          "metadata": {}
        }
      ]
    },
    {
      "cell_type": "code",
      "metadata": {
        "colab": {
          "base_uri": "https://localhost:8080/"
        },
        "id": "zoqoU4A4rUqb",
        "outputId": "c4c68ca4-017b-4664-ee69-3ba415946896"
      },
      "source": [
        "x_meta.shape"
      ],
      "execution_count": null,
      "outputs": [
        {
          "output_type": "execute_result",
          "data": {
            "text/plain": [
              "(15, 15, 3)"
            ]
          },
          "metadata": {},
          "execution_count": 54
        }
      ]
    },
    {
      "cell_type": "code",
      "metadata": {
        "id": "fEjni9eQtDRe"
      },
      "source": [
        "            x_len = int(pos[2]-pos[0])\n",
        "            y_len = int(pos[3]-pos[1])\n",
        "\n",
        "            if x_len<31 or y_len<31:\n",
        "              res = min(x_len, y_len)\n",
        "              x_meta = cv2.resize(x_meta, (res-5, res-5))\n",
        "            else:\n",
        "              x_meta = cv2.resize(x_meta, (30, 30))\n",
        "              "
      ],
      "execution_count": null,
      "outputs": []
    },
    {
      "cell_type": "markdown",
      "metadata": {
        "id": "aMsAod7tjU0j"
      },
      "source": [
        "### File Operations"
      ]
    },
    {
      "cell_type": "code",
      "metadata": {
        "id": "H0u4dKP6Vqhv"
      },
      "source": [
        "!cp /content/data/testx/569234_cfc_005061.jpg /content/data/test/\n",
        "#!cp /content/data/test_pred/4060_cfc_004060.jpg /content/data/test/"
      ],
      "execution_count": null,
      "outputs": []
    },
    {
      "cell_type": "code",
      "metadata": {
        "id": "0ycsBTiNfJhB"
      },
      "source": [
        "!cp -r /content/drive/MyDrive/Studies/Intern/For_Colab /content/Intern\n",
        "!cp -r /content/drive/MyDrive/Studies/Intern/Meta /content/Intern\n",
        "!cp -r /content/drive/MyDrive/Studies/Intern/models /content/Intern\n",
        "!cp -r /content/drive/MyDrive/Studies/Intern/yolov4 /content/Intern"
      ],
      "execution_count": null,
      "outputs": []
    },
    {
      "cell_type": "code",
      "metadata": {
        "colab": {
          "base_uri": "https://localhost:8080/"
        },
        "id": "ZOat-JNthThY",
        "outputId": "573ff9e9-257a-49bd-83f5-4934a2c473a6"
      },
      "source": [
        "!zip -r /content/test_wclass_sh.zip /content/data/test_predicts/test_wclass_sh/"
      ],
      "execution_count": 42,
      "outputs": [
        {
          "output_type": "stream",
          "name": "stdout",
          "text": [
            "  adding: content/data/test_predicts/test_wclass_sh/ (stored 0%)\n",
            "  adding: content/data/test_predicts/test_wclass_sh/448.jpg (deflated 3%)\n",
            "  adding: content/data/test_predicts/test_wclass_sh/406.jpg (deflated 3%)\n",
            "  adding: content/data/test_predicts/test_wclass_sh/249.jpg (deflated 3%)\n",
            "  adding: content/data/test_predicts/test_wclass_sh/443.jpg (deflated 3%)\n",
            "  adding: content/data/test_predicts/test_wclass_sh/240.jpg (deflated 4%)\n",
            "  adding: content/data/test_predicts/test_wclass_sh/248.jpg (deflated 3%)\n",
            "  adding: content/data/test_predicts/test_wclass_sh/51.jpg (deflated 3%)\n",
            "  adding: content/data/test_predicts/test_wclass_sh/194.jpg (deflated 3%)\n",
            "  adding: content/data/test_predicts/test_wclass_sh/312.jpg (deflated 4%)\n",
            "  adding: content/data/test_predicts/test_wclass_sh/22.jpg (deflated 3%)\n",
            "  adding: content/data/test_predicts/test_wclass_sh/338.jpg (deflated 3%)\n",
            "  adding: content/data/test_predicts/test_wclass_sh/144.jpg (deflated 4%)\n",
            "  adding: content/data/test_predicts/test_wclass_sh/457.jpg (deflated 3%)\n",
            "  adding: content/data/test_predicts/test_wclass_sh/489.jpg (deflated 3%)\n",
            "  adding: content/data/test_predicts/test_wclass_sh/267.jpg (deflated 3%)\n",
            "  adding: content/data/test_predicts/test_wclass_sh/305.jpg (deflated 3%)\n",
            "  adding: content/data/test_predicts/test_wclass_sh/281.jpg (deflated 3%)\n",
            "  adding: content/data/test_predicts/test_wclass_sh/214.jpg (deflated 3%)\n",
            "  adding: content/data/test_predicts/test_wclass_sh/313.jpg (deflated 4%)\n",
            "  adding: content/data/test_predicts/test_wclass_sh/175.jpg (deflated 3%)\n",
            "  adding: content/data/test_predicts/test_wclass_sh/241.jpg (deflated 4%)\n",
            "  adding: content/data/test_predicts/test_wclass_sh/352.jpg (deflated 3%)\n",
            "  adding: content/data/test_predicts/test_wclass_sh/197.jpg (deflated 3%)\n",
            "  adding: content/data/test_predicts/test_wclass_sh/159.jpg (deflated 3%)\n",
            "  adding: content/data/test_predicts/test_wclass_sh/355.jpg (deflated 3%)\n",
            "  adding: content/data/test_predicts/test_wclass_sh/460.jpg (deflated 3%)\n",
            "  adding: content/data/test_predicts/test_wclass_sh/257.jpg (deflated 3%)\n",
            "  adding: content/data/test_predicts/test_wclass_sh/158.jpg (deflated 3%)\n",
            "  adding: content/data/test_predicts/test_wclass_sh/311.jpg (deflated 3%)\n",
            "  adding: content/data/test_predicts/test_wclass_sh/232.jpg (deflated 3%)\n",
            "  adding: content/data/test_predicts/test_wclass_sh/42.jpg (deflated 3%)\n",
            "  adding: content/data/test_predicts/test_wclass_sh/494.jpg (deflated 3%)\n",
            "  adding: content/data/test_predicts/test_wclass_sh/438.jpg (deflated 3%)\n",
            "  adding: content/data/test_predicts/test_wclass_sh/375.jpg (deflated 3%)\n",
            "  adding: content/data/test_predicts/test_wclass_sh/302.jpg (deflated 3%)\n",
            "  adding: content/data/test_predicts/test_wclass_sh/79.jpg (deflated 3%)\n",
            "  adding: content/data/test_predicts/test_wclass_sh/23.jpg (deflated 3%)\n",
            "  adding: content/data/test_predicts/test_wclass_sh/204.jpg (deflated 3%)\n",
            "  adding: content/data/test_predicts/test_wclass_sh/11.jpg (deflated 3%)\n",
            "  adding: content/data/test_predicts/test_wclass_sh/515.jpg (deflated 3%)\n",
            "  adding: content/data/test_predicts/test_wclass_sh/188.jpg (deflated 3%)\n",
            "  adding: content/data/test_predicts/test_wclass_sh/156.jpg (deflated 3%)\n",
            "  adding: content/data/test_predicts/test_wclass_sh/131.jpg (deflated 4%)\n",
            "  adding: content/data/test_predicts/test_wclass_sh/210.jpg (deflated 3%)\n",
            "  adding: content/data/test_predicts/test_wclass_sh/404.jpg (deflated 3%)\n",
            "  adding: content/data/test_predicts/test_wclass_sh/48.jpg (deflated 3%)\n",
            "  adding: content/data/test_predicts/test_wclass_sh/250.jpg (deflated 3%)\n",
            "  adding: content/data/test_predicts/test_wclass_sh/256.jpg (deflated 3%)\n",
            "  adding: content/data/test_predicts/test_wclass_sh/342.jpg (deflated 3%)\n",
            "  adding: content/data/test_predicts/test_wclass_sh/165.jpg (deflated 3%)\n",
            "  adding: content/data/test_predicts/test_wclass_sh/391.jpg (deflated 3%)\n",
            "  adding: content/data/test_predicts/test_wclass_sh/288.jpg (deflated 3%)\n",
            "  adding: content/data/test_predicts/test_wclass_sh/66.jpg (deflated 3%)\n",
            "  adding: content/data/test_predicts/test_wclass_sh/258.jpg (deflated 3%)\n",
            "  adding: content/data/test_predicts/test_wclass_sh/446.jpg (deflated 3%)\n",
            "  adding: content/data/test_predicts/test_wclass_sh/18.jpg (deflated 3%)\n",
            "  adding: content/data/test_predicts/test_wclass_sh/152.jpg (deflated 3%)\n",
            "  adding: content/data/test_predicts/test_wclass_sh/10.jpg (deflated 3%)\n",
            "  adding: content/data/test_predicts/test_wclass_sh/459.jpg (deflated 3%)\n",
            "  adding: content/data/test_predicts/test_wclass_sh/357.jpg (deflated 3%)\n",
            "  adding: content/data/test_predicts/test_wclass_sh/80.jpg (deflated 3%)\n",
            "  adding: content/data/test_predicts/test_wclass_sh/394.jpg (deflated 3%)\n",
            "  adding: content/data/test_predicts/test_wclass_sh/97.jpg (deflated 3%)\n",
            "  adding: content/data/test_predicts/test_wclass_sh/306.jpg (deflated 3%)\n",
            "  adding: content/data/test_predicts/test_wclass_sh/192.jpg (deflated 3%)\n",
            "  adding: content/data/test_predicts/test_wclass_sh/485.jpg (deflated 3%)\n",
            "  adding: content/data/test_predicts/test_wclass_sh/73.jpg (deflated 3%)\n",
            "  adding: content/data/test_predicts/test_wclass_sh/321.jpg (deflated 4%)\n",
            "  adding: content/data/test_predicts/test_wclass_sh/298.jpg (deflated 3%)\n",
            "  adding: content/data/test_predicts/test_wclass_sh/59.jpg (deflated 3%)\n",
            "  adding: content/data/test_predicts/test_wclass_sh/146.jpg (deflated 3%)\n",
            "  adding: content/data/test_predicts/test_wclass_sh/245.jpg (deflated 3%)\n",
            "  adding: content/data/test_predicts/test_wclass_sh/202.jpg (deflated 3%)\n",
            "  adding: content/data/test_predicts/test_wclass_sh/116.jpg (deflated 3%)\n",
            "  adding: content/data/test_predicts/test_wclass_sh/395.jpg (deflated 3%)\n",
            "  adding: content/data/test_predicts/test_wclass_sh/93.jpg (deflated 3%)\n",
            "  adding: content/data/test_predicts/test_wclass_sh/104.jpg (deflated 3%)\n",
            "  adding: content/data/test_predicts/test_wclass_sh/178.jpg (deflated 3%)\n",
            "  adding: content/data/test_predicts/test_wclass_sh/50.jpg (deflated 3%)\n",
            "  adding: content/data/test_predicts/test_wclass_sh/453.jpg (deflated 3%)\n",
            "  adding: content/data/test_predicts/test_wclass_sh/425.jpg (deflated 3%)\n",
            "  adding: content/data/test_predicts/test_wclass_sh/161.jpg (deflated 3%)\n",
            "  adding: content/data/test_predicts/test_wclass_sh/38.jpg (deflated 3%)\n",
            "  adding: content/data/test_predicts/test_wclass_sh/140.jpg (deflated 3%)\n",
            "  adding: content/data/test_predicts/test_wclass_sh/419.jpg (deflated 3%)\n",
            "  adding: content/data/test_predicts/test_wclass_sh/381.jpg (deflated 3%)\n",
            "  adding: content/data/test_predicts/test_wclass_sh/96.jpg (deflated 3%)\n",
            "  adding: content/data/test_predicts/test_wclass_sh/380.jpg (deflated 3%)\n",
            "  adding: content/data/test_predicts/test_wclass_sh/154.jpg (deflated 3%)\n",
            "  adding: content/data/test_predicts/test_wclass_sh/365.jpg (deflated 3%)\n",
            "  adding: content/data/test_predicts/test_wclass_sh/226.jpg (deflated 3%)\n",
            "  adding: content/data/test_predicts/test_wclass_sh/121.jpg (deflated 3%)\n",
            "  adding: content/data/test_predicts/test_wclass_sh/442.jpg (deflated 3%)\n",
            "  adding: content/data/test_predicts/test_wclass_sh/237.jpg (deflated 3%)\n",
            "  adding: content/data/test_predicts/test_wclass_sh/16.jpg (deflated 3%)\n",
            "  adding: content/data/test_predicts/test_wclass_sh/246.jpg (deflated 3%)\n",
            "  adding: content/data/test_predicts/test_wclass_sh/105.jpg (deflated 3%)\n",
            "  adding: content/data/test_predicts/test_wclass_sh/363.jpg (deflated 3%)\n",
            "  adding: content/data/test_predicts/test_wclass_sh/136.jpg (deflated 3%)\n",
            "  adding: content/data/test_predicts/test_wclass_sh/53.jpg (deflated 3%)\n",
            "  adding: content/data/test_predicts/test_wclass_sh/56.jpg (deflated 3%)\n",
            "  adding: content/data/test_predicts/test_wclass_sh/147.jpg (deflated 3%)\n",
            "  adding: content/data/test_predicts/test_wclass_sh/461.jpg (deflated 3%)\n",
            "  adding: content/data/test_predicts/test_wclass_sh/29.jpg (deflated 3%)\n",
            "  adding: content/data/test_predicts/test_wclass_sh/155.jpg (deflated 3%)\n",
            "  adding: content/data/test_predicts/test_wclass_sh/450.jpg (deflated 3%)\n",
            "  adding: content/data/test_predicts/test_wclass_sh/33.jpg (deflated 3%)\n",
            "  adding: content/data/test_predicts/test_wclass_sh/514.jpg (deflated 3%)\n",
            "  adding: content/data/test_predicts/test_wclass_sh/361.jpg (deflated 3%)\n",
            "  adding: content/data/test_predicts/test_wclass_sh/223.jpg (deflated 3%)\n",
            "  adding: content/data/test_predicts/test_wclass_sh/168.jpg (deflated 3%)\n",
            "  adding: content/data/test_predicts/test_wclass_sh/474.jpg (deflated 3%)\n",
            "  adding: content/data/test_predicts/test_wclass_sh/217.jpg (deflated 3%)\n",
            "  adding: content/data/test_predicts/test_wclass_sh/467.jpg (deflated 3%)\n",
            "  adding: content/data/test_predicts/test_wclass_sh/21.jpg (deflated 3%)\n",
            "  adding: content/data/test_predicts/test_wclass_sh/118.jpg (deflated 3%)\n",
            "  adding: content/data/test_predicts/test_wclass_sh/34.jpg (deflated 3%)\n",
            "  adding: content/data/test_predicts/test_wclass_sh/86.jpg (deflated 3%)\n",
            "  adding: content/data/test_predicts/test_wclass_sh/472.jpg (deflated 3%)\n",
            "  adding: content/data/test_predicts/test_wclass_sh/479.jpg (deflated 3%)\n",
            "  adding: content/data/test_predicts/test_wclass_sh/216.jpg (deflated 3%)\n",
            "  adding: content/data/test_predicts/test_wclass_sh/392.jpg (deflated 3%)\n",
            "  adding: content/data/test_predicts/test_wclass_sh/24.jpg (deflated 3%)\n",
            "  adding: content/data/test_predicts/test_wclass_sh/35.jpg (deflated 3%)\n",
            "  adding: content/data/test_predicts/test_wclass_sh/401.jpg (deflated 3%)\n",
            "  adding: content/data/test_predicts/test_wclass_sh/373.jpg (deflated 3%)\n",
            "  adding: content/data/test_predicts/test_wclass_sh/324.jpg (deflated 4%)\n",
            "  adding: content/data/test_predicts/test_wclass_sh/119.jpg (deflated 3%)\n",
            "  adding: content/data/test_predicts/test_wclass_sh/221.jpg (deflated 3%)\n",
            "  adding: content/data/test_predicts/test_wclass_sh/414.jpg (deflated 3%)\n",
            "  adding: content/data/test_predicts/test_wclass_sh/399.jpg (deflated 3%)\n",
            "  adding: content/data/test_predicts/test_wclass_sh/454.jpg (deflated 3%)\n",
            "  adding: content/data/test_predicts/test_wclass_sh/133.jpg (deflated 3%)\n",
            "  adding: content/data/test_predicts/test_wclass_sh/63.jpg (deflated 3%)\n",
            "  adding: content/data/test_predicts/test_wclass_sh/475.jpg (deflated 3%)\n",
            "  adding: content/data/test_predicts/test_wclass_sh/128.jpg (deflated 3%)\n",
            "  adding: content/data/test_predicts/test_wclass_sh/272.jpg (deflated 3%)\n",
            "  adding: content/data/test_predicts/test_wclass_sh/74.jpg (deflated 3%)\n",
            "  adding: content/data/test_predicts/test_wclass_sh/439.jpg (deflated 3%)\n",
            "  adding: content/data/test_predicts/test_wclass_sh/445.jpg (deflated 3%)\n",
            "  adding: content/data/test_predicts/test_wclass_sh/499.jpg (deflated 3%)\n",
            "  adding: content/data/test_predicts/test_wclass_sh/424.jpg (deflated 3%)\n",
            "  adding: content/data/test_predicts/test_wclass_sh/387.jpg (deflated 3%)\n",
            "  adding: content/data/test_predicts/test_wclass_sh/149.jpg (deflated 3%)\n",
            "  adding: content/data/test_predicts/test_wclass_sh/426.jpg (deflated 3%)\n",
            "  adding: content/data/test_predicts/test_wclass_sh/497.jpg (deflated 3%)\n",
            "  adding: content/data/test_predicts/test_wclass_sh/495.jpg (deflated 3%)\n",
            "  adding: content/data/test_predicts/test_wclass_sh/455.jpg (deflated 3%)\n",
            "  adding: content/data/test_predicts/test_wclass_sh/271.jpg (deflated 3%)\n",
            "  adding: content/data/test_predicts/test_wclass_sh/176.jpg (deflated 3%)\n",
            "  adding: content/data/test_predicts/test_wclass_sh/167.jpg (deflated 3%)\n",
            "  adding: content/data/test_predicts/test_wclass_sh/436.jpg (deflated 3%)\n",
            "  adding: content/data/test_predicts/test_wclass_sh/349.jpg (deflated 3%)\n",
            "  adding: content/data/test_predicts/test_wclass_sh/36.jpg (deflated 3%)\n",
            "  adding: content/data/test_predicts/test_wclass_sh/428.jpg (deflated 3%)\n",
            "  adding: content/data/test_predicts/test_wclass_sh/120.jpg (deflated 3%)\n",
            "  adding: content/data/test_predicts/test_wclass_sh/106.jpg (deflated 3%)\n",
            "  adding: content/data/test_predicts/test_wclass_sh/337.jpg (deflated 3%)\n",
            "  adding: content/data/test_predicts/test_wclass_sh/225.jpg (deflated 3%)\n",
            "  adding: content/data/test_predicts/test_wclass_sh/332.jpg (deflated 4%)\n",
            "  adding: content/data/test_predicts/test_wclass_sh/444.jpg (deflated 3%)\n",
            "  adding: content/data/test_predicts/test_wclass_sh/20.jpg (deflated 3%)\n",
            "  adding: content/data/test_predicts/test_wclass_sh/379.jpg (deflated 3%)\n",
            "  adding: content/data/test_predicts/test_wclass_sh/507.jpg (deflated 3%)\n",
            "  adding: content/data/test_predicts/test_wclass_sh/228.jpg (deflated 3%)\n",
            "  adding: content/data/test_predicts/test_wclass_sh/282.jpg (deflated 3%)\n",
            "  adding: content/data/test_predicts/test_wclass_sh/218.jpg (deflated 3%)\n",
            "  adding: content/data/test_predicts/test_wclass_sh/134.jpg (deflated 3%)\n",
            "  adding: content/data/test_predicts/test_wclass_sh/191.jpg (deflated 3%)\n",
            "  adding: content/data/test_predicts/test_wclass_sh/315.jpg (deflated 4%)\n",
            "  adding: content/data/test_predicts/test_wclass_sh/82.jpg (deflated 3%)\n",
            "  adding: content/data/test_predicts/test_wclass_sh/62.jpg (deflated 3%)\n",
            "  adding: content/data/test_predicts/test_wclass_sh/477.jpg (deflated 3%)\n",
            "  adding: content/data/test_predicts/test_wclass_sh/64.jpg (deflated 3%)\n",
            "  adding: content/data/test_predicts/test_wclass_sh/506.jpg (deflated 3%)\n",
            "  adding: content/data/test_predicts/test_wclass_sh/26.jpg (deflated 3%)\n",
            "  adding: content/data/test_predicts/test_wclass_sh/163.jpg (deflated 3%)\n",
            "  adding: content/data/test_predicts/test_wclass_sh/440.jpg (deflated 3%)\n",
            "  adding: content/data/test_predicts/test_wclass_sh/183.jpg (deflated 3%)\n",
            "  adding: content/data/test_predicts/test_wclass_sh/27.jpg (deflated 3%)\n",
            "  adding: content/data/test_predicts/test_wclass_sh/429.jpg (deflated 3%)\n",
            "  adding: content/data/test_predicts/test_wclass_sh/314.jpg (deflated 4%)\n",
            "  adding: content/data/test_predicts/test_wclass_sh/173.jpg (deflated 3%)\n",
            "  adding: content/data/test_predicts/test_wclass_sh/259.jpg (deflated 3%)\n",
            "  adding: content/data/test_predicts/test_wclass_sh/117.jpg (deflated 3%)\n",
            "  adding: content/data/test_predicts/test_wclass_sh/46.jpg (deflated 3%)\n",
            "  adding: content/data/test_predicts/test_wclass_sh/108.jpg (deflated 3%)\n",
            "  adding: content/data/test_predicts/test_wclass_sh/174.jpg (deflated 3%)\n",
            "  adding: content/data/test_predicts/test_wclass_sh/44.jpg (deflated 3%)\n",
            "  adding: content/data/test_predicts/test_wclass_sh/135.jpg (deflated 4%)\n",
            "  adding: content/data/test_predicts/test_wclass_sh/83.jpg (deflated 3%)\n",
            "  adding: content/data/test_predicts/test_wclass_sh/31.jpg (deflated 3%)\n",
            "  adding: content/data/test_predicts/test_wclass_sh/235.jpg (deflated 3%)\n",
            "  adding: content/data/test_predicts/test_wclass_sh/367.jpg (deflated 3%)\n",
            "  adding: content/data/test_predicts/test_wclass_sh/430.jpg (deflated 3%)\n",
            "  adding: content/data/test_predicts/test_wclass_sh/289.jpg (deflated 3%)\n",
            "  adding: content/data/test_predicts/test_wclass_sh/78.jpg (deflated 3%)\n",
            "  adding: content/data/test_predicts/test_wclass_sh/398.jpg (deflated 3%)\n",
            "  adding: content/data/test_predicts/test_wclass_sh/458.jpg (deflated 3%)\n",
            "  adding: content/data/test_predicts/test_wclass_sh/162.jpg (deflated 3%)\n",
            "  adding: content/data/test_predicts/test_wclass_sh/496.jpg (deflated 3%)\n",
            "  adding: content/data/test_predicts/test_wclass_sh/354.jpg (deflated 3%)\n",
            "  adding: content/data/test_predicts/test_wclass_sh/196.jpg (deflated 3%)\n",
            "  adding: content/data/test_predicts/test_wclass_sh/377.jpg (deflated 3%)\n",
            "  adding: content/data/test_predicts/test_wclass_sh/242.jpg (deflated 3%)\n",
            "  adding: content/data/test_predicts/test_wclass_sh/47.jpg (deflated 3%)\n",
            "  adding: content/data/test_predicts/test_wclass_sh/170.jpg (deflated 3%)\n",
            "  adding: content/data/test_predicts/test_wclass_sh/89.jpg (deflated 3%)\n",
            "  adding: content/data/test_predicts/test_wclass_sh/504.jpg (deflated 3%)\n",
            "  adding: content/data/test_predicts/test_wclass_sh/432.jpg (deflated 3%)\n",
            "  adding: content/data/test_predicts/test_wclass_sh/516.jpg (deflated 3%)\n",
            "  adding: content/data/test_predicts/test_wclass_sh/61.jpg (deflated 3%)\n",
            "  adding: content/data/test_predicts/test_wclass_sh/378.jpg (deflated 3%)\n",
            "  adding: content/data/test_predicts/test_wclass_sh/431.jpg (deflated 3%)\n",
            "  adding: content/data/test_predicts/test_wclass_sh/326.jpg (deflated 4%)\n",
            "  adding: content/data/test_predicts/test_wclass_sh/283.jpg (deflated 3%)\n",
            "  adding: content/data/test_predicts/test_wclass_sh/94.jpg (deflated 3%)\n",
            "  adding: content/data/test_predicts/test_wclass_sh/122.jpg (deflated 3%)\n",
            "  adding: content/data/test_predicts/test_wclass_sh/280.jpg (deflated 3%)\n",
            "  adding: content/data/test_predicts/test_wclass_sh/346.jpg (deflated 3%)\n",
            "  adding: content/data/test_predicts/test_wclass_sh/224.jpg (deflated 3%)\n",
            "  adding: content/data/test_predicts/test_wclass_sh/385.jpg (deflated 3%)\n",
            "  adding: content/data/test_predicts/test_wclass_sh/319.jpg (deflated 4%)\n",
            "  adding: content/data/test_predicts/test_wclass_sh/482.jpg (deflated 3%)\n",
            "  adding: content/data/test_predicts/test_wclass_sh/369.jpg (deflated 3%)\n",
            "  adding: content/data/test_predicts/test_wclass_sh/198.jpg (deflated 3%)\n",
            "  adding: content/data/test_predicts/test_wclass_sh/278.jpg (deflated 3%)\n",
            "  adding: content/data/test_predicts/test_wclass_sh/331.jpg (deflated 3%)\n",
            "  adding: content/data/test_predicts/test_wclass_sh/284.jpg (deflated 3%)\n",
            "  adding: content/data/test_predicts/test_wclass_sh/49.jpg (deflated 3%)\n",
            "  adding: content/data/test_predicts/test_wclass_sh/510.jpg (deflated 3%)\n",
            "  adding: content/data/test_predicts/test_wclass_sh/270.jpg (deflated 3%)\n",
            "  adding: content/data/test_predicts/test_wclass_sh/415.jpg (deflated 3%)\n",
            "  adding: content/data/test_predicts/test_wclass_sh/30.jpg (deflated 3%)\n",
            "  adding: content/data/test_predicts/test_wclass_sh/262.jpg (deflated 3%)\n",
            "  adding: content/data/test_predicts/test_wclass_sh/6.jpg (deflated 3%)\n",
            "  adding: content/data/test_predicts/test_wclass_sh/309.jpg (deflated 3%)\n",
            "  adding: content/data/test_predicts/test_wclass_sh/127.jpg (deflated 3%)\n",
            "  adding: content/data/test_predicts/test_wclass_sh/142.jpg (deflated 4%)\n",
            "  adding: content/data/test_predicts/test_wclass_sh/265.jpg (deflated 3%)\n",
            "  adding: content/data/test_predicts/test_wclass_sh/28.jpg (deflated 3%)\n",
            "  adding: content/data/test_predicts/test_wclass_sh/234.jpg (deflated 3%)\n",
            "  adding: content/data/test_predicts/test_wclass_sh/184.jpg (deflated 3%)\n",
            "  adding: content/data/test_predicts/test_wclass_sh/353.jpg (deflated 3%)\n",
            "  adding: content/data/test_predicts/test_wclass_sh/329.jpg (deflated 3%)\n",
            "  adding: content/data/test_predicts/test_wclass_sh/186.jpg (deflated 3%)\n",
            "  adding: content/data/test_predicts/test_wclass_sh/368.jpg (deflated 3%)\n",
            "  adding: content/data/test_predicts/test_wclass_sh/247.jpg (deflated 3%)\n",
            "  adding: content/data/test_predicts/test_wclass_sh/107.jpg (deflated 3%)\n",
            "  adding: content/data/test_predicts/test_wclass_sh/43.jpg (deflated 3%)\n",
            "  adding: content/data/test_predicts/test_wclass_sh/102.jpg (deflated 3%)\n",
            "  adding: content/data/test_predicts/test_wclass_sh/322.jpg (deflated 4%)\n",
            "  adding: content/data/test_predicts/test_wclass_sh/181.jpg (deflated 3%)\n",
            "  adding: content/data/test_predicts/test_wclass_sh/52.jpg (deflated 3%)\n",
            "  adding: content/data/test_predicts/test_wclass_sh/110.jpg (deflated 3%)\n",
            "  adding: content/data/test_predicts/test_wclass_sh/464.jpg (deflated 3%)\n",
            "  adding: content/data/test_predicts/test_wclass_sh/91.jpg (deflated 3%)\n",
            "  adding: content/data/test_predicts/test_wclass_sh/343.jpg (deflated 3%)\n",
            "  adding: content/data/test_predicts/test_wclass_sh/54.jpg (deflated 3%)\n",
            "  adding: content/data/test_predicts/test_wclass_sh/491.jpg (deflated 3%)\n",
            "  adding: content/data/test_predicts/test_wclass_sh/466.jpg (deflated 3%)\n",
            "  adding: content/data/test_predicts/test_wclass_sh/359.jpg (deflated 3%)\n",
            "  adding: content/data/test_predicts/test_wclass_sh/81.jpg (deflated 3%)\n",
            "  adding: content/data/test_predicts/test_wclass_sh/275.jpg (deflated 3%)\n",
            "  adding: content/data/test_predicts/test_wclass_sh/422.jpg (deflated 3%)\n",
            "  adding: content/data/test_predicts/test_wclass_sh/462.jpg (deflated 3%)\n",
            "  adding: content/data/test_predicts/test_wclass_sh/480.jpg (deflated 3%)\n",
            "  adding: content/data/test_predicts/test_wclass_sh/435.jpg (deflated 3%)\n",
            "  adding: content/data/test_predicts/test_wclass_sh/45.jpg (deflated 3%)\n",
            "  adding: content/data/test_predicts/test_wclass_sh/88.jpg (deflated 3%)\n",
            "  adding: content/data/test_predicts/test_wclass_sh/208.jpg (deflated 3%)\n",
            "  adding: content/data/test_predicts/test_wclass_sh/205.jpg (deflated 3%)\n",
            "  adding: content/data/test_predicts/test_wclass_sh/501.jpg (deflated 3%)\n",
            "  adding: content/data/test_predicts/test_wclass_sh/339.jpg (deflated 3%)\n",
            "  adding: content/data/test_predicts/test_wclass_sh/58.jpg (deflated 3%)\n",
            "  adding: content/data/test_predicts/test_wclass_sh/511.jpg (deflated 3%)\n",
            "  adding: content/data/test_predicts/test_wclass_sh/386.jpg (deflated 3%)\n",
            "  adding: content/data/test_predicts/test_wclass_sh/473.jpg (deflated 3%)\n",
            "  adding: content/data/test_predicts/test_wclass_sh/276.jpg (deflated 3%)\n",
            "  adding: content/data/test_predicts/test_wclass_sh/177.jpg (deflated 3%)\n",
            "  adding: content/data/test_predicts/test_wclass_sh/316.jpg (deflated 4%)\n",
            "  adding: content/data/test_predicts/test_wclass_sh/341.jpg (deflated 3%)\n",
            "  adding: content/data/test_predicts/test_wclass_sh/145.jpg (deflated 3%)\n",
            "  adding: content/data/test_predicts/test_wclass_sh/362.jpg (deflated 3%)\n",
            "  adding: content/data/test_predicts/test_wclass_sh/294.jpg (deflated 3%)\n",
            "  adding: content/data/test_predicts/test_wclass_sh/364.jpg (deflated 3%)\n",
            "  adding: content/data/test_predicts/test_wclass_sh/441.jpg (deflated 3%)\n",
            "  adding: content/data/test_predicts/test_wclass_sh/403.jpg (deflated 3%)\n",
            "  adding: content/data/test_predicts/test_wclass_sh/206.jpg (deflated 3%)\n",
            "  adding: content/data/test_predicts/test_wclass_sh/382.jpg (deflated 3%)\n",
            "  adding: content/data/test_predicts/test_wclass_sh/17.jpg (deflated 3%)\n",
            "  adding: content/data/test_predicts/test_wclass_sh/421.jpg (deflated 3%)\n",
            "  adding: content/data/test_predicts/test_wclass_sh/236.jpg (deflated 3%)\n",
            "  adding: content/data/test_predicts/test_wclass_sh/185.jpg (deflated 3%)\n",
            "  adding: content/data/test_predicts/test_wclass_sh/229.jpg (deflated 3%)\n",
            "  adding: content/data/test_predicts/test_wclass_sh/15.jpg (deflated 3%)\n",
            "  adding: content/data/test_predicts/test_wclass_sh/169.jpg (deflated 3%)\n",
            "  adding: content/data/test_predicts/test_wclass_sh/325.jpg (deflated 4%)\n",
            "  adding: content/data/test_predicts/test_wclass_sh/413.jpg (deflated 3%)\n",
            "  adding: content/data/test_predicts/test_wclass_sh/243.jpg (deflated 3%)\n",
            "  adding: content/data/test_predicts/test_wclass_sh/292.jpg (deflated 3%)\n",
            "  adding: content/data/test_predicts/test_wclass_sh/310.jpg (deflated 3%)\n",
            "  adding: content/data/test_predicts/test_wclass_sh/351.jpg (deflated 3%)\n",
            "  adding: content/data/test_predicts/test_wclass_sh/255.jpg (deflated 3%)\n",
            "  adding: content/data/test_predicts/test_wclass_sh/9.jpg (deflated 3%)\n",
            "  adding: content/data/test_predicts/test_wclass_sh/418.jpg (deflated 3%)\n",
            "  adding: content/data/test_predicts/test_wclass_sh/303.jpg (deflated 3%)\n",
            "  adding: content/data/test_predicts/test_wclass_sh/254.jpg (deflated 3%)\n",
            "  adding: content/data/test_predicts/test_wclass_sh/266.jpg (deflated 3%)\n",
            "  adding: content/data/test_predicts/test_wclass_sh/318.jpg (deflated 4%)\n",
            "  adding: content/data/test_predicts/test_wclass_sh/512.jpg (deflated 3%)\n",
            "  adding: content/data/test_predicts/test_wclass_sh/304.jpg (deflated 3%)\n",
            "  adding: content/data/test_predicts/test_wclass_sh/187.jpg (deflated 3%)\n",
            "  adding: content/data/test_predicts/test_wclass_sh/209.jpg (deflated 3%)\n",
            "  adding: content/data/test_predicts/test_wclass_sh/164.jpg (deflated 3%)\n",
            "  adding: content/data/test_predicts/test_wclass_sh/366.jpg (deflated 3%)\n",
            "  adding: content/data/test_predicts/test_wclass_sh/416.jpg (deflated 3%)\n",
            "  adding: content/data/test_predicts/test_wclass_sh/396.jpg (deflated 3%)\n",
            "  adding: content/data/test_predicts/test_wclass_sh/269.jpg (deflated 3%)\n",
            "  adding: content/data/test_predicts/test_wclass_sh/388.jpg (deflated 3%)\n",
            "  adding: content/data/test_predicts/test_wclass_sh/400.jpg (deflated 3%)\n",
            "  adding: content/data/test_predicts/test_wclass_sh/427.jpg (deflated 3%)\n",
            "  adding: content/data/test_predicts/test_wclass_sh/75.jpg (deflated 3%)\n",
            "  adding: content/data/test_predicts/test_wclass_sh/502.jpg (deflated 3%)\n",
            "  adding: content/data/test_predicts/test_wclass_sh/85.jpg (deflated 3%)\n",
            "  adding: content/data/test_predicts/test_wclass_sh/98.jpg (deflated 3%)\n",
            "  adding: content/data/test_predicts/test_wclass_sh/2.jpg (deflated 3%)\n",
            "  adding: content/data/test_predicts/test_wclass_sh/328.jpg (deflated 3%)\n",
            "  adding: content/data/test_predicts/test_wclass_sh/456.jpg (deflated 3%)\n",
            "  adding: content/data/test_predicts/test_wclass_sh/287.jpg (deflated 3%)\n",
            "  adding: content/data/test_predicts/test_wclass_sh/92.jpg (deflated 3%)\n",
            "  adding: content/data/test_predicts/test_wclass_sh/484.jpg (deflated 3%)\n",
            "  adding: content/data/test_predicts/test_wclass_sh/437.jpg (deflated 3%)\n",
            "  adding: content/data/test_predicts/test_wclass_sh/153.jpg (deflated 3%)\n",
            "  adding: content/data/test_predicts/test_wclass_sh/336.jpg (deflated 4%)\n",
            "  adding: content/data/test_predicts/test_wclass_sh/286.jpg (deflated 3%)\n",
            "  adding: content/data/test_predicts/test_wclass_sh/39.jpg (deflated 3%)\n",
            "  adding: content/data/test_predicts/test_wclass_sh/211.jpg (deflated 3%)\n",
            "  adding: content/data/test_predicts/test_wclass_sh/488.jpg (deflated 3%)\n",
            "  adding: content/data/test_predicts/test_wclass_sh/200.jpg (deflated 3%)\n",
            "  adding: content/data/test_predicts/test_wclass_sh/220.jpg (deflated 3%)\n",
            "  adding: content/data/test_predicts/test_wclass_sh/470.jpg (deflated 3%)\n",
            "  adding: content/data/test_predicts/test_wclass_sh/417.jpg (deflated 3%)\n",
            "  adding: content/data/test_predicts/test_wclass_sh/37.jpg (deflated 3%)\n",
            "  adding: content/data/test_predicts/test_wclass_sh/492.jpg (deflated 3%)\n",
            "  adding: content/data/test_predicts/test_wclass_sh/333.jpg (deflated 4%)\n",
            "  adding: content/data/test_predicts/test_wclass_sh/452.jpg (deflated 3%)\n",
            "  adding: content/data/test_predicts/test_wclass_sh/410.jpg (deflated 3%)\n",
            "  adding: content/data/test_predicts/test_wclass_sh/290.jpg (deflated 3%)\n",
            "  adding: content/data/test_predicts/test_wclass_sh/285.jpg (deflated 3%)\n",
            "  adding: content/data/test_predicts/test_wclass_sh/330.jpg (deflated 4%)\n",
            "  adding: content/data/test_predicts/test_wclass_sh/393.jpg (deflated 3%)\n",
            "  adding: content/data/test_predicts/test_wclass_sh/32.jpg (deflated 3%)\n",
            "  adding: content/data/test_predicts/test_wclass_sh/5.jpg (deflated 3%)\n",
            "  adding: content/data/test_predicts/test_wclass_sh/356.jpg (deflated 3%)\n",
            "  adding: content/data/test_predicts/test_wclass_sh/277.jpg (deflated 3%)\n",
            "  adding: content/data/test_predicts/test_wclass_sh/13.jpg (deflated 3%)\n",
            "  adding: content/data/test_predicts/test_wclass_sh/60.jpg (deflated 3%)\n",
            "  adding: content/data/test_predicts/test_wclass_sh/199.jpg (deflated 3%)\n",
            "  adding: content/data/test_predicts/test_wclass_sh/320.jpg (deflated 4%)\n",
            "  adding: content/data/test_predicts/test_wclass_sh/68.jpg (deflated 3%)\n",
            "  adding: content/data/test_predicts/test_wclass_sh/244.jpg (deflated 3%)\n",
            "  adding: content/data/test_predicts/test_wclass_sh/465.jpg (deflated 3%)\n",
            "  adding: content/data/test_predicts/test_wclass_sh/334.jpg (deflated 4%)\n",
            "  adding: content/data/test_predicts/test_wclass_sh/179.jpg (deflated 3%)\n",
            "  adding: content/data/test_predicts/test_wclass_sh/300.jpg (deflated 3%)\n",
            "  adding: content/data/test_predicts/test_wclass_sh/384.jpg (deflated 3%)\n",
            "  adding: content/data/test_predicts/test_wclass_sh/263.jpg (deflated 3%)\n",
            "  adding: content/data/test_predicts/test_wclass_sh/323.jpg (deflated 4%)\n",
            "  adding: content/data/test_predicts/test_wclass_sh/348.jpg (deflated 3%)\n",
            "  adding: content/data/test_predicts/test_wclass_sh/41.jpg (deflated 3%)\n",
            "  adding: content/data/test_predicts/test_wclass_sh/390.jpg (deflated 3%)\n",
            "  adding: content/data/test_predicts/test_wclass_sh/109.jpg (deflated 3%)\n",
            "  adding: content/data/test_predicts/test_wclass_sh/500.jpg (deflated 3%)\n",
            "  adding: content/data/test_predicts/test_wclass_sh/55.jpg (deflated 3%)\n",
            "  adding: content/data/test_predicts/test_wclass_sh/301.jpg (deflated 3%)\n",
            "  adding: content/data/test_predicts/test_wclass_sh/307.jpg (deflated 3%)\n",
            "  adding: content/data/test_predicts/test_wclass_sh/222.jpg (deflated 3%)\n",
            "  adding: content/data/test_predicts/test_wclass_sh/383.jpg (deflated 3%)\n",
            "  adding: content/data/test_predicts/test_wclass_sh/150.jpg (deflated 3%)\n",
            "  adding: content/data/test_predicts/test_wclass_sh/71.jpg (deflated 3%)\n",
            "  adding: content/data/test_predicts/test_wclass_sh/451.jpg (deflated 3%)\n",
            "  adding: content/data/test_predicts/test_wclass_sh/476.jpg (deflated 3%)\n",
            "  adding: content/data/test_predicts/test_wclass_sh/125.jpg (deflated 4%)\n",
            "  adding: content/data/test_predicts/test_wclass_sh/101.jpg (deflated 3%)\n",
            "  adding: content/data/test_predicts/test_wclass_sh/189.jpg (deflated 3%)\n",
            "  adding: content/data/test_predicts/test_wclass_sh/434.jpg (deflated 3%)\n",
            "  adding: content/data/test_predicts/test_wclass_sh/69.jpg (deflated 3%)\n",
            "  adding: content/data/test_predicts/test_wclass_sh/350.jpg (deflated 3%)\n",
            "  adding: content/data/test_predicts/test_wclass_sh/274.jpg (deflated 3%)\n",
            "  adding: content/data/test_predicts/test_wclass_sh/261.jpg (deflated 3%)\n",
            "  adding: content/data/test_predicts/test_wclass_sh/114.jpg (deflated 3%)\n",
            "  adding: content/data/test_predicts/test_wclass_sh/295.jpg (deflated 3%)\n",
            "  adding: content/data/test_predicts/test_wclass_sh/483.jpg (deflated 3%)\n",
            "  adding: content/data/test_predicts/test_wclass_sh/344.jpg (deflated 3%)\n",
            "  adding: content/data/test_predicts/test_wclass_sh/260.jpg (deflated 3%)\n",
            "  adding: content/data/test_predicts/test_wclass_sh/212.jpg (deflated 3%)\n",
            "  adding: content/data/test_predicts/test_wclass_sh/498.jpg (deflated 3%)\n",
            "  adding: content/data/test_predicts/test_wclass_sh/402.jpg (deflated 3%)\n",
            "  adding: content/data/test_predicts/test_wclass_sh/469.jpg (deflated 3%)\n",
            "  adding: content/data/test_predicts/test_wclass_sh/76.jpg (deflated 3%)\n",
            "  adding: content/data/test_predicts/test_wclass_sh/100.jpg (deflated 3%)\n",
            "  adding: content/data/test_predicts/test_wclass_sh/509.jpg (deflated 3%)\n",
            "  adding: content/data/test_predicts/test_wclass_sh/371.jpg (deflated 3%)\n",
            "  adding: content/data/test_predicts/test_wclass_sh/25.jpg (deflated 3%)\n",
            "  adding: content/data/test_predicts/test_wclass_sh/157.jpg (deflated 3%)\n",
            "  adding: content/data/test_predicts/test_wclass_sh/409.jpg (deflated 3%)\n",
            "  adding: content/data/test_predicts/test_wclass_sh/347.jpg (deflated 3%)\n",
            "  adding: content/data/test_predicts/test_wclass_sh/397.jpg (deflated 3%)\n",
            "  adding: content/data/test_predicts/test_wclass_sh/77.jpg (deflated 3%)\n",
            "  adding: content/data/test_predicts/test_wclass_sh/70.jpg (deflated 3%)\n",
            "  adding: content/data/test_predicts/test_wclass_sh/238.jpg (deflated 3%)\n",
            "  adding: content/data/test_predicts/test_wclass_sh/40.jpg (deflated 3%)\n",
            "  adding: content/data/test_predicts/test_wclass_sh/139.jpg (deflated 3%)\n",
            "  adding: content/data/test_predicts/test_wclass_sh/376.jpg (deflated 3%)\n",
            "  adding: content/data/test_predicts/test_wclass_sh/517.jpg (deflated 3%)\n",
            "  adding: content/data/test_predicts/test_wclass_sh/389.jpg (deflated 3%)\n",
            "  adding: content/data/test_predicts/test_wclass_sh/113.jpg (deflated 3%)\n",
            "  adding: content/data/test_predicts/test_wclass_sh/340.jpg (deflated 3%)\n",
            "  adding: content/data/test_predicts/test_wclass_sh/408.jpg (deflated 3%)\n",
            "  adding: content/data/test_predicts/test_wclass_sh/148.jpg (deflated 3%)\n",
            "  adding: content/data/test_predicts/test_wclass_sh/405.jpg (deflated 3%)\n",
            "  adding: content/data/test_predicts/test_wclass_sh/239.jpg (deflated 3%)\n",
            "  adding: content/data/test_predicts/test_wclass_sh/299.jpg (deflated 3%)\n",
            "  adding: content/data/test_predicts/test_wclass_sh/493.jpg (deflated 3%)\n",
            "  adding: content/data/test_predicts/test_wclass_sh/84.jpg (deflated 3%)\n",
            "  adding: content/data/test_predicts/test_wclass_sh/141.jpg (deflated 4%)\n",
            "  adding: content/data/test_predicts/test_wclass_sh/503.jpg (deflated 3%)\n",
            "  adding: content/data/test_predicts/test_wclass_sh/195.jpg (deflated 3%)\n",
            "  adding: content/data/test_predicts/test_wclass_sh/505.jpg (deflated 3%)\n",
            "  adding: content/data/test_predicts/test_wclass_sh/335.jpg (deflated 4%)\n",
            "  adding: content/data/test_predicts/test_wclass_sh/327.jpg (deflated 4%)\n",
            "  adding: content/data/test_predicts/test_wclass_sh/103.jpg (deflated 3%)\n",
            "  adding: content/data/test_predicts/test_wclass_sh/213.jpg (deflated 3%)\n",
            "  adding: content/data/test_predicts/test_wclass_sh/123.jpg (deflated 3%)\n",
            "  adding: content/data/test_predicts/test_wclass_sh/463.jpg (deflated 3%)\n",
            "  adding: content/data/test_predicts/test_wclass_sh/190.jpg (deflated 3%)\n",
            "  adding: content/data/test_predicts/test_wclass_sh/203.jpg (deflated 3%)\n",
            "  adding: content/data/test_predicts/test_wclass_sh/374.jpg (deflated 3%)\n",
            "  adding: content/data/test_predicts/test_wclass_sh/67.jpg (deflated 3%)\n",
            "  adding: content/data/test_predicts/test_wclass_sh/90.jpg (deflated 3%)\n",
            "  adding: content/data/test_predicts/test_wclass_sh/151.jpg (deflated 3%)\n",
            "  adding: content/data/test_predicts/test_wclass_sh/231.jpg (deflated 3%)\n",
            "  adding: content/data/test_predicts/test_wclass_sh/273.jpg (deflated 3%)\n",
            "  adding: content/data/test_predicts/test_wclass_sh/420.jpg (deflated 3%)\n",
            "  adding: content/data/test_predicts/test_wclass_sh/172.jpg (deflated 3%)\n",
            "  adding: content/data/test_predicts/test_wclass_sh/252.jpg (deflated 3%)\n",
            "  adding: content/data/test_predicts/test_wclass_sh/99.jpg (deflated 3%)\n",
            "  adding: content/data/test_predicts/test_wclass_sh/251.jpg (deflated 3%)\n",
            "  adding: content/data/test_predicts/test_wclass_sh/130.jpg (deflated 3%)\n",
            "  adding: content/data/test_predicts/test_wclass_sh/219.jpg (deflated 3%)\n",
            "  adding: content/data/test_predicts/test_wclass_sh/468.jpg (deflated 3%)\n",
            "  adding: content/data/test_predicts/test_wclass_sh/478.jpg (deflated 3%)\n",
            "  adding: content/data/test_predicts/test_wclass_sh/160.jpg (deflated 3%)\n",
            "  adding: content/data/test_predicts/test_wclass_sh/230.jpg (deflated 3%)\n",
            "  adding: content/data/test_predicts/test_wclass_sh/411.jpg (deflated 3%)\n",
            "  adding: content/data/test_predicts/test_wclass_sh/1.jpg (deflated 3%)\n",
            "  adding: content/data/test_predicts/test_wclass_sh/115.jpg (deflated 4%)\n",
            "  adding: content/data/test_predicts/test_wclass_sh/138.jpg (deflated 3%)\n",
            "  adding: content/data/test_predicts/test_wclass_sh/14.jpg (deflated 3%)\n",
            "  adding: content/data/test_predicts/test_wclass_sh/7.jpg (deflated 3%)\n",
            "  adding: content/data/test_predicts/test_wclass_sh/137.jpg (deflated 3%)\n",
            "  adding: content/data/test_predicts/test_wclass_sh/447.jpg (deflated 3%)\n",
            "  adding: content/data/test_predicts/test_wclass_sh/360.jpg (deflated 3%)\n",
            "  adding: content/data/test_predicts/test_wclass_sh/171.jpg (deflated 3%)\n",
            "  adding: content/data/test_predicts/test_wclass_sh/143.jpg (deflated 4%)\n",
            "  adding: content/data/test_predicts/test_wclass_sh/227.jpg (deflated 3%)\n",
            "  adding: content/data/test_predicts/test_wclass_sh/193.jpg (deflated 3%)\n",
            "  adding: content/data/test_predicts/test_wclass_sh/19.jpg (deflated 3%)\n",
            "  adding: content/data/test_predicts/test_wclass_sh/87.jpg (deflated 3%)\n",
            "  adding: content/data/test_predicts/test_wclass_sh/481.jpg (deflated 3%)\n",
            "  adding: content/data/test_predicts/test_wclass_sh/72.jpg (deflated 3%)\n",
            "  adding: content/data/test_predicts/test_wclass_sh/513.jpg (deflated 3%)\n",
            "  adding: content/data/test_predicts/test_wclass_sh/268.jpg (deflated 3%)\n",
            "  adding: content/data/test_predicts/test_wclass_sh/412.jpg (deflated 3%)\n",
            "  adding: content/data/test_predicts/test_wclass_sh/449.jpg (deflated 3%)\n",
            "  adding: content/data/test_predicts/test_wclass_sh/132.jpg (deflated 4%)\n",
            "  adding: content/data/test_predicts/test_wclass_sh/65.jpg (deflated 3%)\n",
            "  adding: content/data/test_predicts/test_wclass_sh/166.jpg (deflated 3%)\n",
            "  adding: content/data/test_predicts/test_wclass_sh/490.jpg (deflated 3%)\n",
            "  adding: content/data/test_predicts/test_wclass_sh/345.jpg (deflated 3%)\n",
            "  adding: content/data/test_predicts/test_wclass_sh/264.jpg (deflated 3%)\n",
            "  adding: content/data/test_predicts/test_wclass_sh/207.jpg (deflated 3%)\n",
            "  adding: content/data/test_predicts/test_wclass_sh/4.jpg (deflated 3%)\n",
            "  adding: content/data/test_predicts/test_wclass_sh/471.jpg (deflated 3%)\n",
            "  adding: content/data/test_predicts/test_wclass_sh/308.jpg (deflated 3%)\n",
            "  adding: content/data/test_predicts/test_wclass_sh/129.jpg (deflated 3%)\n",
            "  adding: content/data/test_predicts/test_wclass_sh/215.jpg (deflated 3%)\n",
            "  adding: content/data/test_predicts/test_wclass_sh/486.jpg (deflated 3%)\n",
            "  adding: content/data/test_predicts/test_wclass_sh/126.jpg (deflated 3%)\n",
            "  adding: content/data/test_predicts/test_wclass_sh/296.jpg (deflated 3%)\n",
            "  adding: content/data/test_predicts/test_wclass_sh/433.jpg (deflated 3%)\n",
            "  adding: content/data/test_predicts/test_wclass_sh/293.jpg (deflated 3%)\n",
            "  adding: content/data/test_predicts/test_wclass_sh/253.jpg (deflated 3%)\n",
            "  adding: content/data/test_predicts/test_wclass_sh/297.jpg (deflated 3%)\n",
            "  adding: content/data/test_predicts/test_wclass_sh/112.jpg (deflated 3%)\n",
            "  adding: content/data/test_predicts/test_wclass_sh/8.jpg (deflated 3%)\n",
            "  adding: content/data/test_predicts/test_wclass_sh/407.jpg (deflated 3%)\n",
            "  adding: content/data/test_predicts/test_wclass_sh/182.jpg (deflated 3%)\n",
            "  adding: content/data/test_predicts/test_wclass_sh/487.jpg (deflated 3%)\n",
            "  adding: content/data/test_predicts/test_wclass_sh/180.jpg (deflated 4%)\n",
            "  adding: content/data/test_predicts/test_wclass_sh/423.jpg (deflated 3%)\n",
            "  adding: content/data/test_predicts/test_wclass_sh/508.jpg (deflated 3%)\n",
            "  adding: content/data/test_predicts/test_wclass_sh/518.jpg (deflated 3%)\n",
            "  adding: content/data/test_predicts/test_wclass_sh/0.jpg (deflated 3%)\n",
            "  adding: content/data/test_predicts/test_wclass_sh/372.jpg (deflated 3%)\n",
            "  adding: content/data/test_predicts/test_wclass_sh/12.jpg (deflated 3%)\n",
            "  adding: content/data/test_predicts/test_wclass_sh/95.jpg (deflated 3%)\n",
            "  adding: content/data/test_predicts/test_wclass_sh/358.jpg (deflated 3%)\n",
            "  adding: content/data/test_predicts/test_wclass_sh/57.jpg (deflated 3%)\n",
            "  adding: content/data/test_predicts/test_wclass_sh/111.jpg (deflated 3%)\n",
            "  adding: content/data/test_predicts/test_wclass_sh/291.jpg (deflated 3%)\n",
            "  adding: content/data/test_predicts/test_wclass_sh/124.jpg (deflated 3%)\n",
            "  adding: content/data/test_predicts/test_wclass_sh/233.jpg (deflated 3%)\n",
            "  adding: content/data/test_predicts/test_wclass_sh/279.jpg (deflated 3%)\n",
            "  adding: content/data/test_predicts/test_wclass_sh/3.jpg (deflated 3%)\n",
            "  adding: content/data/test_predicts/test_wclass_sh/370.jpg (deflated 3%)\n",
            "  adding: content/data/test_predicts/test_wclass_sh/317.jpg (deflated 4%)\n",
            "  adding: content/data/test_predicts/test_wclass_sh/201.jpg (deflated 3%)\n"
          ]
        }
      ]
    },
    {
      "cell_type": "code",
      "metadata": {
        "id": "cJ8E6kLef9-m"
      },
      "source": [
        "!cp /content/test_wclass_sh.zip /content/drive/MyDrive/Studies/Intern/test/"
      ],
      "execution_count": 43,
      "outputs": []
    },
    {
      "cell_type": "code",
      "metadata": {
        "id": "efrfIhNJy3ma"
      },
      "source": [
        ""
      ],
      "execution_count": null,
      "outputs": []
    }
  ]
}